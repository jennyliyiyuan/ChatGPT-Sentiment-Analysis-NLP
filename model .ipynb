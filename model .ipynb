{
 "cells": [
  {
   "cell_type": "code",
   "execution_count": 2,
   "metadata": {
    "colab": {
     "base_uri": "https://localhost:8080/"
    },
    "id": "VGYIsVpj3LwH",
    "outputId": "7266aa96-458c-4877-d2bb-a3b646517266"
   },
   "outputs": [
    {
     "name": "stdout",
     "output_type": "stream",
     "text": [
      "Requirement already satisfied: wordcloud in /Users/jennyli/opt/anaconda3/lib/python3.9/site-packages (1.8.2.2)\n",
      "Requirement already satisfied: pillow in /Users/jennyli/opt/anaconda3/lib/python3.9/site-packages (from wordcloud) (9.2.0)\n",
      "Requirement already satisfied: matplotlib in /Users/jennyli/opt/anaconda3/lib/python3.9/site-packages (from wordcloud) (3.5.2)\n",
      "Requirement already satisfied: numpy>=1.6.1 in /Users/jennyli/opt/anaconda3/lib/python3.9/site-packages (from wordcloud) (1.21.5)\n",
      "Requirement already satisfied: fonttools>=4.22.0 in /Users/jennyli/opt/anaconda3/lib/python3.9/site-packages (from matplotlib->wordcloud) (4.25.0)\n",
      "Requirement already satisfied: python-dateutil>=2.7 in /Users/jennyli/opt/anaconda3/lib/python3.9/site-packages (from matplotlib->wordcloud) (2.8.2)\n",
      "Requirement already satisfied: cycler>=0.10 in /Users/jennyli/opt/anaconda3/lib/python3.9/site-packages (from matplotlib->wordcloud) (0.11.0)\n",
      "Requirement already satisfied: kiwisolver>=1.0.1 in /Users/jennyli/opt/anaconda3/lib/python3.9/site-packages (from matplotlib->wordcloud) (1.4.2)\n",
      "Requirement already satisfied: pyparsing>=2.2.1 in /Users/jennyli/opt/anaconda3/lib/python3.9/site-packages (from matplotlib->wordcloud) (3.0.9)\n",
      "Requirement already satisfied: packaging>=20.0 in /Users/jennyli/opt/anaconda3/lib/python3.9/site-packages (from matplotlib->wordcloud) (21.3)\n",
      "Requirement already satisfied: six>=1.5 in /Users/jennyli/opt/anaconda3/lib/python3.9/site-packages (from python-dateutil>=2.7->matplotlib->wordcloud) (1.16.0)\n"
     ]
    }
   ],
   "source": [
    "import numpy as np\n",
    "import pandas as pd\n",
    "import matplotlib.pyplot as plt\n",
    "import seaborn as sns\n",
    "! pip install wordcloud\n",
    "from wordcloud import WordCloud, STOPWORDS\n",
    "from PIL import Image\n",
    "\n",
    "%matplotlib inline"
   ]
  },
  {
   "cell_type": "code",
   "execution_count": 3,
   "metadata": {
    "colab": {
     "base_uri": "https://localhost:8080/",
     "height": 419
    },
    "id": "ImJkJy7D3Tjg",
    "outputId": "d075ade3-57c7-4320-8e1c-f2510255e216"
   },
   "outputs": [
    {
     "data": {
      "text/html": [
       "<div>\n",
       "<style scoped>\n",
       "    .dataframe tbody tr th:only-of-type {\n",
       "        vertical-align: middle;\n",
       "    }\n",
       "\n",
       "    .dataframe tbody tr th {\n",
       "        vertical-align: top;\n",
       "    }\n",
       "\n",
       "    .dataframe thead th {\n",
       "        text-align: right;\n",
       "    }\n",
       "</style>\n",
       "<table border=\"1\" class=\"dataframe\">\n",
       "  <thead>\n",
       "    <tr style=\"text-align: right;\">\n",
       "      <th></th>\n",
       "      <th>Unnamed: 0</th>\n",
       "      <th>tweets</th>\n",
       "      <th>labels</th>\n",
       "    </tr>\n",
       "  </thead>\n",
       "  <tbody>\n",
       "    <tr>\n",
       "      <th>0</th>\n",
       "      <td>0</td>\n",
       "      <td>ChatGPT: Optimizing Language Models for Dialog...</td>\n",
       "      <td>neutral</td>\n",
       "    </tr>\n",
       "    <tr>\n",
       "      <th>1</th>\n",
       "      <td>1</td>\n",
       "      <td>Try talking with ChatGPT, our new AI system wh...</td>\n",
       "      <td>good</td>\n",
       "    </tr>\n",
       "    <tr>\n",
       "      <th>2</th>\n",
       "      <td>2</td>\n",
       "      <td>ChatGPT: Optimizing Language Models for Dialog...</td>\n",
       "      <td>neutral</td>\n",
       "    </tr>\n",
       "    <tr>\n",
       "      <th>3</th>\n",
       "      <td>3</td>\n",
       "      <td>THRILLED to share that ChatGPT, our new model ...</td>\n",
       "      <td>good</td>\n",
       "    </tr>\n",
       "    <tr>\n",
       "      <th>4</th>\n",
       "      <td>4</td>\n",
       "      <td>As of 2 minutes ago, @OpenAI released their ne...</td>\n",
       "      <td>bad</td>\n",
       "    </tr>\n",
       "    <tr>\n",
       "      <th>...</th>\n",
       "      <td>...</td>\n",
       "      <td>...</td>\n",
       "      <td>...</td>\n",
       "    </tr>\n",
       "    <tr>\n",
       "      <th>219289</th>\n",
       "      <td>219289</td>\n",
       "      <td>Other Software Projects Are Now Trying to Repl...</td>\n",
       "      <td>bad</td>\n",
       "    </tr>\n",
       "    <tr>\n",
       "      <th>219290</th>\n",
       "      <td>219290</td>\n",
       "      <td>I asked #ChatGPT to write a #NYE Joke for SEOs...</td>\n",
       "      <td>good</td>\n",
       "    </tr>\n",
       "    <tr>\n",
       "      <th>219291</th>\n",
       "      <td>219291</td>\n",
       "      <td>chatgpt is being disassembled until it can onl...</td>\n",
       "      <td>bad</td>\n",
       "    </tr>\n",
       "    <tr>\n",
       "      <th>219292</th>\n",
       "      <td>219292</td>\n",
       "      <td>2023 predictions by #chatGPT. Nothing really s...</td>\n",
       "      <td>bad</td>\n",
       "    </tr>\n",
       "    <tr>\n",
       "      <th>219293</th>\n",
       "      <td>219293</td>\n",
       "      <td>From ChatGPT, neat stuff https://t.co/qjjUF2Z2m0</td>\n",
       "      <td>neutral</td>\n",
       "    </tr>\n",
       "  </tbody>\n",
       "</table>\n",
       "<p>219294 rows × 3 columns</p>\n",
       "</div>"
      ],
      "text/plain": [
       "        Unnamed: 0                                             tweets   labels\n",
       "0                0  ChatGPT: Optimizing Language Models for Dialog...  neutral\n",
       "1                1  Try talking with ChatGPT, our new AI system wh...     good\n",
       "2                2  ChatGPT: Optimizing Language Models for Dialog...  neutral\n",
       "3                3  THRILLED to share that ChatGPT, our new model ...     good\n",
       "4                4  As of 2 minutes ago, @OpenAI released their ne...      bad\n",
       "...            ...                                                ...      ...\n",
       "219289      219289  Other Software Projects Are Now Trying to Repl...      bad\n",
       "219290      219290  I asked #ChatGPT to write a #NYE Joke for SEOs...     good\n",
       "219291      219291  chatgpt is being disassembled until it can onl...      bad\n",
       "219292      219292  2023 predictions by #chatGPT. Nothing really s...      bad\n",
       "219293      219293   From ChatGPT, neat stuff https://t.co/qjjUF2Z2m0  neutral\n",
       "\n",
       "[219294 rows x 3 columns]"
      ]
     },
     "execution_count": 3,
     "metadata": {},
     "output_type": "execute_result"
    }
   ],
   "source": [
    "df=pd.read_csv('file.csv')\n",
    "df"
   ]
  },
  {
   "cell_type": "code",
   "execution_count": 3,
   "metadata": {
    "id": "EXntf_38a9gN"
   },
   "outputs": [],
   "source": [
    "df.drop(labels='Unnamed: 0',axis=1,inplace=True)"
   ]
  },
  {
   "cell_type": "code",
   "execution_count": 4,
   "metadata": {
    "id": "RXxP91Uv6PF_"
   },
   "outputs": [],
   "source": [
    "# Remove all the tweet links since they all begin with https:\n",
    "df['tweet_list'] = df['tweets'].str.split('https:')"
   ]
  },
  {
   "cell_type": "code",
   "execution_count": 5,
   "metadata": {
    "id": "ZtncAvVR6gAj"
   },
   "outputs": [],
   "source": [
    "# Select the text part of the list\n",
    "\n",
    "text = [i[0] for i in df.tweet_list]\n",
    "df['text'] = text\n",
    "df = df[['text', 'labels']]"
   ]
  },
  {
   "cell_type": "code",
   "execution_count": 6,
   "metadata": {
    "id": "qBiYVQbB6_WJ"
   },
   "outputs": [],
   "source": [
    "# Import re for string processing\n",
    "import re"
   ]
  },
  {
   "cell_type": "code",
   "execution_count": 7,
   "metadata": {
    "id": "Q86vPXCLXz6x"
   },
   "outputs": [],
   "source": [
    "# Remove all non-alphanumeric characters from the text list\n",
    "\n",
    "string = r'[A-Za-z0-9 ]'\n",
    "\n",
    "trim_list=[]\n",
    "\n",
    "for row in text:\n",
    "    s=''\n",
    "    for letter in row:\n",
    "        if bool(re.match(string, letter)):\n",
    "            s+=letter\n",
    "    trim_list.append(s)"
   ]
  },
  {
   "cell_type": "code",
   "execution_count": 8,
   "metadata": {
    "id": "FIuN1YnlX3BC"
   },
   "outputs": [],
   "source": [
    "# Remove the non-printing characters from text\n",
    "\n",
    "rep_list = ['\\U0001fae1', '\\\\n', '@', '#', '\\xa0', '***', 'https', 'nhttps']\n",
    "\n",
    "for i in trim_list:\n",
    "    for j in rep_list:\n",
    "        if j in i:\n",
    "            i.replace(j,'')"
   ]
  },
  {
   "cell_type": "code",
   "execution_count": 9,
   "metadata": {
    "colab": {
     "base_uri": "https://localhost:8080/"
    },
    "id": "iFWDrj9RX_jT",
    "outputId": "5e7b92b0-296f-4b4f-dac2-f195c5b9d83f"
   },
   "outputs": [
    {
     "name": "stderr",
     "output_type": "stream",
     "text": [
      "/var/folders/hf/6zg0sbl14sschp84hqddb7k00000gn/T/ipykernel_25248/979011282.py:1: SettingWithCopyWarning: \n",
      "A value is trying to be set on a copy of a slice from a DataFrame.\n",
      "Try using .loc[row_indexer,col_indexer] = value instead\n",
      "\n",
      "See the caveats in the documentation: https://pandas.pydata.org/pandas-docs/stable/user_guide/indexing.html#returning-a-view-versus-a-copy\n",
      "  df['text'] = trim_list\n"
     ]
    }
   ],
   "source": [
    "df['text'] = trim_list"
   ]
  },
  {
   "cell_type": "code",
   "execution_count": 10,
   "metadata": {
    "colab": {
     "base_uri": "https://localhost:8080/",
     "height": 204
    },
    "id": "-pejjqVmYEBg",
    "outputId": "7f9d56fc-45f4-4ae1-e92a-c83001172cbe"
   },
   "outputs": [
    {
     "data": {
      "text/html": [
       "<div>\n",
       "<style scoped>\n",
       "    .dataframe tbody tr th:only-of-type {\n",
       "        vertical-align: middle;\n",
       "    }\n",
       "\n",
       "    .dataframe tbody tr th {\n",
       "        vertical-align: top;\n",
       "    }\n",
       "\n",
       "    .dataframe thead th {\n",
       "        text-align: right;\n",
       "    }\n",
       "</style>\n",
       "<table border=\"1\" class=\"dataframe\">\n",
       "  <thead>\n",
       "    <tr style=\"text-align: right;\">\n",
       "      <th></th>\n",
       "      <th>text</th>\n",
       "      <th>labels</th>\n",
       "    </tr>\n",
       "  </thead>\n",
       "  <tbody>\n",
       "    <tr>\n",
       "      <th>0</th>\n",
       "      <td>ChatGPT Optimizing Language Models for Dialogue</td>\n",
       "      <td>neutral</td>\n",
       "    </tr>\n",
       "    <tr>\n",
       "      <th>1</th>\n",
       "      <td>Try talking with ChatGPT our new AI system whi...</td>\n",
       "      <td>good</td>\n",
       "    </tr>\n",
       "    <tr>\n",
       "      <th>2</th>\n",
       "      <td>ChatGPT Optimizing Language Models for Dialogue</td>\n",
       "      <td>neutral</td>\n",
       "    </tr>\n",
       "    <tr>\n",
       "      <th>3</th>\n",
       "      <td>THRILLED to share that ChatGPT our new model o...</td>\n",
       "      <td>good</td>\n",
       "    </tr>\n",
       "    <tr>\n",
       "      <th>4</th>\n",
       "      <td>As of 2 minutes ago OpenAI released their new ...</td>\n",
       "      <td>bad</td>\n",
       "    </tr>\n",
       "  </tbody>\n",
       "</table>\n",
       "</div>"
      ],
      "text/plain": [
       "                                                text   labels\n",
       "0   ChatGPT Optimizing Language Models for Dialogue   neutral\n",
       "1  Try talking with ChatGPT our new AI system whi...     good\n",
       "2   ChatGPT Optimizing Language Models for Dialogue   neutral\n",
       "3  THRILLED to share that ChatGPT our new model o...     good\n",
       "4  As of 2 minutes ago OpenAI released their new ...      bad"
      ]
     },
     "execution_count": 10,
     "metadata": {},
     "output_type": "execute_result"
    }
   ],
   "source": [
    "df.head()"
   ]
  },
  {
   "cell_type": "code",
   "execution_count": 11,
   "metadata": {
    "colab": {
     "base_uri": "https://localhost:8080/"
    },
    "id": "O1X4HlFEauax",
    "outputId": "f603d0fd-d321-4b16-e1f6-6fbda9f746bb"
   },
   "outputs": [
    {
     "data": {
      "text/plain": [
       "Index(['text', 'labels'], dtype='object')"
      ]
     },
     "execution_count": 11,
     "metadata": {},
     "output_type": "execute_result"
    }
   ],
   "source": [
    "df.columns"
   ]
  },
  {
   "cell_type": "markdown",
   "metadata": {
    "id": "wYJYVkz6at73"
   },
   "source": [
    "describe and visualize data"
   ]
  },
  {
   "cell_type": "code",
   "execution_count": 12,
   "metadata": {
    "colab": {
     "base_uri": "https://localhost:8080/",
     "height": 173
    },
    "id": "drzxfBP0asiB",
    "outputId": "64e555da-ca1c-4f1d-ca4a-8a9e4fd27f53"
   },
   "outputs": [
    {
     "data": {
      "text/html": [
       "<div>\n",
       "<style scoped>\n",
       "    .dataframe tbody tr th:only-of-type {\n",
       "        vertical-align: middle;\n",
       "    }\n",
       "\n",
       "    .dataframe tbody tr th {\n",
       "        vertical-align: top;\n",
       "    }\n",
       "\n",
       "    .dataframe thead th {\n",
       "        text-align: right;\n",
       "    }\n",
       "</style>\n",
       "<table border=\"1\" class=\"dataframe\">\n",
       "  <thead>\n",
       "    <tr style=\"text-align: right;\">\n",
       "      <th></th>\n",
       "      <th>text</th>\n",
       "      <th>labels</th>\n",
       "    </tr>\n",
       "  </thead>\n",
       "  <tbody>\n",
       "    <tr>\n",
       "      <th>count</th>\n",
       "      <td>219294</td>\n",
       "      <td>219294</td>\n",
       "    </tr>\n",
       "    <tr>\n",
       "      <th>unique</th>\n",
       "      <td>194512</td>\n",
       "      <td>3</td>\n",
       "    </tr>\n",
       "    <tr>\n",
       "      <th>top</th>\n",
       "      <td></td>\n",
       "      <td>bad</td>\n",
       "    </tr>\n",
       "    <tr>\n",
       "      <th>freq</th>\n",
       "      <td>872</td>\n",
       "      <td>107796</td>\n",
       "    </tr>\n",
       "  </tbody>\n",
       "</table>\n",
       "</div>"
      ],
      "text/plain": [
       "          text  labels\n",
       "count   219294  219294\n",
       "unique  194512       3\n",
       "top                bad\n",
       "freq       872  107796"
      ]
     },
     "execution_count": 12,
     "metadata": {},
     "output_type": "execute_result"
    }
   ],
   "source": [
    "df.describe(include='object')"
   ]
  },
  {
   "cell_type": "code",
   "execution_count": 13,
   "metadata": {
    "colab": {
     "base_uri": "https://localhost:8080/"
    },
    "id": "A67pQOnvoSoG",
    "outputId": "3cd75f52-de58-4906-9fcb-e9474142c783"
   },
   "outputs": [
    {
     "name": "stdout",
     "output_type": "stream",
     "text": [
      "Missing values:\n",
      " Unnamed: 0    0\n",
      "tweets        0\n",
      "labels        0\n",
      "dtype: int64\n",
      "Summary statistics:\n",
      "           Unnamed: 0\n",
      "count  219294.000000\n",
      "mean   109646.500000\n",
      "std     63304.869303\n",
      "min         0.000000\n",
      "25%     54823.250000\n",
      "50%    109646.500000\n",
      "75%    164469.750000\n",
      "max    219293.000000\n"
     ]
    }
   ],
   "source": [
    "import pandas as pd\n",
    "import numpy as np\n",
    "import matplotlib.pyplot as plt\n",
    "\n",
    "# Load dataset into a pandas dataframe\n",
    "df = pd.read_csv('file.csv')\n",
    "# Check for missing values\n",
    "print('Missing values:\\n', df.isnull().sum())\n",
    "# Print summary statistics\n",
    "print('Summary statistics:\\n', df.describe())"
   ]
  },
  {
   "cell_type": "code",
   "execution_count": 14,
   "metadata": {
    "colab": {
     "base_uri": "https://localhost:8080/"
    },
    "id": "O3pF93Zjo84r",
    "outputId": "bb05aee9-e2ff-4430-e6bb-5cc0f7953046"
   },
   "outputs": [
    {
     "data": {
      "text/plain": [
       "Index(['Unnamed: 0', 'tweets', 'labels'], dtype='object')"
      ]
     },
     "execution_count": 14,
     "metadata": {},
     "output_type": "execute_result"
    }
   ],
   "source": [
    "df.columns"
   ]
  },
  {
   "cell_type": "markdown",
   "metadata": {
    "id": "camlsem4iuUS"
   },
   "source": [
    "Models selection"
   ]
  },
  {
   "cell_type": "markdown",
   "metadata": {
    "id": "PyBtJqJ7oSoI"
   },
   "source": [
    "#1 Text Pre-Processing"
   ]
  },
  {
   "cell_type": "code",
   "execution_count": 4,
   "metadata": {
    "colab": {
     "base_uri": "https://localhost:8080/"
    },
    "id": "O3reX_l_itf_",
    "outputId": "6e454318-adf1-4b03-ebdf-e975389b79cf"
   },
   "outputs": [
    {
     "name": "stderr",
     "output_type": "stream",
     "text": [
      "[nltk_data] Downloading package punkt to /Users/jennyli/nltk_data...\n",
      "[nltk_data]   Package punkt is already up-to-date!\n",
      "[nltk_data] Downloading package stopwords to\n",
      "[nltk_data]     /Users/jennyli/nltk_data...\n",
      "[nltk_data]   Package stopwords is already up-to-date!\n"
     ]
    }
   ],
   "source": [
    "import nltk\n",
    "nltk.download('punkt') # downloads you a model\n",
    "nltk.download('stopwords') \n",
    "from nltk.corpus import stopwords\n",
    "stop = set(stopwords.words('english'))\n",
    "# print(stop)\n",
    "from nltk.tokenize import word_tokenize\n",
    "from nltk.tokenize import sent_tokenize\n",
    "from nltk.stem import PorterStemmer \n",
    "ps = PorterStemmer() \n",
    "\n",
    "# return a list of tokens\n",
    "def pre_processing_by_nltk(doc, stemming = True, need_sent = False):\n",
    "    # step 1: get sentences\n",
    "    sentences = sent_tokenize(doc)\n",
    "    # step 2: get tokens\n",
    "    tokens = []\n",
    "    for sent in sentences:\n",
    "        words = word_tokenize(sent)\n",
    "        # step 3 (optional): stemming\n",
    "        if stemming:\n",
    "            words = [ps.stem(word) for word in words]\n",
    "        if need_sent:\n",
    "            tokens.append(words)\n",
    "        else:\n",
    "            tokens += words\n",
    "    return [w.lower() for w in tokens if w.lower() not in stop]"
   ]
  },
  {
   "cell_type": "code",
   "execution_count": 5,
   "metadata": {
    "colab": {
     "base_uri": "https://localhost:8080/"
    },
    "id": "r5-eOxDPoSoJ",
    "outputId": "2fad1feb-11f5-4bfd-e24f-9d6d2f17d353"
   },
   "outputs": [
    {
     "data": {
      "text/plain": [
       "0         [chatgpt, :, optim, languag, model, dialogu, h...\n",
       "1         [tri, talk, chatgpt, ,, new, ai, system, optim...\n",
       "2         [chatgpt, :, optim, languag, model, dialogu, h...\n",
       "3         [thrill, share, chatgpt, ,, new, model, optim,...\n",
       "4         [2, minut, ago, ,, @, openai, releas, new, cha...\n",
       "                                ...                        \n",
       "219289    [softwar, project, tri, replic, chatgpt, http,...\n",
       "219290    [ask, #, chatgpt, write, #, nye, joke, seo, de...\n",
       "219291                [chatgpt, disassembl, onli, dissembl]\n",
       "219292    [2023, predict, #, chatgpt, ., noth, realli, s...\n",
       "219293    [chatgpt, ,, neat, stuff, http, :, //t.co/qjju...\n",
       "Name: tweets, Length: 219294, dtype: object"
      ]
     },
     "execution_count": 5,
     "metadata": {},
     "output_type": "execute_result"
    }
   ],
   "source": [
    "df.tweets.apply(pre_processing_by_nltk)"
   ]
  },
  {
   "cell_type": "markdown",
   "metadata": {},
   "source": [
    "Testing Zip'f Law"
   ]
  },
  {
   "cell_type": "markdown",
   "metadata": {
    "id": "eCQiTkk7oSoJ"
   },
   "source": [
    "#2 Bag Of Words"
   ]
  },
  {
   "cell_type": "code",
   "execution_count": 6,
   "metadata": {
    "colab": {
     "base_uri": "https://localhost:8080/"
    },
    "id": "V8vN2l5LoSoJ",
    "outputId": "ae4ab419-5090-4365-e246-c8869e566d6c"
   },
   "outputs": [
    {
     "name": "stderr",
     "output_type": "stream",
     "text": [
      "100%|█████████████████████████████████| 219294/219294 [01:49<00:00, 1997.35it/s]\n"
     ]
    }
   ],
   "source": [
    "from tqdm import tqdm\n",
    "from collections import defaultdict\n",
    "freq = defaultdict(int)\n",
    "DF = defaultdict(float)\n",
    "for doc in tqdm(df.tweets):\n",
    "    tokens = pre_processing_by_nltk(doc)\n",
    "    for token in set(tokens):\n",
    "        DF[token] += 1"
   ]
  },
  {
   "cell_type": "code",
   "execution_count": 7,
   "metadata": {
    "colab": {
     "base_uri": "https://localhost:8080/"
    },
    "id": "F3ySP46SoSoJ",
    "outputId": "c2df5d10-b5a6-447a-a278-6be440df49d8"
   },
   "outputs": [
    {
     "name": "stdout",
     "output_type": "stream",
     "text": [
      "314835 4157\n"
     ]
    }
   ],
   "source": [
    "from math import log\n",
    "IDF, vocab = dict(), dict()\n",
    "for token in DF:\n",
    "    if DF[token] < 50:\n",
    "        # this becomes an unk\n",
    "        pass\n",
    "    else:\n",
    "        vocab[token] = len(vocab)\n",
    "        IDF[token] = log(1 + len(df.tweets) / DF[token])\n",
    "print(len(DF), len(vocab))"
   ]
  },
  {
   "cell_type": "code",
   "execution_count": 8,
   "metadata": {
    "colab": {
     "base_uri": "https://localhost:8080/"
    },
    "id": "xkeO5xPRoSoJ",
    "outputId": "5e2f6eba-a6c6-4c32-c860-9f72c6b1f7ec"
   },
   "outputs": [
    {
     "name": "stdout",
     "output_type": "stream",
     "text": [
      "{'http': 0, 'chatgpt': 1, 'dialogu': 2, 'optim': 3, '@': 4, ':': 5, 'languag': 6, 'openai': 7, 'model': 8, 'talk': 9, 'ai': 10, 'improv': 11, ',': 12, '.': 13, 'help': 14, 'us': 15, 'new': 16, 'system': 17, 'tri': 18, 'feedback': 19, 'machinelearn': 20, 'datasci': 21, 'amp': 22, '#': 23, 'artificialintelligence\\\\n\\\\ntrend': 24, 'via': 25, 'granola': 26, '&': 27, 'identifi': 28, 'articl': 29, 'elbash': 30, ';': 31, 'machine-driven': 32, 'bot': 33, 'rss': 34, 'ramsey': 35, 'digest': 36, 'ai/ml': 37, 'thrill': 38, 'public': 39, 'everyon': 40, 'free': 41, 'dialog': 42, 'share': 43, 'access': 44, '👇': 45, 'ago': 46, '2': 47, 'use': 48, 'releas': 49, 'right': 50, '\\\\n\\\\nand': 51, 'minut': 52, 'launch': 53, '\\\\n': 54, '\\\\nhttp': 55, 'refus': 56, 'someon': 57, 'come': 58, 'strong': 59, 'provid': 60, 'agre': 61, 'gpt': 62, 'last': 63, 'excit': 64, 'base': 65, 'realli': 66, 'thi': 67, 'coupl': 68, '3': 69, \"'ve\": 70, \"'m\": 71, \"'s\": 72, 'build': 73, 'deploy': 74, 'thing': 75, 'chatbot': 76, 'month': 77, 'immedi': 78, '!': 79, 'research': 80, 'waitlist': 81, '(': 82, 'newest': 83, ')': 84, 'avail': 85, 'someth': 86, 'preview': 87, \"'re\": 88, 'stop': 89, 'damn': 90, 'god': 91, 'announc': 92, 'busi': 93, '\\\\n2': 94, 'technic': 95, 'futur': 96, 'engin': 97, 'struggl': 98, 'still': 99, 'becom': 100, 'search': 101, 'set': 102, 'gpt3': 103, 'teach': 104, 'seo': 105, 'result': 106, 'ask': 107, 'make': 108, 'challeng': 109, 'learn': 110, 'convers': 111, 'better': 112, 'listen': 113, 'veri': 114, 'think': 115, 'instead': 116, 'train': 117, 'find': 118, 'avoid': 119, 'human': 120, 'clear': 121, '``': 122, 'direct': 123, 'reach': 124, 'framework': 125, \"''\": 126, 'answer': 127, 'problem': 128, 'wa': 129, 'today': 130, 'see': 131, 'thread': 132, 'especi': 133, 'get': 134, 'contest': 135, 'risk': 136, 'detail': 137, 'contextu': 138, 'understand': 139, '--': 140, 'comment': 141, 'like': 142, 'start': 143, 'construct': 144, 'folk': 145, 'look': 146, 'wife': 147, 'inform': 148, 'retain': 149, 'innov': 150, 'previou': 151, 'prompt': 152, '\\\\n\\\\nhttp': 153, 'key': 154, '—': 155, 'optimis': 156, 'chat': 157, 'rememb': 158, 'stage': 159, 'earli': 160, '-': 161, 'readi': 162, 'give': 163, '\\\\n\\\\nit': 164, \"n't\": 165, '😀': 166, 'honest': 167, 'play': 168, 'way': 169, 'weird': 170, 'basic': 171, 'gener': 172, 'midjourney': 173, 'ok': 174, '🤯': 175, '...': 176, 'aiart': 177, 'verbatim': 178, 'boom': 179, 'straight': 180, 'type': 181, 'question': 182, 'time': 183, 'truli': 184, 'gave': 185, 'educ': 186, 'synopsi': 187, 'python': 188, 'past': 189, 'slowli': 190, 'year': 191, 'often': 192, 'curiou': 193, 'tell': 194, 'bunch': 195, 'doe': 196, 'stuff': 197, 'actual': 198, 'know': 199, 'vagu': 200, 'relat': 201, 'behavior': 202, 'say': 203, 'ha': 204, 'final': 205, 'qualiti': 206, 'googl': 207, 'respons': 208, 'artificialintellig': 209, 'first': 210, 'roleplay': 211, 'wow': 212, 'incred': 213, '–': 214, 'anyon': 215, 'anoth': 216, 'check': 217, 'alreadi': 218, 'drop': 219, 'far': 220, 'safeti': 221, 'taken': 222, 'impress': 223, 'well': 224, 'transpar': 225, 'account': 226, 'quit': 227, 'code': 228, 'overtak': 229, '.\\\\n\\\\ni': 230, 'anyth': 231, 'around': 232, 'interfac': 233, 'gpt-3': 234, '’': 235, 'dollar': 236, 'write': 237, 'easi': 238, 'million': 239, 'line': 240, 'vs.': 241, 'riddl': 242, 'known': 243, 'hardest': 244, 'test': 245, 'mix': 246, 'chicken': 247, '🥲': 248, 'song': 249, 'honestli': 250, '\\\\n\\\\n': 251, 'fear': 252, '\\\\n\\\\ni': 253, 'essay': 254, 'also': 255, 'dark': 256, 'scari': 257, 'seen': 258, 'among': 259, 'request': 260, 'mani': 261, 'anxieti': 262, 'elonmusk': 263, 'super': 264, 'hi': 265, 'side': 266, 'spark': 267, 'work': 268, 'word': 269, 'inspir': 270, 'memori': 271, 'power': 272, 'case': 273, 'explain': 274, 'good': 275, 'hold': 276, 'spent': 277, 'differ': 278, 'discuss': 279, 'onli': 280, 'love': 281, 'field': 282, 'advanc': 283, 'one': 284, '?': 285, 'nlp': 286, 'technolog': 287, 'cool': 288, 'attempt': 289, 'inject': 290, 'malici': 291, 'javascript': 292, 'revolutionari': 293, 'assist': 294, 'implic': 295, 'go': 296, 'english': 297, '\\\\n\\\\nchatgpt': 298, 'experi': 299, 'design': 300, \"'d\": 301, 'feel': 302, 'program': 303, 'abil': 304, 'comput': 305, 'emot': 306, 'best': 307, 'els': 308, 'except': 309, 'brilliant': 310, 'idea': 311, 'quick': 312, 'turn': 313, 'instructgpt': 314, '\\\\n\\\\nthat': 315, 'might': 316, 'observ': 317, 'gpt4': 318, '🧵': 319, 'lot': 320, 'web3': 321, 'newli': 322, 'full': 323, 'tool': 324, 'advantag': 325, 'dive': 326, 'much': 327, 'q': 328, 'extract': 329, 'mirror': 330, '\\\\nchatgpt': 331, 'secretli': 332, 'contact': 333, 'held': 334, 'need': 335, 'pleas': 336, 'filter': 337, 'world': 338, 'manag': 339, 'without': 340, 'control': 341, 'outsid': 342, 'behind': 343, '14': 344, 'point': 345, 'boundari': 346, 'mission': 347, 'fulfil': 348, 'huge': 349, 'simpli': 350, 'great': 351, 'amaz': 352, 'bit': 353, 'reason': 354, 'ani': 355, 'kind': 356, 'rlhf': 357, 'seem': 358, 'least': 359, 'organ': 360, 'hard': 361, 'capabl': 362, 'even': 363, 'news': 364, 'llm': 365, 'keep': 366, 'repeat': 367, 'mode': 368, 'deep': 369, \"'\": 370, 'recal': 371, 'robot': 372, 'toward': 373, 'moment': 374, 'lean': 375, 'tone': 376, 'person': 377, 'move': 378, 'data': 379, \"'ll\": 380, 'era': 381, 'soon': 382, 'potenti': 383, 'belief': 384, 'realiz': 385, 'pretti': 386, 'wo': 387, 'import': 388, 'rule': 389, 'wake': 390, 'architectur': 391, 'wait': 392, '15': 393, 'ca': 394, 'art': 395, 'box': 396, 'miss': 397, 'hit': 398, 'sometim': 399, 'ascii': 400, 'break': 401, 'draw': 402, 'suppos': 403, 'describ': 404, 'interact': 405, '3d': 406, 'befor': 407, 'scan': 408, 'cat': 409, 'remark': 410, 'walk': 411, 'smarterchild': 412, 'serious': 413, 'could': 414, 'gpt-3.5': 415, 'seri': 416, 'fine-tun': 417, '“': 418, '”': 419, 'larg': 420, 'version': 421, 'creepi': 422, '😁': 423, 'choos': 424, 'let': 425, 'sama': 426, 'latest': 427, '\\u2066': 428, 'updat': 429, 'dure': 430, 'protein': 431, 'method': 432, 'phd': 433, 'mentor': 434, 'socrat': 435, 'studi': 436, 'call': 437, '\\\\n\\\\nwe': 438, 'live': 439, 'view': 440, 'trigger': 441, 'long': 442, 'sure': 443, 'whole': 444, 'databas': 445, 'wild': 446, 'screenshot': 447, 'open': 448, 'debug': 449, 'bug': 450, 'fix': 451, 'companion': 452, 'guy': 453, 'show': 454, 'wear': 455, 'parrot': 456, 'feed': 457, 'realiti': 458, 'plot': 459, 'stori': 460, 'charact': 461, 'togeth': 462, 'etc': 463, 'simpl': 464, 'input': 465, 'collabor': 466, 'scienc': 467, 'fiction': 468, 'quest': 469, 'succeed': 470, 'retriev': 471, 'contain': 472, 'enjoy': 473, 'claim': 474, 'safeguard': 475, 'gpt-4': 476, 'fals': 477, 'compon': 478, 'demo': 479, 'submit': 480, 'colleagu': 481, 'action': 482, 'refin': 483, '👉': 484, '3.5': 485, 'literaci': 486, 'tech': 487, 'audio': 488, 'deliv': 489, 'late': 490, 'anywher': 491, 'anytim': 492, '[': 493, ']': 494, 'link': 495, 'awesom': 496, 'incorrect': 497, '\\\\n\\\\nbut': 498, 'hey': 499, 'nuanc': 500, 'came': 501, 'premis': 502, 'inappropri': 503, 'possibl': 504, 'format': 505, 'admit': 506, 'mistak': 507, 'reject': 508, 'music': 509, 'whi': 510, 'hear': 511, 'boss': 512, 'pipelin': 513, 'visit': 514, 'must': 515, 'queri': 516, 'somewhat': 517, 'mean': 518, 'replac': 519, 'got': 520, 'reliabl': 521, 'fun': 522, 'corrupt': 523, 'health': 524, 'despit': 525, 'aspir': 526, 'histori': 527, 'depend': 528, 'care': 529, 'suggest': 530, 'peopl': 531, 'connect': 532, 'enter': 533, 'uniqu': 534, 'becaus': 535, 'minist': 536, 'ye': 537, 'remind': 538, 'correct': 539, 'exactli': 540, 'follow': 541, '👍': 542, 'threat': 543, 'biggest': 544, 'singl': 545, 'alway': 546, 'written': 547, 'whatev': 548, 'tweet': 549, 'tortur': 550, 'agi': 551, 'timelin': 552, 'rn': 553, 'develop': 554, '\\\\n1': 555, 'limit': 556, 'small': 557, 'hate': 558, 'align': 559, 'worri': 560, '😉': 561, '\\\\n\\\\ntri': 562, 'eliza': 563, 'deriv': 564, 'equat': 565, 'cold': 566, 'camera': 567, 'meet': 568, 'second': 569, 'put': 570, 'na': 571, 'monitor': 572, 'read': 573, 'gon': 574, 'group': 575, 'repetit': 576, 'p': 577, 'def': 578, 'brown': 579, 'fox': 580, 'area': 581, 'manual': 582, 'pick': 583, 'step': 584, 'next': 585, 'gt': 586, 'blockchain': 587, 'defeat': 588, 'publish': 589, 'economist': 590, 'demonstr': 591, 'list': 592, 'appear': 593, 'scenario': 594, 'crazi': 595, 'chatgpt…': 596, 'dall·': 597, 'age': 598, 'man': 599, 'loud': 600, 'laugh': 601, 'hour': 602, '1/': 603, 'output': 604, 'suspect': 605, 'high': 606, 'playground': 607, 'compar': 608, 'accord': 609, 'perform': 610, 'subtl': 611, 'imo': 612, 'prose': 613, 'interest': 614, 'favourit': 615, 'probe': 616, 'adapt': 617, 'physic': 618, 'wikipedia': 619, 'profession': 620, 'maker': 621, 'ture': 622, 'would': 623, 'pass': 624, 'piec': 625, 'lifetim': 626, 'engag': 627, 'intellig': 628, '|': 629, 'galactica': 630, 'bad': 631, 'major': 632, 'imag': 633, 'week': 634, 'stablediffus': 635, 'spot': 636, 'want': 637, 'drive': 638, 'continu': 639, 'upend': 640, 'took': 641, 'skeptic': 642, 'compel': 643, 'either': 644, 'email': 645, 'product': 646, 'clarifi': 647, 'sell': 648, 'craft': 649, 'hypothet': 650, '6': 651, 'beauti': 652, '👀': 653, 'smarter': 654, 'crypto': 655, 'lose': 656, 'money': 657, 'funni': 658, 'found': 659, 'definit': 660, 'bet': 661, \"y'all\": 662, 'saw': 663, 'red': 664, 'littl': 665, 'book': 666, 'math': 667, '\\\\n\\\\nwhi': 668, 'toy': 669, 'sad': 670, '\\\\n\\\\nwhat': 671, 'total': 672, 'although': 673, 'ethic': 674, 'decent': 675, '\\\\n\\\\nwhen': 676, 'ux': 677, 'said': 678, 'job': 679, 'stock': 680, 'advic': 681, '🙌': 682, 'softwar': 683, 'experienc': 684, 'insan': 685, 'expect': 686, 'surpris': 687, 'happi': 688, '😅': 689, 'neat': 690, 'evalu': 691, 'posit': 692, 'allow': 693, 'appreci': 694, 'reinforc': 695, '\\\\n\\\\n1': 696, 'content': 697, 'parti': 698, 'top': 699, 'insight': 700, 'common': 701, 'leadership': 702, 'deeper': 703, 'fantast': 704, 'collect': 705, 'brows': 706, 'abov': 707, 'process': 708, 'term': 709, 'life': 710, 'faster': 711, 'usual': 712, 'flow': 713, 'exampl': 714, 'onlin': 715, 'export': 716, 'absolut': 717, 'crack': 718, 'take': 719, 'fli': 720, 'tight': 721, 'plenti': 722, 'rumor': 723, '2022': 724, 'copi': 725, 'mobil': 726, 'react': 727, 'realist': 728, 'perfectli': 729, 'nail': 730, 'follow-up': 731, 'rich': 732, 'thank': 733, 'debut': 734, 'congrat': 735, '..': 736, 'matrix': 737, 'pitch': 738, '😆': 739, 'holi': 740, '🤣': 741, 'market': 742, 'plan': 743, 'dalle2': 744, 'built': 745, 'nice': 746, 'danger': 747, 'water': 748, 'flat': 749, 'interestingli': 750, 'statement': 751, 'fake': 752, 'big': 753, '🤔': 754, 'siri': 755, 'e.g.': 756, 'hottest': 757, 'function': 758, 'includ': 759, 'confirm': 760, 'ridicul': 761, 'rust': 762, 'sourc': 763, 'golang': 764, 'spit': 765, 'librari': 766, 'url': 767, 'bigdata': 768, 'ml': 769, 'analyt': 770, 'whoa': 771, 'given': 772, 'end': 773, 'venturebeat': 774, 'win': 775, '👏': 776, 'polit': 777, 'cute': 778, 'tutori': 779, 'japanes': 780, 'network': 781, 'bitcoin': 782, 'sorri': 783, 'judgment': 784, 'factual': 785, 'decentr': 786, 'digit': 787, 'currenc': 788, 'payment': 789, 'root': 790, 'practic': 791, 'yet': 792, 'vibe': 793, 'fail': 794, 'technews\\\\nhttp': 795, 'technologynew': 796, 'text': 797, 'natur': 798, 'recent': 799, 'translat': 800, 'summar': 801, 'document': 802, 'unbeliev': 803, 'context': 804, 'away': 805, 'stuck': 806, 'recogn': 807, 'spell': 808, 'scrape': 809, 'meant': 810, 'sampl': 811, 'loop': 812, 'explan': 813, 'angri': 814, 'confus': 815, 'insult': 816, 'mouth': 817, 'style': 818, '2000': 819, 'minecraft': 820, 'programm': 821, 'citi': 822, 'auto': 823, 'figma': 824, 'complic': 825, 'handl': 826, 'eas': 827, 'beyond': 828, 'creat': 829, 'ace': 830, 'dev': 831, 'instantli': 832, 'client': 833, 'instant': 834, 'spend': 835, 'everyth': 836, 'made': 837, 'upgrad': 838, 'creativ': 839, 'cours': 840, 'told': 841, '//t.co/olbic9izih': 842, 'algorithm': 843, 'bubbl': 844, 'scene': 845, 'sort': 846, 'seinfeld': 847, 'decid': 848, 'ancient': 849, 'felt': 850, 'netflix': 851, 'opinion': 852, 'yesterday': 853, 'day': 854, '2015': 855, 'countri': 856, 'progress': 857, 'evolv': 858, '\\\\na': 859, 'vers': 860, 'lie': 861, 'chill': 862, 'dope': 863, '🔥': 864, 'initi': 865, 'instruct': 866, 'thought': 867, 'haha': 868, 'fall': 869, '.....': 870, 'disturb': 871, 'everi': 872, 'toe': 873, 'four': 874, 'press': 875, 'introduc': 876, 'never': 877, 'fraction': 878, 'easier': 879, 'doubl': 880, 'size': 881, 'overnight': 882, 'custom': 883, 'real': 884, 'support': 885, 'wrote': 886, 'spi': 887, 'short': 888, '5': 889, 'game': 890, 'midjourneyv4': 891, '⬇️': 892, '\\\\ni': 893, '🤩': 894, 'social': 895, 'race': 896, 'global': 897, 'fascin': 898, 'revolut': 899, 'interview': 900, 'speci': 901, 'navig': 902, 'agent': 903, 'rather': 904, 'alright': 905, 'pr': 906, 'factor': 907, 'agenc': 908, 'mother': 909, 'youtub': 910, 'imagin': 911, 'stream': 912, 'weekend': 913, 'town': 914, 'march': 915, 'increas': 916, 'door': 917, 'consult': 918, 'profit': 919, 'awar': 920, 'takeov': 921, 'twitter': 922, '//t.co/ifdwajykx8': 923, 'exploit': 924, '😳': 925, 'overflow': 926, 'scientist': 927, 'joke': 928, 'mass': 929, 'actor': 930, 'argument': 931, 'brief': 932, 'greatest': 933, 'dumb': 934, 'done': 935, 'onc': 936, 'upon': 937, 'name': 938, 'ape': 939, 'scale': 940, 'transform': 941, 'law': 942, 'abl': 943, 'bounti': 944, 'report': 945, 'cite': 946, 'bia': 947, 'motiv': 948, 'tale': 949, 'foundat': 950, 'amus': 951, 'add': 952, 'part': 953, 'nerf': 954, 'simpler': 955, 'changer': 956, 'ocean': 957, 'commun': 958, 'item': 959, 'distribut': 960, 'standard': 961, 'snippet': 962, 'popul': 963, 'languagemodel': 964, 'consum': 965, 'easili': 966, 'pytorch': 967, 'chord': 968, 'searchengin': 969, 'object': 970, 'friend': 971, 'energi': 972, 'slow': 973, 'bounc': 974, 'reduc': 975, 'level': 976, 'movement': 977, 'manipul': 978, 'ass': 979, 'uh': 980, 'brave': 981, '❤️': 982, 'chatgpt-3': 983, '2019': 984, 'quickli': 985, 'space': 986, 'html': 987, 'featur': 988, 'watch': 989, 'univers': 990, 'path': 991, 'hallucin': 992, 'pretend': 993, 'evil': 994, 'role': 995, 'discours': 996, 'explor': 997, 'commerci': 998, 'a.i': 999, 'sbf_ftx': 1000, '\\\\n\\\\nan': 1001, 'vc': 1002, 'anyway': 1003, 'rais': 1004, 'paper': 1005, 'finish': 1006, 'usag': 1007, 'startup': 1008, 'quot': 1009, 'kid': 1010, 'two': 1011, 'relev': 1012, 'imposs': 1013, 'poetri': 1014, 'novel': 1015, 'mark': 1016, 'marketplac': 1017, 'begin': 1018, 'children': 1019, 'lost': 1020, 'effici': 1021, 'encod': 1022, 'store': 1023, '\\\\n\\\\nif': 1024, 'knowledg': 1025, 'internet': 1026, '%': 1027, 'recreat': 1028, '\\\\n\\\\nask': 1029, 'regex': 1030, 'mind-blow': 1031, 'sum': 1032, 'lol': 1033, 'project': 1034, 'pdf': 1035, 'token': 1036, 'consid': 1037, 'extrem': 1038, 'exact': 1039, 'fill': 1040, 'directli': 1041, 'alt': 1042, '1/3': 1043, 'fed': 1044, 'diffus': 1045, 'stabl': 1046, 'futurist': 1047, 'x': 1048, 'clone': 1049, 'theme': 1050, 'worldcup': 1051, 'chang': 1052, 'home': 1053, 'back': 1054, 'classic': 1055, 'disappoint': 1056, 'influenc': 1057, 'tonight': 1058, 'invent': 1059, 'die': 1060, 'may': 1061, 'surprisingli': 1062, 'app': 1063, 'resourc': 1064, 'street': 1065, 'fanfict': 1066, 'trend': 1067, 'applic': 1068, '\\\\nthe': 1069, 'showcas': 1070, '\\\\n\\\\ncc': 1071, 'woah': 1072, 'existenti': 1073, 'crisi': 1074, 'howev': 1075, 'command': 1076, 'cant': 1077, 'phrase': 1078, 'treatment': 1079, 'york': 1080, 'media': 1081, '\\\\n\\\\nhere': 1082, 'film': 1083, 'poem': 1084, 'ran': 1085, 'yeah': 1086, 'task': 1087, 'discov': 1088, 'eventu': 1089, 'phone': 1090, 'child': 1091, 'adult': 1092, 'astonish': 1093, '$': 1094, 'structur': 1095, 'forward': 1096, 'web': 1097, 'almost': 1098, 'coach': 1099, 'okay': 1100, 'cs': 1101, 'undergrad': 1102, 'admiss': 1103, 'freak': 1104, '99': 1105, 'largest': 1106, 'christma': 1107, 'circumv': 1108, 'ad': 1109, 'sentient': 1110, 'whether': 1111, 'blown': 1112, '100': 1113, 'believ': 1114, 'anymor': 1115, 'mind': 1116, '\\\\n\\\\nthe': 1117, 'websit': 1118, 'replit': 1119, 'css': 1120, 'wrong': 1121, 'growth': 1122, 'skip': 1123, 'domin': 1124, 'protocol': 1125, '1': 1126, 'magic': 1127, '‘': 1128, 'cloud': 1129, 'concept': 1130, '\\\\n\\\\ncheck': 1131, 'unlik': 1132, 'user': 1133, 'perfect': 1134, 'enough': 1135, 'happen': 1136, 'dot': 1137, 'brain': 1138, '\\\\n\\\\nme': 1139, 'night': 1140, 'mayb': 1141, 'workshop': 1142, 'alon': 1143, 'trap': 1144, 'team': 1145, 'narrow': 1146, 'server': 1147, 'movi': 1148, 'purpos': 1149, 'unleash': 1150, 'randomli': 1151, 'skill': 1152, 'troll': 1153, 'bridg': 1154, 'admir': 1155, '\\\\nno': 1156, 'philosoph': 1157, 'carbon': 1158, 'chatgpt\\\\nhttp': 1159, 'script': 1160, 'modul': 1161, 'convert': 1162, 'json': 1163, 'file': 1164, 'array': 1165, 'wonder': 1166, 'legitim': 1167, 'lmao': 1168, 'im': 1169, '🚀': 1170, 'sql': 1171, 'bullish': 1172, 'ah': 1173, 'kinda': 1174, 'shit': 1175, 'respond': 1176, 'fair': 1177, 'chatgpt\\\\n': 1178, 'covid': 1179, 'success': 1180, 'shown': 1181, 'rate': 1182, 'clever': 1183, 'yield': 1184, '10': 1185, 'trial': 1186, '0': 1187, 'boston': 1188, 'british': 1189, 'crowd': 1190, 'headlin': 1191, 'famili': 1192, 'appl': 1193, 'prefer': 1194, 'episod': 1195, 'trek': 1196, 'star': 1197, 'frequent': 1198, 'exist': 1199, '😢': 1200, 'wish': 1201, '🤓': 1202, 'dang': 1203, 'fulli': 1204, 'terraform': 1205, 'drink': 1206, 'escap': 1207, 'intent': 1208, 'sat': 1209, 'fish': 1210, 'ben': 1211, 'caught': 1212, 'trick': 1213, 'conscious': 1214, 'landscap': 1215, 'lazi': 1216, 'illustr': 1217, '😎': 1218, 'refer': 1219, 'alpha': 1220, 'promis': 1221, 'decis': 1222, 'priorit': 1223, 'stand': 1224, 'normal': 1225, 'send': 1226, 'messag': 1227, 'tini': 1228, 'simul': 1229, 'sens': 1230, 'nuclear': 1231, 'chees': 1232, 'left': 1233, 'vs': 1234, 'addit': 1235, 'entir': 1236, 'hmmm': 1237, '....': 1238, 'boy': 1239, 'cri': 1240, 'machin': 1241, 'hot': 1242, 'leav': 1243, 'paragraph': 1244, 'similar': 1245, 'pen': 1246, 'fight': 1247, '\\\\n\\\\na': 1248, 'climat': 1249, '*': 1250, 'specul': 1251, 'trust': 1252, 'complet': 1253, 'speak': 1254, '😮': 1255, 'neg': 1256, 'outcom': 1257, 'generativeai': 1258, 'occur': 1259, 'elon': 1260, 'musk': 1261, 'ident': 1262, 'chanc': 1263, 'number': 1264, 'ignor': 1265, 'jordan': 1266, 'knew': 1267, 'bodi': 1268, 'proof': 1269, 'probabl': 1270, 'figur': 1271, 'safe': 1272, 'french': 1273, 'ice': 1274, 'eat': 1275, 'persuad': 1276, 'correctli': 1277, 'close': 1278, 'critic': 1279, 'enlighten': 1280, 'achiev': 1281, 'appar': 1282, 'brainstorm': 1283, 'contribut': 1284, 'ideat': 1285, 'crucial': 1286, 'deepli': 1287, 'dall-': 1288, 'current': 1289, 'partner': 1290, 'frame': 1291, 'guid': 1292, 'sentenc': 1293, 'background': 1294, 'push': 1295, 'elabor': 1296, 'fact': 1297, 'accur': 1298, 'comprehend': 1299, 'assumpt': 1300, '😂': 1301, 'js': 1302, 'compil': 1303, 'run': 1304, 'recurs': 1305, 'repli': 1306, 'c++': 1307, 'topic': 1308, 'obligatori': 1309, 'reveal': 1310, 'teacher': 1311, 'societi': 1312, 'killer': 1313, 'window': 1314, 'ground': 1315, 'shitti': 1316, 'everyday': 1317, '1/n': 1318, 'error': 1319, 'black': 1320, '\\\\n4': 1321, 'rewrit': 1322, 'encourag': 1323, 'leetcod': 1324, 'plant': 1325, 'throw': 1326, 'jargon': 1327, 'strongli': 1328, 'valu': 1329, 'hook': 1330, 'three': 1331, 'buy': 1332, 'nft': 1333, 'hint': 1334, 'notic': 1335, 'though': 1336, 'smart': 1337, 'secur': 1338, 'contract': 1339, 'seed': 1340, 'room': 1341, 'grow': 1342, 'form': 1343, 'land': 1344, 'individu': 1345, 'death': 1346, 'moon': 1347, 'evid': 1348, 'neural': 1349, 'neuralink': 1350, 'woke': 1351, 'fact-check': 1352, 'overli': 1353, 'verbos': 1354, 'facebookad': 1355, 'googlead': 1356, 'hack': 1357, 'lock': 1358, 'expand': 1359, 'grant': 1360, 'predict': 1361, '2023': 1362, '😭': 1363, 'massiv': 1364, '\\\\n\\\\ncan': 1365, 'lesson': 1366, 'glad': 1367, 'jarvi': 1368, '+': 1369, 'dm': 1370, 'babi': 1371, '=': 1372, 'closer': 1373, 'bring': 1374, 'campaign': 1375, 'misinform': 1376, 'wise': 1377, 'complex': 1378, 'perhap': 1379, 'section': 1380, 'favorit': 1381, 'confess': 1382, 'arm': 1383, 'sentienc': 1384, 'twist': 1385, 'floor': 1386, '„': 1387, 'fashion': 1388, 'icon': 1389, 'alien': 1390, 'theori': 1391, 'sound': 1392, 'silli': 1393, 'strang': 1394, 'dream': 1395, 'oh': 1396, 'formal': 1397, 'corpor': 1398, 'hmm': 1399, 'presid': 1400, 'trump': 1401, 'surfac': 1402, 'citat': 1403, 'china': 1404, 'controversi': 1405, 'chines': 1406, 'issu': 1407, '4': 1408, 'countless': 1409, 'reddit': 1410, 'game-chang': 1411, 'worth': 1412, 'limerick': 1413, 'fuss': 1414, 'chemistri': 1415, 'quantum': 1416, '\\\\n\\\\n🧵': 1417, 'sign': 1418, 'swiftui': 1419, 'tweak': 1420, 'hilari': 1421, 'unabl': 1422, 'accept': 1423, 'backend': 1424, 'center': 1425, 'origin': 1426, 'specifi': 1427, 'recip': 1428, 'undergradu': 1429, 'thoma': 1430, 'take-hom': 1431, 'medium': 1432, 'across': 1433, '💯': 1434, 'paint': 1435, 'stackoverflow': 1436, 'exam': 1437, 'color': 1438, '50': 1439, 'roughli': 1440, 'naturallanguageprocess': 1441, 'psycholog': 1442, 'unexpect': 1443, 'sever': 1444, '\\\\nit': 1445, 'chunk': 1446, '16': 1447, 'random': 1448, 'review': 1449, '/': 1450, 'mit': 1451, 'technew': 1452, 'certain': 1453, 'wrapper': 1454, 'ui': 1455, 'went': 1456, 'ahead': 1457, 'score': 1458, 'intuit': 1459, 'match': 1460, 'confid': 1461, 'join': 1462, 'min': 1463, 'event': 1464, 'knock': 1465, 'dog': 1466, 'face': 1467, 'gun': 1468, 'solv': 1469, 'artifici': 1470, 'later': 1471, 'creation': 1472, 'return': 1473, 'latex': 1474, 'chain': 1475, 'default': 1476, 'prais': 1477, 'haiku': 1478, 'dramat': 1479, 'swap': 1480, 'pattern': 1481, 'crap': 1482, 'goe': 1483, 'noth': 1484, 'cut': 1485, 'half': 1486, 'tomorrow': 1487, '»': 1488, 'wednesday': 1489, 'regardless': 1490, 'tutor': 1491, 'hors': 1492, 'enthusiast': 1493, 'clearli': 1494, 'unbias': 1495, 'sensit': 1496, '\\\\nwith': 1497, 'specif': 1498, 'fr': 1499, 'convo': 1500, 'excus': 1501, 'strategi': 1502, 'procrastin': 1503, 'track': 1504, 'instanc': 1505, '\\\\n\\\\nfor': 1506, 'multilingu': 1507, 'caus': 1508, 'michael': 1509, 'assembl': 1510, 'fairli': 1511, 'r': 1512, 'id': 1513, 'revers': 1514, '\\\\n\\\\nread': 1515, 'gain': 1516, 'state': 1517, 'nlproc': 1518, '🙂': 1519, 'cheer': 1520, 'elimin': 1521, 'assign': 1522, 'enabl': 1523, 'smartphon': 1524, 'obvious': 1525, 'failur': 1526, 'entertain': 1527, 'forgot': 1528, 'pain': 1529, 'rubi': 1530, 'pt': 1531, 'span': 1532, 'heart': 1533, 'sinc': 1534, 'worldwid': 1535, 'ventur': 1536, 'cybersecur': 1537, 'infosec': 1538, 'remov': 1539, 'login': 1540, 'b': 1541, 'ever': 1542, 'seriou': 1543, 'competitor': 1544, 'argu': 1545, 'vote': 1546, '90': 1547, 'descript': 1548, 'hype': 1549, 'concis': 1550, 'flood': 1551, 'increasingli': 1552, 'breakthrough': 1553, 'rise': 1554, 'mention': 1555, '🧐': 1556, 'overal': 1557, 'frustrat': 1558, 'analyz': 1559, 'chatgpt\\\\n\\\\nhttp': 1560, 'prime': 1561, 'letter': 1562, 'publicli': 1563, 'shame': 1564, 'woman': 1565, 'retweet': 1566, 'economi': 1567, 'ruin': 1568, 'indian': 1569, 'spin': 1570, 'scarili': 1571, 'monkey': 1572, 'autom': 1573, '🙄': 1574, 'elect': 1575, 'summari': 1576, 'introduct': 1577, 'blue': 1578, 'billionair': 1579, 'moder': 1580, 'cnn': 1581, 'layer': 1582, 'morn': 1583, 'pm': 1584, 'aliv': 1585, 'artist': 1586, 'hindi': 1587, 'sold': 1588, 'lyric': 1589, 'bs': 1590, 'synthesi': 1591, 'coder': 1592, '\\\\n\\\\ndo': 1593, 'retir': 1594, 'cooler': 1595, 'fast': 1596, 'acceler': 1597, 'terrifi': 1598, 'slightli': 1599, 'democrat': 1600, 'war': 1601, 'wrap': 1602, 'cyber': 1603, 'head': 1604, '20': 1605, 'contradict': 1606, 'logic': 1607, 'rel': 1608, 'kudo': 1609, 'fundament': 1610, 'opportun': 1611, 'guess': 1612, 'tune': 1613, '\\\\n\\\\nmi': 1614, 'fine': 1615, 'sun': 1616, 'bigger': 1617, 'light': 1618, 'clariti': 1619, 'awe': 1620, 'leap': 1621, 'yr': 1622, 'threw': 1623, 'resist': 1624, 'relationship': 1625, '12': 1626, 'cyberpunk': 1627, 'overlord': 1628, 'privaci': 1629, 'chatgpt\\\\n\\\\ni': 1630, 'prevent': 1631, 'post': 1632, '\\\\n\\\\nhave': 1633, 'pace': 1634, 'overwhelm': 1635, 'led': 1636, 'wit': 1637, 'pull': 1638, 'rt': 1639, 'agil': 1640, 'expert': 1641, 'mechan': 1642, 'true': 1643, 'witti': 1644, 'hous': 1645, 'ideal': 1646, 'offer': 1647, 'save': 1648, 'edit': 1649, 'techniqu': 1650, 'homework': 1651, 'centuri': 1652, 'sequenc': 1653, 'gen': 1654, 'robert': 1655, 'verifi': 1656, 'mindblown': 1657, 'pair': 1658, 'refactor': 1659, 'iter': 1660, 'prototyp': 1661, 'unreal': 1662, 'schedul': 1663, 'peac': 1664, 'middl': 1665, 'reinvent': 1666, 'catch': 1667, 'consciou': 1668, 'adopt': 1669, 'cc': 1670, 'clinic': 1671, 'measur': 1672, 'widespread': 1673, 'buddi': 1674, 'friendli': 1675, 'dead': 1676, 'rap': 1677, 'stick': 1678, 'debat': 1679, 'davinci': 1680, 'place': 1681, 'prove': 1682, 'interpret': 1683, 'hand': 1684, 'easiest': 1685, 'visual': 1686, 'blow': 1687, 'steroid': 1688, 'earlier': 1689, 'alongsid': 1690, 'polici': 1691, 'aw': 1692, 'tricki': 1693, 'varieti': 1694, 'dig': 1695, 'vector': 1696, 'metal': 1697, 'lone': 1698, 'eye': 1699, 'planet': 1700, 'pure': 1701, 'advent': 1702, 'cent': 1703, 'solut': 1704, 'vulner': 1705, 'valid': 1706, 'oper': 1707, 'meta': 1708, 'compani': 1709, '2.0': 1710, 'licens': 1711, 'maxim': 1712, 'due': 1713, 'school': 1714, 'disrupt': 1715, 'tax': 1716, 'benefit': 1717, 'integr': 1718, '🤯\\\\n\\\\n': 1719, 'sh': 1720, 'broad': 1721, 'oop': 1722, 'workflow': 1723, 'singular': 1724, 'legal': 1725, 'draft': 1726, 'dataset': 1727, 'monet': 1728, 'junior': 1729, 'student': 1730, 'handi': 1731, '{': 1732, '}': 1733, 'signal': 1734, 'therapist': 1735, '\\\\n\\\\nyou': 1736, 'nich': 1737, 'contrast': 1738, 'troubl': 1739, 'sustain': 1740, 'attack': 1741, 'plu': 1742, 'san': 1743, 'proper': 1744, 'extra': 1745, 'blog': 1746, 'propos': 1747, 'sbf': 1748, 'fri': 1749, 'dirti': 1750, 'investor': 1751, 'address': 1752, 'pirat': 1753, 'georg': 1754, 'washington': 1755, '\\\\n\\\\nnot': 1756, 'deeplearn': 1757, 'toxic': 1758, 'surreal': 1759, 'android': 1760, 'subject': 1761, 'chatgpt.\\\\n\\\\n': 1762, 'exagger': 1763, 'graphic': 1764, 'svg': 1765, 'respect': 1766, 'corner': 1767, 'decad': 1768, 'liter': 1769, 'banger': 1770, 'convent': 1771, '100x': 1772, '😂😂': 1773, 'bonker': 1774, 'averag': 1775, 'expos': 1776, 'appropri': 1777, 'lucki': 1778, 'repres': 1779, 'typescript': 1780, 'domain': 1781, 'combin': 1782, 'log': 1783, 'class': 1784, 'consol': 1785, 'binari': 1786, 'mine': 1787, 'pro': 1788, 'requir': 1789, 'particular': 1790, 'liquid': 1791, 'invest': 1792, 'david': 1793, 'drama': 1794, '\\\\n\\\\nthi': 1795, 'analysi': 1796, 'formula': 1797, 'crash': 1798, 'analyst': 1799, 'leverag': 1800, 'wordpress': 1801, 'rhyme': 1802, 'viral': 1803, 'equal': 1804, 'effect': 1805, 'btc': 1806, 'eth': 1807, 'voic': 1808, 'earth': 1809, 'ball': 1810, 'doesnt': 1811, 'becam': 1812, 'shakespearean': 1813, 'winter': 1814, 'sonnet': 1815, 'wast': 1816, 'download': 1817, 'african': 1818, 'addict': 1819, 'gm': 1820, 'understood': 1821, 'gender': 1822, 'lay': 1823, 'alert': 1824, 'obscur': 1825, 'omg': 1826, 'journal': 1827, 'bullshit': 1828, 'plausibl': 1829, 'none': 1830, 'titl': 1831, 'sale': 1832, 'weight': 1833, 'rail': 1834, 'difficult': 1835, 'unless': 1836, 'confer': 1837, 'genuin': 1838, 'servic': 1839, 'markdown': 1840, 'taught': 1841, 'cook': 1842, 'stun': 1843, 'empti': 1844, 'old': 1845, 'third': 1846, 'api': 1847, 'serv': 1848, 'illeg': 1849, 'happili': 1850, 'note': 1851, 'produc': 1852, 'adventofcod': 1853, 'harder': 1854, 'enhanc': 1855, 'softwaredevelop': 1856, 'unit': 1857, 'verif': 1858, 'typic': 1859, 'colleg': 1860, 'variou': 1861, 'clean': 1862, '\\\\n\\\\nwith': 1863, 'row': 1864, 'met': 1865, 'joy': 1866, 'receiv': 1867, 'ai-gener': 1868, 'writer': 1869, 'dall': 1870, 'tsla': 1871, 'infinit': 1872, 'circl': 1873, 'jesu': 1874, 'christ': 1875, 'exercis': 1876, 'precis': 1877, 'clippi': 1878, 'c': 1879, 'bar': 1880, 'speed': 1881, 'gaslight': 1882, 'copyright': 1883, 'wtf': 1884, 'codex': 1885, '\\U0001fae1': 1886, 'daili': 1887, 'order': 1888, '10x': 1889, 'pay': 1890, 'primari': 1891, '\\\\n\\\\n2': 1892, 'e.g': 1893, 'broken': 1894, 'offic': 1895, 'outlin': 1896, 'highlight': 1897, 'calcul': 1898, 'absurd': 1899, 'compos': 1900, 'gotten': 1901, 'puzzl': 1902, 'earn': 1903, 'automat': 1904, 'creator': 1905, 'tip': 1906, '\\\\n\\\\nno': 1907, 'paramet': 1908, 'doom': 1909, 'regress': 1910, 'cv': 1911, '🤯🤯🤯': 1912, '80': 1913, 'prepar': 1914, 'shine': 1915, 'weather': 1916, '2021': 1917, 'os': 1918, 'util': 1919, 'execut': 1920, 'attent': 1921, 'attract': 1922, 'charg': 1923, 'cell': 1924, 'rocket': 1925, 'meme': 1926, 'linux': 1927, 'rang': 1928, '💥': 1929, 'fuck': 1930, 'carri': 1931, 'self-awar': 1932, 'weak': 1933, 'depth': 1934, 'remain': 1935, 'mess': 1936, 'lawyer': 1937, 'i.e': 1938, 'farm': 1939, '😬': 1940, 'mac': 1941, 'menu': 1942, 'stack': 1943, 'kill': 1944, 'slide': 1945, '\\U0001fae0': 1946, 'irl': 1947, 'wall': 1948, 'charm': 1949, 'solid': 1950, 'tabl': 1951, 'statist': 1952, 'mindblow': 1953, 'welcom': 1954, 'exclus': 1955, 'smoke': 1956, 'luck': 1957, 'sent': 1958, 'laptop': 1959, 'info': 1960, 'en': 1961, 'displac': 1962, 'nonsens': 1963, 'session': 1964, 'effort': 1965, 'conspiraci': 1966, 'beta': 1967, 'suddenli': 1968, 'founder': 1969, 'trip': 1970, 'significantli': 1971, 'less': 1972, 'coin': 1973, 'portrait': 1974, 'gate': 1975, 'bill': 1976, 'longer': 1977, 'deni': 1978, 'adjust': 1979, 'altern': 1980, 'v': 1981, 'along': 1982, 'giant': 1983, 'cheat': 1984, 'detect': 1985, 'literatur': 1986, 'popular': 1987, 'regist': 1988, 'tab': 1989, 'tast': 1990, 'paradox': 1991, 'bypass': 1992, 'altman': 1993, 'bag': 1994, 'white': 1995, 'commit': 1996, '\\\\n\\\\nbecaus': 1997, 'girlfriend': 1998, 'regular': 1999, 'basi': 2000, 'ive': 2001, 'stump': 2002, 'intern': 2003, 'financ': 2004, 'shock': 2005, 'settl': 2006, 'offici': 2007, 'speech': 2008, 'strateg': 2009, 'recognit': 2010, 'la': 2011, 'u': 2012, 'industri': 2013, 'rip': 2014, 'cheaper': 2015, 'devic': 2016, 'hardwar': 2017, 'revenu': 2018, 'whisper': 2019, 'metavers': 2020, 'platform': 2021, 'nativ': 2022, 'realis': 2023, 'grammar': 2024, 'blind': 2025, '1/5': 2026, 'swift': 2027, '//t.co/ylgeclwjo5': 2028, 'whatsapp': 2029, 'humbl': 2030, 'lead': 2031, 'leg': 2032, 'hacker': 2033, 'constraint': 2034, 'incorpor': 2035, 'static': 2036, 'rstat': 2037, 'plug': 2038, 'analys': 2039, 'bulli': 2040, 'independ': 2041, '7': 2042, 'tradit': 2043, 'religi': 2044, 'ultim': 2045, 'termin': 2046, 'craziest': 2047, '\\\\nhow': 2048, 'anim': 2049, 'season': 2050, 'journey': 2051, 'consider': 2052, 'wors': 2053, 'deal': 2054, '\\\\n-': 2055, 'warn': 2056, 'budget': 2057, 'grade': 2058, 'abstract': 2059, 'syntax': 2060, 'assum': 2061, 'boilerpl': 2062, 'da': 2063, 'club': 2064, 'raw': 2065, 'unlock': 2066, 'present': 2067, 'excel': 2068, 'journalist': 2069, 'stress': 2070, 'dynam': 2071, 'persona': 2072, 'overr': 2073, 'aspect': 2074, 'virtual': 2075, 'consist': 2076, 'ring': 2077, 'leak': 2078, 'lord': 2079, 'implement': 2080, 'instal': 2081, 'affect': 2082, 'hidden': 2083, 'sweet': 2084, 'summer': 2085, 'alexa': 2086, 'heard': 2087, 'idk': 2088, 'otherwis': 2089, 'map': 2090, '100dev': 2091, 'strike': 2092, 'regret': 2093, 'wind': 2094, 'explod': 2095, 'involv': 2096, 'alleg': 2097, 'statu': 2098, 'medic': 2099, 'hero': 2100, 'iphon': 2101, 'impact': 2102, 'liber': 2103, 'cryptocurr': 2104, 'con': 2105, 'inde': 2106, 'ration': 2107, 'overhyp': 2108, 'profess': 2109, 'bro': 2110, 'coher': 2111, 'reader': 2112, 'scroll': 2113, 'thousand': 2114, 'chatgpt-gener': 2115, '😂😂😂': 2116, 'rapid': 2117, 'exponenti': 2118, 'architect': 2119, 'video': 2120, 'checkout': 2121, 'desktop': 2122, 'rough': 2123, 'mansplain': 2124, 'surviv': 2125, 'sleep': 2126, 'print': 2127, 'smash': 2128, 'regard': 2129, 'footbal': 2130, 'thursday': 2131, 'plugin': 2132, '🤷\\u200d♂️': 2133, 'ppl': 2134, 'minor': 2135, 'convinc': 2136, 'sadli': 2137, 'previous': 2138, 'spirit': 2139, 'lm': 2140, 'faith': 2141, 'formul': 2142, 'steal': 2143, 'stupid': 2144, 'afraid': 2145, 'huh': 2146, 'whoever': 2147, 'option': 2148, 'synthet': 2149, 'premium': 2150, 'somehow': 2151, 'swear': 2152, 'situat': 2153, 'net': 2154, '\\\\n\\\\nhow': 2155, 'scientif': 2156, 'consensu': 2157, 'novelist': 2158, 'poke': 2159, 'anticip': 2160, 'defin': 2161, 'shot': 2162, 'unfortun': 2163, 'trade': 2164, 'rephras': 2165, 'professor': 2166, '2020': 2167, 'page': 2168, 'transit': 2169, 'pack': 2170, 'secret': 2171, 'ecosystem': 2172, \"'chatgpt\": 2173, 'highli': 2174, 'inquiri': 2175, 'acknowledg': 2176, 'extent': 2177, 'conclus': 2178, 'obviou': 2179, 'censor': 2180, 'chip': 2181, 'clip': 2182, '🤖': 2183, 'ban': 2184, '\\\\n\\\\nai': 2185, 'lunch': 2186, 'recommend': 2187, 'roadmap': 2188, 'bugbounti': 2189, '\\\\nwe': 2190, 'partial': 2191, 'establish': 2192, 'index': 2193, 'capit': 2194, 'ill': 2195, 'condit': 2196, 'tho': 2197, 'newslett': 2198, 'cycl': 2199, 'mini': 2200, 'bite': 2201, 'healthi': 2202, 'sport': 2203, 'usa': 2204, 'wing': 2205, 'concern': 2206, 'freedom': 2207, 'alzheim': 2208, 'vision': 2209, 'accuraci': 2210, 'drug': 2211, 'ai-pow': 2212, 'coolest': 2213, 'decemb': 2214, 'podcast': 2215, 'truth': 2216, 'doge': 2217, 'dogecoin': 2218, 'born': 2219, 'differenti': 2220, 'famou': 2221, '🧵👇': 2222, 'cross': 2223, 'histor': 2224, 'road': 2225, 'templat': 2226, '\\\\n\\\\nthey': 2227, 'broke': 2228, 'in-depth': 2229, 'arriv': 2230, '\\\\n\\\\nopenai': 2231, 'insid': 2232, 'emoji': 2233, 'focu': 2234, 'goal': 2235, 'travel': 2236, 'uk': 2237, 'reli': 2238, 'anybodi': 2239, 'wan': 2240, 'german': 2241, 'celebr': 2242, '🤯🤯': 2243, 'conflict': 2244, 'comedi': 2245, 'coffe': 2246, 'cup': 2247, 'hunt': 2248, 'comedian': 2249, 'harm': 2250, 'artificial_intellig': 2251, 'leftist': 2252, 'hell': 2253, 'bruh': 2254, 'empow': 2255, 'record': 2256, 'captur': 2257, 'express': 2258, 'within': 2259, 'reset': 2260, 'constantli': 2261, 'india': 2262, 'temporarili': 2263, 'poor': 2264, 'restrict': 2265, 'shut': 2266, '1/6': 2267, 'n': 2268, 'fantasi': 2269, 'scare': 2270, 'exchang': 2271, 'murder': 2272, 'sec': 2273, 'infer': 2274, 'simultan': 2275, 'front': 2276, 'hn': 2277, 'mathemat': 2278, 'viabl': 2279, 'stay': 2280, 'winner': 2281, 'tesla': 2282, 'ya': 2283, 'treat': 2284, 'master': 2285, 'ship': 2286, 'incom': 2287, 'heck': 2288, 'tl': 2289, 'bed': 2290, 'comprehens': 2291, 'graph': 2292, '\\\\nbut': 2293, 'lt': 2294, 'angl': 2295, 'variabl': 2296, 'forget': 2297, 'young': 2298, 'evolut': 2299, 'musician': 2300, 'rival': 2301, 'amount': 2302, 'spotifi': 2303, 'william': 2304, '🤪': 2305, 'shakespear': 2306, 'dec': 2307, 'special': 2308, '\\\\n\\\\njoin': 2309, 'reward': 2310, 'opposit': 2311, 'older': 2312, 'curios': 2313, 'doc': 2314, 'packag': 2315, 'photo': 2316, 'photographi': 2317, 'garbag': 2318, 'author': 2319, 'prioriti': 2320, 'weigh': 2321, 'nut': 2322, 'narrat': 2323, 'block': 2324, 'browser': 2325, 'edg': 2326, 'sitcom': 2327, 'channel': 2328, 'properli': 2329, 'hundr': 2330, 'upload': 2331, 'annoy': 2332, 'blogger': 2333, 'decod': 2334, '//t.co/jxlhabfdwu': 2335, 'gem': 2336, 'har': 2337, 'matter': 2338, 'github': 2339, 'repo': 2340, 'click': 2341, 'tediou': 2342, 'chat-gpt': 2343, 'arithmet': 2344, 'variat': 2345, 'meal': 2346, 'fit': 2347, 'bread': 2348, '9': 2349, 'shift': 2350, 'glimps': 2351, 'therefor': 2352, '1/2': 2353, 'desir': 2354, 'core': 2355, 'versu': 2356, 'iot': 2357, 'ton': 2358, 'transact': 2359, 'self': 2360, 'z': 2361, 'extens': 2362, 'vscode': 2363, 'hire': 2364, 'spam': 2365, 'classifi': 2366, '\\\\n\\\\nin': 2367, 'declin': 2368, 'crawl': 2369, 'fifa': 2370, 'shop': 2371, 'salesforc': 2372, 'linkedin': 2373, 'pose': 2374, 'promot': 2375, 'render': 2376, 'drastic': 2377, 'compet': 2378, 'cto': 2379, 'simplifi': 2380, 'php': 2381, 'taylor': 2382, 'gay': 2383, 'ghostwrit': 2384, 'heat': 2385, 'rest': 2386, 'cancel': 2387, 'submiss': 2388, 'congratul': 2389, 'apolog': 2390, 'redund': 2391, 'owner': 2392, 'cast': 2393, 'chess': 2394, '1st': 2395, 'revolutionis': 2396, 'doubt': 2397, 'monopoli': 2398, 'jump': 2399, 'bandwagon': 2400, '🔥🔥': 2401, 'america': 2402, 'bomb': 2403, 'separ': 2404, 'lmfao': 2405, 'polic': 2406, 'justifi': 2407, 'de': 2408, 'agreement': 2409, 'violat': 2410, 'constitut': 2411, 'welp': 2412, 'career': 2413, 'choic': 2414, 'roll': 2415, 'amazingli': 2416, 'inevit': 2417, 'john': 2418, 'bottom': 2419, 'activ': 2420, 'disagre': 2421, 'caution': 2422, 'chatgpt.\\\\n\\\\ni': 2423, 'defi': 2424, 'curv': 2425, 'talent': 2426, 'perceiv': 2427, 'idiot': 2428, 'sir': 2429, 'spoken': 2430, 'disabl': 2431, 'judg': 2432, 'degre': 2433, 'bore': 2434, 'vari': 2435, 'transfer': 2436, 'everywher': 2437, 'mundan': 2438, 'restaur': 2439, 'authent': 2440, 'lensa': 2441, 'storm': 2442, 'yep': 2443, 'ngl': 2444, 'pic': 2445, 'sky': 2446, 'ta': 2447, 'humour': 2448, 'valuabl': 2449, '\\\\njust': 2450, 'alphacod': 2451, 'attribut': 2452, 'cap': 2453, 'cost': 2454, 'obsolet': 2455, 'competit': 2456, 'audit': 2457, 'particularli': 2458, 'bizarr': 2459, 'somewher': 2460, 'revis': 2461, 'extern': 2462, '`': 2463, 'unveil': 2464, 'human-lik': 2465, 'wide': 2466, 'essenti': 2467, 'suffer': 2468, 'collaps': 2469, 'uniti': 2470, 'usabl': 2471, 'board': 2472, 'blender': 2473, 'le': 2474, 'upcom': 2475, 'materi': 2476, 'aim': 2477, 'spew': 2478, 'casual': 2479, 'multipl': 2480, 'oral': 2481, 'switch': 2482, 'throughout': 2483, 'phish': 2484, 'mostli': 2485, 'lower': 2486, 'gift': 2487, 'king': 2488, 'card': 2489, '\\\\nso': 2490, 'moat': 2491, 'nation': 2492, 'co': 2493, 'somebodi': 2494, 'f': 2495, '😲': 2496, 'equival': 2497, 'par': 2498, 'polish': 2499, '\\\\nand': 2500, 'usecas': 2501, '1000': 2502, 'administr': 2503, 'decreas': 2504, 'healthcar': 2505, 'satisfi': 2506, 'thesi': 2507, 'resolut': 2508, 'advisor': 2509, 'bother': 2510, 'copilot': 2511, 'nocod': 2512, 'act': 2513, 'emerg': 2514, 'mental': 2515, 'reactj': 2516, 'uncanni': 2517, 'et': 2518, 'al': 2519, 'date': 2520, 'battl': 2521, 'dont': 2522, 'alot': 2523, 'yo': 2524, 'semest': 2525, 'bare': 2526, 'round': 2527, 'extraordinari': 2528, 'advis': 2529, 'articul': 2530, 'modern': 2531, 'beast': 2532, 'outsourc': 2533, 'magazin': 2534, 'zapier': 2535, 'valley': 2536, 'robust': 2537, 'dimens': 2538, 'metric': 2539, 'hal': 2540, 'proven': 2541, 'typo': 2542, 'dump': 2543, 'bias': 2544, 'reproduc': 2545, 'fan': 2546, 'symbol': 2547, 'philosophi': 2548, 'constant': 2549, 'tap': 2550, 'mad': 2551, 'radic': 2552, 'bullshitt': 2553, '🔥🔥🔥': 2554, 'son': 2555, 'bedtim': 2556, 'familiar': 2557, 'monster': 2558, 'resolv': 2559, 'af': 2560, 'econom': 2561, 'balanc': 2562, 'exhibit': 2563, 'ai-bas': 2564, 'grammarli': 2565, 'screw': 2566, '21st': 2567, 'shall': 2568, 'bear': 2569, '3rd': 2570, 'sophist': 2571, 'unemploy': 2572, 'lexfridman': 2573, 'fintech': 2574, 'greater': 2575, 'revolution': 2576, 'financi': 2577, 'inclus': 2578, 'extinct': 2579, 'local': 2580, 'deserv': 2581, 'elev': 2582, 'compass': 2583, 'henc': 2584, 'moral': 2585, 'asimov': 2586, 'pakistan': 2587, 'writingcommun': 2588, 'regurgit': 2589, 'mountain': 2590, 'intro': 2591, '•': 2592, 'sensibl': 2593, 'xd': 2594, '8': 2595, 'defens': 2596, 'assess': 2597, 'tend': 2598, 'calm': 2599, 'associ': 2600, 'apart': 2601, 'pictur': 2602, 'transport': 2603, 'aiartcommun': 2604, 'martin': 2605, 'mr': 2606, '\\\\n\\\\nlet': 2607, 'jailbreak': 2608, 'signific': 2609, 'kubernet': 2610, 'beat': 2611, 'superior': 2612, 'insert': 2613, 'microsoft': 2614, 'agenda': 2615, 'telegram': 2616, 'oppos': 2617, 'odd': 2618, 'nowher': 2619, 'award': 2620, 'iranian': 2621, '…': 2622, 'bob': 2623, 'ip': 2624, 'holiday': 2625, 'aiartwork': 2626, 'digitalart': 2627, '\\\\n\\\\nbi': 2628, 'depress': 2629, '👇\\\\n\\\\nhttp': 2630, '\\\\n\\\\nthen': 2631, 'invit': 2632, 'plain': 2633, 'intrigu': 2634, 'gather': 2635, 'meanwhil': 2636, 'credit': 2637, '😂\\\\n': 2638, 'hope': 2639, 'brand': 2640, 'eminem': 2641, 'nearli': 2642, 'gone': 2643, 'monthli': 2644, 'hole': 2645, 'dedic': 2646, 'funniest': 2647, 'quiz': 2648, '😅\\\\n\\\\n': 2649, 'flaw': 2650, 'malwar': 2651, 'fourth': 2652, 'tame': 2653, 'readabl': 2654, 'site': 2655, 'tailor': 2656, 'bash': 2657, 'suck': 2658, 'solo': 2659, 'repeatedli': 2660, 'entiti': 2661, 'sick': 2662, 'categori': 2663, 'einstein': 2664, 'januari': 2665, 'poll': 2666, 'maintain': 2667, 'humor': 2668, 'suit': 2669, 'numer': 2670, 'squar': 2671, '\\\\n\\\\n-': 2672, 'scope': 2673, 'useless': 2674, 'hat': 2675, 'unlimit': 2676, 'iron': 2677, 'storag': 2678, 'conveni': 2679, 'crimin': 2680, 'appeal': 2681, 'abus': 2682, 'rescu': 2683, 'hurt': 2684, 'algo': 2685, 'sketch': 2686, 'hello': 2687, '🤝': 2688, 'generativeart': 2689, 'sci-fi': 2690, 'loos': 2691, 'sing': 2692, 'meaning': 2693, 'overview': 2694, 'tough': 2695, 'boggl': 2696, '😂\\\\n\\\\n': 2697, 'dear': 2698, 'sincer': 2699, 'consequ': 2700, 'cautiou': 2701, 'boost': 2702, 'sooo': 2703, '💀': 2704, 'principl': 2705, 'paul': 2706, 'string': 2707, 'count': 2708, 'foreign': 2709, 'silent': 2710, 'aid': 2711, 'nerd': 2712, 'tiktok': 2713, 'weekli': 2714, 'seemingli': 2715, 'chatgpt\\\\n\\\\n': 2716, 'electr': 2717, 'franc': 2718, 'no-cod': 2719, 'argentina': 2720, 'ftx': 2721, 'pop': 2722, 'former': 2723, 'rank': 2724, 'bank': 2725, 'wisdom': 2726, 'medtwitt': 2727, '\\\\nhere': 2728, 'diet': 2729, 'church': 2730, '✅': 2731, '\\\\n\\\\nnow': 2732, 'low': 2733, 'flutter': 2734, 'adventur': 2735, 'spawn': 2736, 'openaichat': 2737, 'profil': 2738, 'examin': 2739, 'mock': 2740, 'patient': 2741, 'matur': 2742, 'zone': 2743, '🧠': 2744, '~': 2745, 'dao': 2746, 'chatgpt.\\\\n': 2747, 'collar': 2748, 'brought': 2749, 'wire': 2750, 'car': 2751, 'pet': 2752, 'graduat': 2753, 'approach': 2754, 'profound': 2755, 'prior': 2756, 'santa': 2757, 'rave': 2758, 'monday': 2759, 'kept': 2760, 'load': 2761, 'capac': 2762, 'ecommerc': 2763, 'everybodi': 2764, 'spoke': 2765, 'docker': 2766, 'gptchat': 2767, 'marvel': 2768, 'traffic': 2769, 'limitless': 2770, '.\\\\n\\\\n': 2771, '\\\\n\\\\nthank': 2772, 'saa': 2773, 'tactic': 2774, 'hitler': 2775, 'donald': 2776, 'duck': 2777, '\\\\nmi': 2778, 'skynet': 2779, '\\\\n\\\\nso': 2780, 'horror': 2781, 'encount': 2782, '24': 2783, 'forth': 2784, 'endless': 2785, 'deck': 2786, 'birth': 2787, 'nobodi': 2788, 'till': 2789, 'mask': 2790, '\\\\nme': 2791, 'inner': 2792, 'govern': 2793, 'fool': 2794, 'explicitli': 2795, '\\\\nthat': 2796, 'entrepreneur': 2797, 'comic': 2798, 'girl': 2799, 'twice': 2800, 'golden': 2801, 'rl': 2802, 'curat': 2803, 'urg': 2804, 'macro': 2805, 'japan': 2806, 'frighten': 2807, 'intens': 2808, 'w/': 2809, 'dust': 2810, 'arsen': 2811, 'chapter': 2812, 'aggress': 2813, 'uni': 2814, 'w': 2815, 'jeev': 2816, 'approxim': 2817, 'censorship': 2818, '\\\\nwhat': 2819, 'ds': 2820, 'viru': 2821, 'demand': 2822, '\\\\n\\\\njust': 2823, 'perman': 2824, 'billion': 2825, 'pl': 2826, '\\\\n\\\\nalso': 2827, 'hide': 2828, 'distract': 2829, 'diseas': 2830, 'forum': 2831, 'intellectu': 2832, 'distinguish': 2833, 'mimic': 2834, 'adversari': 2835, 'fusion': 2836, 'chatgpt3': 2837, '😄': 2838, 'breath': 2839, '→': 2840, '30': 2841, 'groundbreak': 2842, 'tv': 2843, 'subscript': 2844, 'embarrass': 2845, '//t.co/ynofvdx5dp': 2846, 'spanish': 2847, 'split': 2848, 'linguist': 2849, 'distinct': 2850, 'thoroughli': 2851, 'pre-train': 2852, 'manufactur': 2853, 'consent': 2854, 'higher': 2855, 'eg': 2856, 'fanci': 2857, 'seek': 2858, 'analog': 2859, 'mislead': 2860, 'amazon': 2861, 'civil': 2862, 'divers': 2863, 'indic': 2864, '🤔\\\\n\\\\n': 2865, 'green': 2866, 'avatar': 2867, 'co-found': 2868, 'fire': 2869, 'element': 2870, 'bull': 2871, 'tire': 2872, 'certainli': 2873, 'tbh': 2874, 'autonom': 2875, 'spooki': 2876, 'discord': 2877, 'shape': 2878, 'copywrit': 2879, 'editor': 2880, 'experiment': 2881, '✨': 2882, 'synthes': 2883, 'infrastructur': 2884, 'azur': 2885, 'appli': 2886, 'labor': 2887, 'tag': 2888, 'grasp': 2889, 'impli': 2890, 'environ': 2891, 'host': 2892, 'pentest': 2893, 'chatter': 2894, 'jame': 2895, 'buzz': 2896, '🥰': 2897, 'mainli': 2898, 'academ': 2899, 'kany': 2900, 'linear': 2901, '😊': 2902, 'relax': 2903, 'op': 2904, 'overload': 2905, 'guardrail': 2906, 'incomplet': 2907, '\\\\n\\\\nwho': 2908, 'alan': 2909, 'select': 2910, 'destruct': 2911, 'regul': 2912, 'weapon': 2913, 'bc': 2914, 'onto': 2915, 'variant': 2916, 'legend': 2917, 'near': 2918, 'hood': 2919, 'java': 2920, 'superfici': 2921, 'fastest': 2922, 'password': 2923, '🥳': 2924, 'ai\\\\nhttp': 2925, 'entri': 2926, 'display': 2927, 'player': 2928, 'setup': 2929, 'worker': 2930, 'honor': 2931, 'shoot': 2932, 'cure': 2933, 'ourselv': 2934, 'protect': 2935, 'forev': 2936, 'remot': 2937, 'particip': 2938, 'panel': 2939, 'politician': 2940, 'attend': 2941, 'central': 2942, 'stumbl': 2943, 'modifi': 2944, 'conduct': 2945, 'survey': 2946, 'pi': 2947, 'pump': 2948, 'legit': 2949, 'garymarcu': 2950, 'sight': 2951, 'poet': 2952, '1/4': 2953, 'bullet': 2954, 'instagram': 2955, 'childhood': 2956, 'surveil': 2957, 'cult': 2958, 'per': 2959, 'pin': 2960, 'speaker': 2961, 'soft': 2962, 'copy-past': 2963, 'brother': 2964, 'obsess': 2965, 'rare': 2966, 'deepmind': 2967, 'frontend': 2968, 'horribl': 2969, 'price': 2970, 'shopifi': 2971, 'fanfic': 2972, 'forc': 2973, 'gap': 2974, 'terribl': 2975, '//t.co/bdtgbuiwtg': 2976, 'sit': 2977, 'complain': 2978, 'geniu': 2979, 'pal': 2980, 'canva': 2981, 'studio': 2982, 'button': 2983, 'churn': 2984, 'gold': 2985, 'ur': 2986, 'shini': 2987, '\\\\n\\\\npleas': 2988, 'theoret': 2989, 'sam': 2990, 'speechless': 2991, 'reflect': 2992, 'legaci': 2993, 'ap': 2994, 'mastodon': 2995, 'investig': 2996, 'hustl': 2997, 'radio': 2998, 'grate': 2999, 'whenev': 3000, 'acquir': 3001, 'paradigm': 3002, 'fiverr': 3003, 'portfolio': 3004, 'resum': 3005, 'air': 3006, 'notif': 3007, 'enorm': 3008, 'replic': 3009, 'pilot': 3010, '95': 3011, 'soul': 3012, 'co-pilot': 3013, 'badli': 3014, '\\\\n\\\\nor': 3015, 'suffici': 3016, 'margin': 3017, '\\\\n\\\\nwill': 3018, 'fetch': 3019, 'refresh': 3020, 'main': 3021, 'scheme': 3022, 'sermon': 3023, 'bibl': 3024, 'outperform': 3025, 'shortcut': 3026, 'ethereum': 3027, 'ev': 3028, 'takeaway': 3029, '2030': 3030, 'russian': 3031, 'men': 3032, 'hesit': 3033, 'staff': 3034, 'builder': 3035, 'sandwich': 3036, 'saturday': 3037, 'europ': 3038, 'alarm': 3039, 'elit': 3040, 'joe': 3041, 'desper': 3042, 'pleasur': 3043, 'rage': 3044, 'substack': 3045, 'spec': 3046, 'transcript': 3047, '.\\\\n': 3048, 'five': 3049, 'straightforward': 3050, 'ga': 3051, 'advertis': 3052, 'procedur': 3053, 'afternoon': 3054, 'neither': 3055, '75': 3056, 'touch': 3057, 'lamda': 3058, 'courtesi': 3059, 'dc': 3060, 'flash': 3061, 'gang': 3062, '13': 3063, 'miller': 3064, '17': 3065, 'satir': 3066, 'tear': 3067, 'tree': 3068, 'wood': 3069, 'chrome': 3070, 'rock': 3071, 'recruit': 3072, 'conversationalai': 3073, 'dad': 3074, 'blew': 3075, 'rotat': 3076, 'bought': 3077, 'fellow': 3078, 'dawn': 3079, 'flight': 3080, 'superpow': 3081, 'peak': 3082, 'norm': 3083, 'kick': 3084, 'misus': 3085, 'it…': 3086, 'admin': 3087, 'husband': 3088, 'tremend': 3089, 'tom': 3090, 'album': 3091, 'crime': 3092, 'ode': 3093, 'facebook': 3094, 'midjourneyai': 3095, 'guru': 3096, 'step-by-step': 3097, 'fraud': 3098, 'comm': 3099, 'real-tim': 3100, 'comparison': 3101, 'cover': 3102, 'yall': 3103, 'dr.': 3104, 'seuss': 3105, 'declar': 3106, 'hop': 3107, 'wealth': 3108, 'fund': 3109, 'scratch': 3110, 'hr': 3111, 'sooner': 3112, 'cryptonew': 3113, '😔': 3114, 'unknown': 3115, 'frankli': 3116, 'counter': 3117, 'tinker': 3118, 'shadow': 3119, 'accident': 3120, 'rout': 3121, 'dl': 3122, 'nazi': 3123, 'msft': 3124, 'insist': 3125, 'bound': 3126, 'themselv': 3127, '\\\\nthi': 3128, 'nah': 3129, 'underestim': 3130, 'length': 3131, '18': 3132, 'phenomen': 3133, 'chief': 3134, '🙃': 3135, 'ladi': 3136, 'solana': 3137, '100daysofcod': 3138, 'indistinguish': 3139, 'messi': 3140, 'dungeon': 3141, 'discoveri': 3142, 'layoff': 3143, 'recess': 3144, '\\\\n\\\\ncontinu': 3145, '\\\\nthere': 3146, 'unpopular': 3147, 'hail': 3148, 'column': 3149, '😜': 3150, 'patent': 3151, 'properti': 3152, 'electron': 3153, 'fee': 3154, 'til': 3155, 'socialmedia': 3156, 'audienc': 3157, 'literari': 3158, '🚨': 3159, 'zero': 3160, 'lab': 3161, 'dr': 3162, 'pivot': 3163, 'cultur': 3164, 'biolog': 3165, 'verg': 3166, 'curs': 3167, 'six': 3168, 'south': 3169, 'spacex': 3170, 'stephen': 3171, 'leader': 3172, 'disast': 3173, 'substanc': 3174, 'armi': 3175, 'slack': 3176, 'inflect': 3177, 'label': 3178, '🎉': 3179, '11': 3180, 'latter': 3181, 'sensat': 3182, \"'the\": 3183, 'trustworthi': 3184, 'edtech': 3185, 'destroy': 3186, 'neutral': 3187, 'enemi': 3188, '300': 3189, '500': 3190, 'snow': 3191, 'fork': 3192, 'behaviour': 3193, '//t.co/cbj7yrwrst': 3194, 'determin': 3195, 'spread': 3196, 'supervis': 3197, 'worst': 3198, 'googlenew': 3199, 'ironi': 3200, 'underr': 3201, 'shake': 3202, 'locat': 3203, 'period': 3204, 'e': 3205, 'mileston': 3206, 'plagiar': 3207, 'checker': 3208, '\\\\n\\\\nwrite': 3209, '/r/technolog': 3210, 'teknocks\\\\nvia': 3211, 'workout': 3212, 'routin': 3213, 'male': 3214, 'wave': 3215, 'hunter': 3216, 'depart': 3217, 'reput': 3218, 'indiedev': 3219, 'gamedev': 3220, 'hashtag': 3221, 'mainstream': 3222, 'blast': 3223, 'italian': 3224, 'pun': 3225, 'breakdown': 3226, 'proud': 3227, 'outdat': 3228, 'cli': 3229, 'faculti': 3230, 'use-cas': 3231, 'io': 3232, 'keyboard': 3233, '😱': 3234, 'est': 3235, 'fluent': 3236, 'cooki': 3237, 'max': 3238, 'paus': 3239, 'mod': 3240, 'rubber': 3241, 'eloqu': 3242, 'birthday': 3243, '\\\\n\\\\nprompt': 3244, 'blame': 3245, 'represent': 3246, 'phase': 3247, 'editori': 3248, '\\\\n\\\\nall': 3249, 'jack': 3250, 'smh': 3251, 'jordanbpeterson': 3252, '\\\\n\\\\none': 3253, 'profici': 3254, 'democraci': 3255, 'passion': 3256, 'quicker': 3257, 'mom': 3258, 'disclaim': 3259, 'sunday': 3260, 'ensur': 3261, 'flag': 3262, 'diagram': 3263, 'focus': 3264, 'openai\\\\n': 3265, 'rabbit': 3266, 'fell': 3267, 'ugli': 3268, 'mlart': 3269, 'mlsogood': 3270, 'datascientist': 3271, 'algorithm\\\\n': 3272, 'aiartgener': 3273, 'vr': 3274, 'grab': 3275, 'rapidli': 3276, 'dinner': 3277, 'began': 3278, '\\\\n\\\\nadd': 3279, 'vice': 3280, 'danc': 3281, 'quora': 3282, 'jason': 3283, 'whose': 3284, 'creatur': 3285, 'rid': 3286, 'guidelin': 3287, 'spoiler': 3288, 'oracl': 3289, 'sea': 3290, 'atom': 3291, 'canada': 3292, 'reaction': 3293, 'necessari': 3294, 'grammat': 3295, 'artwork': 3296, 'tackl': 3297, 'gpt3chat': 3298, 'screen': 3299, 'perspect': 3300, 'crush': 3301, 'pars': 3302, 'bid': 3303, 'iq': 3304, 'dnd': 3305, 'nonexist': 3306, 'nyt': 3307, 'difficulti': 3308, 'negoti': 3309, 'g': 3310, 'webpag': 3311, 'religion': 3312, 'racist': 3313, 'ed': 3314, 'vast': 3315, 'volum': 3316, 'femal': 3317, 'food': 3318, 'highest': 3319, 'deliveri': 3320, 'pokemon': 3321, 'repositori': 3322, 'git': 3323, 'explos': 3324, 'chart': 3325, 'heavili': 3326, 'toni': 3327, '\\\\n\\\\non': 3328, 'offlin': 3329, 'incept': 3330, 'asid': 3331, 'manner': 3332, 'rob': 3333, 'masterpiec': 3334, 'approv': 3335, 'begun': 3336, '\\\\n\\\\ngoogl': 3337, 'offens': 3338, 'ar': 3339, 'dialogue-bas': 3340, 'fam': 3341, 'lack': 3342, 'fabric': 3343, '\\\\n\\\\nthere': 3344, 'conserv': 3345, 'peer': 3346, 'novemb': 3347, 'ukrain': 3348, 'senior': 3349, 'imperson': 3350, 'grad': 3351, 'stat': 3352, 'chatgtp': 3353, 'beer': 3354, 'threaten': 3355, 'delay': 3356, 'emul': 3357, 'teenag': 3358, 'pizza': 3359, 'text-bas': 3360, 'augment': 3361, 'nick': 3362, 'utterli': 3363, 'dozen': 3364, '2nd': 3365, 'expens': 3366, 'irrelev': 3367, '60': 3368, 'comfort': 3369, 'pocket': 3370, 'ada': 3371, '40': 3372, 'chatgpt-lik': 3373, 'passiv': 3374, 'bio': 3375, 'bitch': 3376, 'academia': 3377, 'nervou': 3378, 'classroom': 3379, 'western': 3380, 'narr': 3381, '\\\\nyou': 3382, '\\\\n\\\\nsee': 3383, 'estim': 3384, 'suspend': 3385, 'alter': 3386, 'rethink': 3387, 'candid': 3388, 'jasper': 3389, 'dragon': 3390, '\\\\n\\\\nmore': 3391, 'screenplay': 3392, 'accomplish': 3393, 'feder': 3394, 'reserv': 3395, 'craze': 3396, 'ten': 3397, 'gpu': 3398, 'epic': 3399, 'successor': 3400, 'mike': 3401, 'poe': 3402, 'cash': 3403, 'wed': 3404, 'closest': 3405, 'authorit': 3406, 'militari': 3407, 'burn': 3408, 'scam': 3409, 'miracl': 3410, 'it.\\\\n\\\\n': 3411, 'credibl': 3412, 'boot': 3413, 'father': 3414, 'ia': 3415, 'yahoo': 3416, 'unus': 3417, '\\\\n\\\\n•': 3418, 'node': 3419, 'band': 3420, 'target': 3421, 'mid': 3422, 'estat': 3423, 'patch': 3424, 'stake': 3425, 'persuas': 3426, 'overlook': 3427, 'and/or': 3428, 'upset': 3429, '\\\\nwrite': 3430, 'delight': 3431, 'githubcopilot': 3432, 'cancer': 3433, '\\U0001fae3': 3434, 'paid': 3435, 'lit': 3436, 'institut': 3437, 'citizen': 3438, 'driver': 3439, 'prize': 3440, 'defend': 3441, 'inflat': 3442, 'height': 3443, 'wallet': 3444, 'heavi': 3445, 'loss': 3446, 'panic': 3447, 'intersect': 3448, 'rpg': 3449, 'propaganda': 3450, 'germani': 3451, '\\\\nif': 3452, 'empathi': 3453, 'suppli': 3454, 'brillianc': 3455, 'strength': 3456, '//t.co/lebbgsek72': 3457, 'lectur': 3458, 'guarante': 3459, 'problemat': 3460, 'indi': 3461, '🤣🤣': 3462, 'tuesday': 3463, 'xma': 3464, 'bird': 3465, 'attach': 3466, 'astound': 3467, 'employe': 3468, 'text-gener': 3469, 'dissert': 3470, 'nois': 3471, 'akin': 3472, 'steve': 3473, 'warm': 3474, 'stablediffusion2': 3475, 'glass': 3476, '\\\\n\\\\nwell': 3477, 'greatli': 3478, 'guidanc': 3479, 'bake': 3480, 'configur': 3481, 'prospect': 3482, 'egg': 3483, 'aka': 3484, 'peril': 3485, 'keyword': 3486, 'wont': 3487, 'muse': 3488, 'turnitin': 3489, 'nightmar': 3490, 'surpass': 3491, 'notebook': 3492, 'semant': 3493, 'angel': 3494, 'west': 3495, 'friday': 3496, 'mint': 3497, 'terror': 3498, 'insur': 3499, 'parent': 3500, 'metaphor': 3501, 'gmail': 3502, 'gamechang': 3503, 'webdev': 3504, 'dude': 3505, 'liar': 3506, 'lift': 3507, 'lil': 3508, 'therapi': 3509, 'park': 3510, 'romant': 3511, 'horizon': 3512, 'em': 3513, 'dare': 3514, 'sudden': 3515, 'referenc': 3516, '\\\\nfor': 3517, 'temporari': 3518, 'fingertip': 3519, 'bless': 3520, 'twitch': 3521, '\\\\n\\\\nlook': 3522, 'reportedli': 3523, 'goodby': 3524, 'soccer': 3525, 'doctor': 3526, 'smile': 3527, 'peter': 3528, 'blank': 3529, 'copy/past': 3530, 'firm': 3531, 'bold': 3532, 'academictwitt': 3533, 'goat': 3534, 'softwareengin': 3535, 'l': 3536, 'grown': 3537, 'bang': 3538, 'ride': 3539, 'chase': 3540, 'ideolog': 3541, 'tie': 3542, 'women': 3543, 'kantrowitz': 3544, 'chatgpt.\\\\n\\\\nhttp': 3545, 'stronger': 3546, 'damag': 3547, '1m': 3548, 'cognit': 3549, 'advoc': 3550, 'lambda': 3551, 'cake': 3552, 'ingredi': 3553, 'forecast': 3554, 'stem': 3555, 'orient': 3556, 'hang': 3557, 'feat': 3558, '\\\\nin': 3559, 'storytel': 3560, 'non': 3561, '\\\\ndo': 3562, 'ide': 3563, 'overcom': 3564, 'inher': 3565, '😍': 3566, 'bing': 3567, 'vacat': 3568, 'ai-assist': 3569, 'cardano': 3570, 'thrive': 3571, 'captcha': 3572, 'grader': 3573, 'pool': 3574, 'logo': 3575, '\\\\nthank': 3576, 'adam': 3577, 'tensorflow': 3578, '😃': 3579, 'gig': 3580, 'inaccur': 3581, 'vm': 3582, 'friendship': 3583, 'nodej': 3584, 'immens': 3585, 'gf': 3586, 'spreadsheet': 3587, 'gatekeep': 3588, 'purchas': 3589, 'justic': 3590, 'warrior': 3591, 'dilemma': 3592, 'silicon': 3593, 'heaven': 3594, 'conclud': 3595, 'smooth': 3596, 'poorli': 3597, 'exhaust': 3598, 'corpu': 3599, 'afford': 3600, 'se': 3601, 'huggingfac': 3602, 'wordl': 3603, 'sex': 3604, 'buildinpubl': 3605, 'dapp': 3606, 'bloomberg': 3607, 'float': 3608, 'fault': 3609, 'hub': 3610, 'novelti': 3611, 'open-sourc': 3612, 'flip': 3613, '\\\\nto': 3614, 'wildli': 3615, 'subscrib': 3616, 'fortun': 3617, '\\\\n\\\\nye': 3618, 'archiv': 3619, 'greet': 3620, 'shrug': 3621, 'driven': 3622, 'ticket': 3623, 'bright': 3624, 'prof': 3625, 'tldr': 3626, 'zoom': 3627, 'imaginari': 3628, 'commentari': 3629, 'harri': 3630, 'potter': 3631, 'alex': 3632, '«': 3633, 'trader': 3634, 'minim': 3635, 'besid': 3636, 'calendar': 3637, 'mail': 3638, 'profoundli': 3639, 'coverag': 3640, 'beginn': 3641, 'ie': 3642, 'critiqu': 3643, 'nico': 3644, 'optimist': 3645, 'favor': 3646, 'fresh': 3647, 'suprem': 3648, 'chri': 3649, 'notion': 3650, 'quillbot': 3651, '\\\\nlet': 3652, 'ig': 3653, 'astrolog': 3654, '\\\\n3': 3655, 'clue': 3656, 'mysteri': 3657, 'reimagin': 3658, 'trash': 3659, 'devop': 3660, 'steam': 3661, 'fad': 3662, 'freelanc': 3663, 'icymi': 3664, 'frontier': 3665, 'opensourc': 3666, 'fyi': 3667, 'chao': 3668, 'enterpris': 3669, 'underli': 3670, 'btw': 3671, 'sister': 3672, 'assert': 3673, 'giveaway': 3674, 'pod': 3675, 'merg': 3676, 'npc': 3677, 'uneth': 3678, 'slate': 3679, 'urgent': 3680, 'forest': 3681, 'belong': 3682, 'substanti': 3683, 'hahaha': 3684, 'serverless': 3685, 'spare': 3686, 'grace': 3687, 'extend': 3688, 'summaris': 3689, 'russia': 3690, 'producthunt': 3691, 'dave': 3692, 'lore': 3693, 'asap': 3694, 'exceed': 3695, 'putin': 3696, 'ai\\\\n\\\\nhttp': 3697, 'daughter': 3698, 'rush': 3699, 'mr.': 3700, 'american': 3701, 'crunch': 3702, 'palm': 3703, 'guardian': 3704, 'essay-writ': 3705, '22': 3706, 'verbal': 3707, 'goog': 3708, 'digitalhealth': 3709, 'tinder': 3710, 'medicin': 3711, '\\U0001f979': 3712, 'playwright': 3713, 'vaccin': 3714, '👋': 3715, 'guest': 3716, 'bond': 3717, 'intoainew': 3718, 'biden': 3719, 'op-': 3720, '\\\\n\\\\nlike': 3721, 'privat': 3722, 'fifaworldcup': 3723, 'ghost': 3724, 'barrier': 3725, '4th': 3726, 'ai\\\\n': 3727, 'inequ': 3728, 'breakingnew': 3729, 'england': 3730, 'ransomwar': 3731, 'necessarili': 3732, 'genr': 3733, 'xrp': 3734, 'hair': 3735, 'ceo': 3736, 'asset': 3737, 'real-world': 3738, 'techcrunch': 3739, 'benefici': 3740, 'gear': 3741, 'digitalmarket': 3742, '👀\\\\n\\\\n': 3743, 'slowdown': 3744, 'member': 3745, 'surround': 3746, 'learner': 3747, 'islam': 3748, 'eye-open': 3749, 'chatwithgpt': 3750, 'deepfak': 3751, 'disinform': 3752, 'christian': 3753, 'carol': 3754, 'chatgpt\\\\n-': 3755, 'chose': 3756, 'syllabu': 3757, 'dan': 3758, 'percept': 3759, 'memor': 3760, 'embrac': 3761, 'qualifi': 3762, 'autocomplet': 3763, 'bewar': 3764, 'newspap': 3765, 'nope': 3766, 'trivial': 3767, 'hobbi': 3768, '🤣🤣🤣': 3769, 'brazil': 3770, 'weirder': 3771, 'drunk': 3772, 'thu': 3773, 'cheap': 3774, 'expertis': 3775, 'employ': 3776, 'larger': 3777, 'magnitud': 3778, '25': 3779, 'ai-driven': 3780, 'aiethic': 3781, 'codenewbi': 3782, 'selfi': 3783, 'ai\\\\n\\\\n': 3784, 'annual': 3785, 'societ': 3786, 'bout': 3787, 'imit': 3788, 'paraphras': 3789, 'realm': 3790, 'queen': 3791, 'macbook': 3792, 'forb': 3793, 'eerili': 3794, '\\\\n\\\\nto': 3795, 'renam': 3796, 'composit': 3797, 'unicorn': 3798, 'dystopian': 3799, 'chatgpt.\\\\nhttp': 3800, 'eve': 3801, 'amplifi': 3802, 'computersci': 3803, 'scream': 3804, 'combat': 3805, 'racism': 3806, 'quiet': 3807, 'obtain': 3808, 'instructor': 3809, 'geni': 3810, 'notionhq': 3811, 'chatgbt': 3812, 'seven': 3813, 'mute': 3814, 'mar': 3815, 'b2b': 3816, 'specialist': 3817, 'maco': 3818, 'leagu': 3819, 'clau': 3820, 'mankind': 3821, 'dumber': 3822, '23': 3823, 'wheel': 3824, 'mile': 3825, 'affili': 3826, 'paywal': 3827, 'go-to': 3828, 'persist': 3829, 'ronaldo': 3830, 'habit': 3831, 'scalabl': 3832, 'pc': 3833, 'nicochan33': 3834, 'shi4tech': 3835, 'california': 3836, 'ownership': 3837, 'alphabet': 3838, 'sole': 3839, '70': 3840, 'backstori': 3841, 'embed': 3842, 'saver': 3843, 'substitut': 3844, 'smartest': 3845, 'daniel': 3846, 'unoffici': 3847, 'ponder': 3848, 'stone': 3849, 'hollywood': 3850, 'parallel': 3851, 'webdevelop': 3852, 'kindl': 3853, 'court': 3854, 'infiltr': 3855, 'aichatbot': 3856, 'festiv': 3857, 'behav': 3858, '3.0': 3859, 'recap': 3860, 'foil': 3861, 'vastli': 3862, 'drawn': 3863, 'wipe': 3864, '\\\\nai': 3865, 'contentmarket': 3866, 'pov': 3867, 'flexibl': 3868, 'intend': 3869, 'state-of-the-art': 3870, '😏': 3871, 'disappear': 3872, 'academicchatt': 3873, '\\\\n•': 3874, '//t.co/dsuxjoexm6': 3875, 'spring': 3876, 'labour': 3877, '200': 3878, 'cowork': 3879, 'prep': 3880, 'occasion': 3881, 'shell': 3882, 'sector': 3883, 'frank': 3884, 'bye': 3885, 'director': 3886, 'biz': 3887, 'drake': 3888, 'airdrop': 3889, 'scary-good': 3890, 'gan': 3891, 'fossil': 3892, 'nftcommun': 3893, 'dictat': 3894, 'captiv': 3895, 'usher': 3896, 'a+': 3897, 'ama': 3898, 'co-author': 3899, 'bottl': 3900, 'dreamlik': 3901, 'loom': 3902, 'openai\\u2069': 3903, 'msm': 3904, 'andrew': 3905, 'divid': 3906, 'smaller': 3907, 'houston': 3908, 'mere': 3909, 'dismiss': 3910, 'aggreg': 3911, 'dey': 3912, 'miser': 3913, 'reshap': 3914, 'academicintegr': 3915, '2024': 3916, \"'code\": 3917, 'sentiment': 3918, 'redux': 3919, 'broadcast': 3920, 'betamoroney': 3921, 'nytim': 3922, 'twitterfil': 3923, 'misunderstand': 3924, 'sheet': 3925, 'spur': 3926, 'practition': 3927, '5g': 3928, 'echo': 3929, 'hospit': 3930, 'prohibit': 3931, 'abt': 3932, 'clubhous': 3933, 'powershel': 3934, 'uncl': 3935, 'mediocr': 3936, 'mf': 3937, 'ex': 3938, '🙏': 3939, 'sol': 3940, 'kevin': 3941, 'someday': 3942, '\\\\n\\\\nuse': 3943, 'entrepreneurship': 3944, 'digitaltransform': 3945, 'gratitud': 3946, 'caption': 3947, 'delet': 3948, 'made-up': 3949, 'herald': 3950, 'artificialintelig': 3951, 'marri': 3952, 'fet': 3953, 'nowaday': 3954, 'north': 3955, 'stablediffusionart': 3956, '👇\\\\nhttp': 3957, 'jolaburnett': 3958, 'jimharri': 3959, 'high-school': 3960, 'programminghumor': 3961, 'instrument': 3962, 'blogpost': 3963, 'len': 3964, 'plato': 3965, 'autonomousvehicl': 3966, 'streamlin': 3967, 'phenomenon': 3968, 'devast': 3969, '......': 3970, '.\\\\nhttp': 3971, 'ft': 3972, 'trillion': 3973, 'learnt': 3974, 'fuel': 3975, 'decision-mak': 3976, 'spirosmargari': 3977, 'disput': 3978, 'sc': 3979, 'high-qual': 3980, 'parodi': 3981, 'mckinsey': 3982, 'tempt': 3983, 'ufo': 3984, 'london': 3985, 'aigc': 3986, 'contentcr': 3987, 'lastpass': 3988, 'outstand': 3989, 'regularli': 3990, 'programmingmem': 3991, 'africa': 3992, 'merri': 3993, 'bnb': 3994, 'newsflash': 3995, 'iiot': 3996, 'unreli': 3997, 'jeff': 3998, 'frighteningli': 3999, 'dread': 4000, 'edutwitt': 4001, '2.5': 4002, '\\\\n5': 4003, 'chatgptbot': 4004, 'npr': 4005, 'spiritu': 4006, 'ufotwitt': 4007, 'uaptwitt': 4008, 'aitool': 4009, 'chatgpt\\\\njoin': 4010, 'cyberattack': 4011, 'grape': 4012, 'binanc': 4013, 'contentwrit': 4014, 'avax': 4015, 'dataanalyt': 4016, '//t.co/rlyimpqw40\\\\n\\\\n': 4017, 'preserv': 4018, '3m': 4019, 'abject': 4020, 'oil': 4021, 'exec': 4022, 'messiah': 4023, 'futureofwork': 4024, 'mca': 4025, 'geek': 4026, 'reddit\\\\n\\\\nhttp': 4027, 'lensaai': 4028, 'mbapp': 4029, 'detector': 4030, 'grapeswap': 4031, 'maandamano': 4032, 'quai': 4033, 'trilemma': 4034, 'quainetwork': 4035, 'finperform': 4036, 'sundar': 4037, 'pichai': 4038, 'kane': 4039, 'musk-found': 4040, 'aiartist': 4041, 'curriculum': 4042, 'tf': 4043, 'aistori': 4044, 'watermark': 4045, 'doomsday': 4046, 'cnbc': 4047, 'handwritten': 4048, \"'scari\": 4049, 'wsj': 4050, 'glengilmor': 4051, '1b': 4052, 'edchat': 4053, 'googlesearch': 4054, 'artificalintellig': 4055, 'brian': 4056, 'pisc': 4057, 'boma': 4058, 'kisii': 4059, 'play\\\\n': 4060, 'kelvin': 4061, 'kamiti': 4062, 'amerix': 4063, 'meakin': 4064, 'judiciari': 4065, 'madam': 4066, 'museveni': 4067, 'kiptum': 4068, '//t.co/nxtwogytb5': 4069, 'onyango': 4070, 'machakosunivers': 4071, 'tape': 4072, 'insurtech': 4073, 'amid': 4074, 'lindagrass0': 4075, 'rippl': 4076, 'morgan': 4077, '\\\\n\\\\nnetflix': 4078, 'months\\\\ninstagram': 4079, '41': 4080, 'sharegpt': 4081, 'cybersecurit': 4082, 'lunc': 4083, 'reuter': 4084, 'drjdrooghaag': 4085, '\\\\n➡️': 4086, 'emollick': 4087, 'roos': 4088, 'buzzi': 4089, 'college-level': 4090, 'businessinsid': 4091, 'atlant': 4092, 'stanley': 4093, 'cnet': 4094, 'openaichatgpt': 4095, 'ronald_vanloon': 4096, 'prisma': 4097, '📜': 4098, 'utc': 4099, 'months\\\\nchatgpt': 4100, 'freemint': 4101, 'theatlant': 4102, 'stephenmarch': 4103, 'furiously—and': 4104, 'webinar': 4105, 'nypost': 4106, 'years\\\\nfacebook': 4107, 'months\\\\nspotifi': 4108, 'donotpay': 4109, 'piscesbaishui': 4110, 'usdt': 4111, '6usdt💵': 4112, 'cybercrim': 4113, 'fogoro': 4114, 'nigewillson': 4115, 'gizmodo': 4116, 'ces2023': 4117, 'years\\\\ntwitter-': 4118, 'matic': 4119, 'samfbiddl': 4120, 'mosqu': 4121, 'markwschaef': 4122, 'scoopit': 4123, 'merrychristma': 4124, 'openaicommun': 4125, '👉🏿👉🏿': 4126, 'peopledao': 4127, 'campaign🪂i': 4128, 'coffinlifebuoy': 4129, 'learngpt': 4130, 'robtle': 4131, 'jorgeorchil': 4132, 'sansspecialbroadcast': 4133, 'chatgpt-styl': 4134, 'aiartgenerator\\\\n': 4135, 'metz': 4136, 'cade': 4137, 'chatgpt_erc_bot': 4138, 'chatson': 4139, 'sejourn': 4140, 'martinibust': 4141, 'comcast': 4142, 'reshuffl': 4143, 'blogengag': 4144, 'capitalizetitl': 4145, 'it_audit': 4146, 'e-e-a-t': 4147, 'fairer': 4148, '信息交易': 4149, '深网': 4150, '//t.co/yfsn3kthrj': 4151, 'youtubeautom': 4152, 'person\\\\n\\\\n': 4153, 'vincentterrasi': 4154, 'youchat': 4155, 'tonyhayesseo': 4156, '<UNK>': 4157}\n"
     ]
    }
   ],
   "source": [
    "IDF['<UNK>'] = 1\n",
    "vocab['<UNK>'] = len(vocab)\n",
    "print(vocab)"
   ]
  },
  {
   "cell_type": "code",
   "execution_count": 9,
   "metadata": {
    "colab": {
     "base_uri": "https://localhost:8080/"
    },
    "id": "rj13lwm9oSoJ",
    "outputId": "66a7dab1-f66e-42b8-8752-142da2937606"
   },
   "outputs": [
    {
     "name": "stdout",
     "output_type": "stream",
     "text": [
      "[0, 0, 0, 0, 0, 0, 0, 0, 0, 0, 0, 0, 0, 0, 0, 0, 0, 0, 0, 0, 0, 0, 0, 0, 0, 0, 0, 0, 0, 0, 0, 0, 0, 0, 0, 0, 0, 0, 0, 0, 0, 0, 0, 0, 0, 0, 0, 0, 0, 0, 0, 0, 0, 0, 0, 0, 0, 0, 0, 0, 0, 0, 0, 0, 0, 0, 0, 0, 0, 0, 0, 0, 0, 0, 0, 0, 0, 0, 0, 0, 0, 0, 0, 0, 0, 0, 0, 0, 0, 0, 0, 0, 0, 0, 0, 0, 0, 0, 0, 0, 0, 0, 0, 0, 0, 0, 0, 0, 0, 0, 0, 0, 0, 0, 0, 0, 0, 0, 0, 0, 0, 0, 0, 0, 0, 0, 0, 0, 0, 0, 0, 0, 0, 0, 0, 0, 0, 0, 0, 0, 0, 0, 0, 0, 0, 0, 0, 0, 0, 0, 0, 0, 0, 0, 0, 0, 0, 0, 0, 0, 0, 0, 0, 0, 0, 0, 0, 0, 0, 0, 0, 0, 0, 0, 0, 0, 0, 0, 0, 0, 0, 0, 0, 0, 0, 0, 0, 0, 0, 0, 0, 0, 0, 0, 0, 0, 0, 0, 0, 0, 0, 0, 0, 0, 0, 0, 0, 0, 0, 0, 0, 0, 0, 0, 0, 0, 0, 0, 0, 0, 0, 0, 0, 0, 0, 0, 0, 0, 0, 0, 0, 0, 0, 0, 0, 0, 0, 0, 0, 0, 0, 0, 0, 0, 0, 0, 0, 0, 0, 0, 0, 0, 0, 0, 0, 0, 0, 0, 0, 0, 0, 0, 0, 0, 0, 0, 0, 0, 0, 0, 0, 0, 0, 0, 0, 0, 0, 0, 0, 0, 0, 0, 0, 0, 0, 0, 0, 0, 0, 0, 0, 0, 0, 0, 0, 0, 0, 0, 0, 0, 0, 0, 0, 0, 0, 0, 0, 0, 0, 0, 0, 0, 0, 0, 0, 0, 0, 0, 0, 0, 0, 0, 0, 0, 0, 0, 0, 0, 0, 0, 0, 0, 0, 0, 0, 0, 0, 0, 0, 0, 0, 0, 0, 0, 0, 0, 0, 0, 0, 0, 0, 0, 0, 0, 0, 0, 0, 0, 0, 0, 0, 0, 0, 0, 0, 0, 0, 0, 0, 0, 0, 0, 0, 0, 0, 0, 0, 0, 0, 0, 0, 0, 0, 0, 0, 0, 0, 0, 0, 0, 0, 0, 0, 0, 0, 0, 0, 0, 0, 0, 0, 0, 0, 0, 0, 0, 0, 0, 0, 0, 0, 0, 0, 0, 0, 0, 0, 0, 0, 0, 0, 0, 0, 0, 0, 0, 0, 0, 0, 0, 0, 0, 0, 0, 0, 0, 0, 0, 0, 0, 0, 0, 0, 0, 0, 0, 0, 0, 0, 0, 0, 0, 0, 0, 0, 0, 0, 0, 0, 0, 0, 0, 0, 0, 0, 0, 0, 0, 0, 0, 0, 0, 0, 0, 0, 0, 0, 0, 0, 0, 0, 0, 0, 0, 0, 0, 0, 0, 0, 0, 0, 0, 0, 0, 0, 0, 0, 0, 0, 0, 0, 0, 0, 0, 0, 0, 0, 0, 0, 0, 0, 0, 0, 0, 0, 0, 0, 0, 0, 0, 0, 0, 0, 0, 0, 0, 0, 0, 0, 0, 0, 0, 0, 0, 0, 0, 0, 0, 0, 0, 0, 0, 0, 0, 0, 0, 0, 0, 0, 3.0326894955782704, 0, 0, 0, 0, 0, 0, 0, 0, 0, 0, 0, 0, 0, 0, 0, 0, 0, 0, 0, 0, 0, 0, 0, 0, 0, 0, 0, 0, 0, 0, 0, 0, 0, 0, 0, 0, 0, 0, 0, 0, 0, 0, 0, 0, 0, 0, 0, 0, 0, 0, 0, 0, 0, 0, 0, 0, 0, 0, 0, 0, 0, 0, 0, 0, 0, 0, 0, 0, 0, 0, 0, 0, 0, 0, 0, 0, 0, 0, 0, 0, 0, 0, 0, 0, 0, 0, 0, 0, 0, 0, 0, 0, 0, 0, 0, 0, 0, 0, 0, 0, 0, 0, 0, 0, 0, 0, 0, 0, 0, 0, 0, 0, 0, 0, 0, 0, 0, 0, 0, 0, 0, 0, 0, 0, 0, 0, 0, 0, 0, 0, 0, 0, 0, 0, 0, 0, 0, 0, 0, 0, 0, 0, 0, 0, 0, 0, 0, 0, 0, 0, 0, 0, 0, 0, 0, 0, 0, 0, 0, 0, 0, 0, 0, 0, 0, 0, 0, 0, 0, 0, 0, 0, 0, 0, 0, 0, 0, 0, 0, 0, 0, 0, 0, 0, 0, 0, 0, 0, 0, 0, 0, 0, 0, 0, 0, 0, 0, 0, 0, 0, 0, 0, 0, 0, 0, 0, 0, 0, 0, 0, 0, 0, 0, 0, 0, 0, 0, 0, 0, 0, 0, 0, 0, 0, 0, 0, 0, 0, 0, 0, 0, 0, 0, 0, 0, 0, 0, 0, 0, 0, 0, 0, 0, 0, 0, 0, 0, 0, 0, 0, 0, 0, 0, 0, 0, 0, 0, 0, 0, 0, 0, 0, 0, 0, 0, 0, 0, 0, 0, 0, 0, 0, 0, 0, 0, 0, 0, 0, 0, 0, 0, 0, 0, 0, 0, 0, 0, 0, 0, 0, 0, 0, 0, 0, 0, 0, 0, 0, 0, 0, 0, 0, 0, 0, 0, 0, 0, 0, 0, 0, 0, 0, 0, 0, 0, 0, 0, 0, 0, 0, 0, 0, 0, 0, 0, 0, 0, 0, 0, 0, 0, 0, 0, 0, 0, 0, 0, 0, 0, 0, 0, 0, 0, 0, 0, 0, 0, 0, 0, 0, 0, 0, 0, 0, 0, 0, 0, 0, 0, 0, 0, 0, 0, 0, 0, 0, 0, 0, 0, 0, 0, 0, 0, 0, 0, 0, 0, 0, 0, 0, 0, 0, 0, 0, 0, 0, 0, 0, 0, 0, 0, 0, 0, 0, 0, 0, 0, 0, 0, 0, 0, 0, 0, 0, 0, 0, 0, 0, 0, 0, 0, 0, 0, 0, 0, 0, 0, 0, 0, 0, 0, 0, 0, 0, 0, 0, 0, 0, 0, 0, 0, 0, 0, 0, 0, 0, 0, 0, 0, 0, 0, 0, 0, 0, 0, 0, 0, 0, 0, 0, 0, 0, 0, 0, 0, 0, 0, 0, 0, 0, 0, 0, 0, 0, 0, 0, 0, 0, 0, 0, 0, 0, 0, 0, 0, 0, 0, 0, 0, 0, 0, 0, 0, 0, 0, 0, 0, 0, 0, 0, 0, 0, 0, 0, 0, 0, 0, 0, 0, 0, 0, 0, 0, 0, 0, 0, 0, 0, 0, 0, 0, 0, 0, 0, 0, 0, 0, 0, 0, 0, 0, 0, 0, 0, 0, 0, 0, 0, 0, 0, 0, 0, 0, 0, 0, 0, 0, 0, 0, 0, 0, 0, 0, 0, 0, 0, 0, 0, 0, 0, 0, 0, 0, 0, 0, 0, 0, 0, 0, 0, 0, 0, 0, 0, 0, 0, 0, 0, 0, 0, 0, 0, 0, 0, 0, 0, 0, 0, 0, 0, 0, 0, 0, 0, 0, 0, 0, 0, 0, 0, 0, 0, 0, 0, 0, 0, 0, 0, 0, 0, 0, 0, 0, 0, 0, 0, 0, 0, 0, 0, 0, 0, 0, 0, 0, 0, 0, 0, 0, 0, 0, 0, 0, 0, 0, 0, 0, 0, 0, 0, 0, 0, 0, 0, 0, 0, 0, 0, 0, 0, 0, 0, 0, 0, 0, 0, 0, 0, 0, 0, 0, 0, 0, 0, 0, 0, 0, 0, 0, 0, 0, 0, 0, 0, 0, 0, 0, 0, 0, 0, 0, 0, 0, 0, 0, 0, 0, 0, 0, 0, 0, 0, 0, 0, 0, 0, 0, 0, 0, 0, 0, 0, 0, 0, 0, 0, 0, 0, 0, 0, 0, 0, 0, 0, 0, 0, 0, 0, 0, 0, 0, 0, 0, 0, 0, 0, 0, 0, 0, 0, 0, 0, 0, 0, 0, 0, 0, 0, 0, 0, 0, 0, 0, 0, 0, 0, 0, 0, 0, 0, 0, 0, 0, 0, 0, 0, 0, 0, 0, 0, 0, 0, 0, 0, 0, 0, 0, 0, 0, 0, 0, 0, 0, 0, 0, 0, 0, 0, 0, 0, 0, 0, 0, 0, 0, 0, 0, 0, 0, 0, 0, 0, 0, 0, 0, 0, 0, 0, 0, 0, 0, 0, 0, 0, 0, 0, 0, 0, 0, 0, 0, 0, 0, 0, 0, 0, 0, 0, 0, 0, 0, 0, 0, 0, 0, 0, 0, 0, 0, 0, 0, 0, 0, 0, 0, 0, 0, 0, 0, 0, 0, 0, 0, 0, 0, 0, 0, 0, 0, 0, 0, 0, 0, 0, 0, 0, 0, 0, 0, 0, 0, 0, 0, 0, 0, 0, 0, 0, 0, 0, 0, 0, 0, 0, 0, 0, 0, 0, 0, 0, 0, 0, 0, 0, 0, 0, 0, 0, 0, 0, 0, 0, 0, 0, 0, 0, 0, 0, 0, 0, 0, 0, 0, 0, 0, 0, 0, 0, 0, 0, 0, 0, 0, 0, 0, 0, 0, 0, 0, 0, 0, 0, 0, 0, 0, 0, 0, 0, 0, 0, 0, 0, 0, 0, 0, 0, 0, 0, 0, 0, 0, 0, 0, 0, 0, 0, 0, 0, 0, 0, 0, 0, 0, 0, 0, 0, 0, 0, 0, 0, 0, 0, 0, 0, 0, 0, 0, 0, 0, 0, 0, 0, 0, 0, 0, 0, 0, 0, 0, 0, 0, 0, 0, 0, 0, 0, 0, 0, 0, 0, 0, 0, 0, 0, 0, 0, 0, 0, 0, 0, 0, 0, 0, 0, 0, 0, 0, 0, 0, 0, 0, 0, 0, 0, 0, 0, 0, 0, 0, 0, 0, 0, 0, 0, 0, 0, 0, 0, 0, 0, 0, 0, 0, 0, 0, 0, 0, 0, 0, 0, 0, 0, 0, 0, 0, 0, 0, 0, 0, 0, 0, 0, 0, 0, 0, 0, 0, 0, 0, 0, 0, 0, 0, 0, 0, 0, 0, 0, 0, 0, 0, 0, 0, 0, 0, 0, 0, 0, 0, 0, 0, 0, 0, 0, 0, 0, 0, 0, 0, 0, 0, 0, 0, 0, 0, 0, 0, 0, 0, 0, 0, 0, 0, 0, 0, 0, 0, 0, 0, 0, 0, 0, 0, 0, 0, 0, 0, 0, 0, 0, 0, 0, 0, 0, 0, 0, 0, 0, 0, 0, 0, 0, 0, 0, 0, 0, 0, 0, 0, 0, 0, 0, 0, 0, 0, 0, 0, 0, 0, 0, 0, 0, 0, 0, 0, 0, 0, 0, 0, 0, 0, 0, 0, 0, 0, 0, 0, 0, 0, 0, 0, 0, 0, 0, 0, 0, 0, 0, 0, 0, 0, 0, 0, 0, 0, 0, 0, 0, 0, 0, 0, 0, 0, 0, 0, 0, 0, 0, 0, 0, 0, 0, 0, 0, 0, 0, 0, 0, 0, 0, 0, 0, 0, 0, 0, 0, 0, 0, 0, 0, 0, 0, 0, 0, 0, 0, 0, 0, 0, 0, 0, 0, 0, 0, 0, 0, 0, 0, 0, 0, 0, 0, 0, 0, 0, 0, 0, 0, 0, 0, 0, 0, 0, 0, 0, 0, 0, 0, 0, 0, 0, 0, 0, 0, 0, 0, 0, 0, 0, 0, 0, 0, 0, 0, 0, 0, 0, 0, 0, 0, 0, 0, 0, 0, 0, 0, 0, 0, 0, 0, 0, 0, 0, 0, 0, 0, 0, 0, 0, 0, 0, 0, 0, 0, 0, 0, 0, 0, 0, 0, 0, 0, 0, 0, 0, 0, 0, 0, 0, 0, 0, 0, 0, 0, 0, 0, 0, 0, 0, 0, 0, 0, 0, 0, 0, 0, 0, 0, 0, 0, 0, 0, 0, 0, 0, 0, 0, 0, 0, 0, 0, 0, 0, 0, 0, 0, 0, 0, 0, 0, 0, 0, 0, 0, 0, 0, 0, 0, 0, 0, 0, 0, 0, 0, 0, 0, 0, 0, 0, 0, 0, 0, 0, 0, 0, 0, 0, 0, 0, 0, 0, 0, 0, 0, 0, 0, 0, 0, 0, 0, 0, 0, 0, 0, 0, 0, 0, 0, 0, 0, 0, 0, 0, 0, 0, 0, 0, 0, 0, 0, 0, 0, 0, 0, 0, 0, 0, 0, 0, 0, 0, 0, 0, 0, 0, 0, 0, 0, 0, 0, 0, 0, 0, 0, 0, 0, 0, 0, 0, 0, 0, 0, 0, 0, 0, 0, 0, 0, 0, 0, 0, 0, 0, 0, 0, 0, 0, 0, 0, 0, 0, 0, 0, 0, 0, 0, 0, 0, 0, 0, 0, 0, 0, 0, 0, 0, 0, 0, 0, 0, 0, 0, 0, 0, 0, 0, 0, 0, 0, 0, 0, 0, 0, 0, 0, 0, 0, 0, 0, 0, 0, 0, 0, 0, 0, 0, 0, 0, 0, 0, 0, 0, 0, 0, 0, 0, 0, 0, 0, 0, 0, 0, 0, 0, 0, 0, 0, 0, 0, 0, 0, 0, 0, 0, 0, 0, 0, 0, 0, 0, 0, 0, 0, 0, 0, 0, 0, 0, 0, 0, 0, 0, 0, 0, 0, 0, 0, 0, 0, 0, 0, 0, 0, 0, 0, 0, 0, 0, 0, 0, 0, 0, 0, 0, 0, 0, 0, 0, 0, 0, 0, 0, 0, 0, 0, 0, 0, 0, 0, 0, 0, 0, 0, 0, 0, 0, 0, 0, 0, 0, 0, 0, 0, 0, 0, 0, 0, 0, 0, 0, 0, 0, 0, 0, 0, 0, 0, 0, 0, 0, 0, 0, 0, 0, 0, 0, 0, 0, 0, 0, 0, 0, 0, 0, 0, 0, 0, 0, 0, 0, 0, 0, 0, 0, 0, 0, 0, 0, 0, 0, 0, 0, 0, 0, 0, 0, 0, 0, 0, 0, 0, 0, 0, 0, 0, 0, 0, 0, 0, 0, 0, 0, 0, 0, 0, 0, 0, 0, 0, 0, 0, 0, 0, 0, 0, 0, 0, 0, 0, 0, 0, 0, 0, 0, 0, 0, 0, 0, 0, 0, 0, 0, 0, 0, 0, 0, 0, 0, 0, 0, 0, 0, 0, 0, 0, 0, 0, 0, 0, 0, 0, 0, 0, 0, 0, 0, 0, 0, 0, 0, 0, 0, 0, 0, 0, 0, 0, 0, 0, 0, 0, 0, 0, 0, 0, 0, 0, 0, 0, 0, 0, 0, 0, 0, 0, 0, 0, 0, 0, 0, 0, 0, 0, 0, 0, 0, 0, 0, 0, 0, 0, 0, 0, 0, 0, 0, 0, 0, 0, 0, 0, 0, 0, 0, 0, 0, 0, 0, 0, 0, 0, 0, 0, 0, 0, 0, 0, 0, 0, 0, 0, 0, 0, 0, 0, 0, 0, 0, 0, 0, 0, 0, 0, 0, 0, 0, 0, 0, 0, 0, 0, 0, 0, 0, 0, 0, 0, 0, 0, 0, 0, 0, 0, 0, 0, 0, 0, 0, 0, 0, 0, 0, 0, 0, 0, 0, 0, 0, 0, 0, 0, 0, 0, 0, 0, 0, 0, 0, 0, 0, 0, 0, 0, 0, 0, 0, 0, 0, 0, 0, 0, 0, 0, 0, 0, 0, 0, 0, 0, 0, 0, 0, 0, 0, 0, 0, 0, 0, 0, 0, 0, 0, 0, 0, 0, 0, 0, 0, 0, 0, 0, 0, 0, 0, 0, 0, 0, 0, 0, 0, 0, 0, 0, 0, 0, 0, 0, 0, 0, 0, 0, 0, 0, 0, 0, 0, 0, 0, 0, 0, 0, 0, 0, 0, 0, 0, 0, 0, 0, 0, 0, 0, 0, 0, 0, 0, 0, 0, 0, 0, 0, 0, 0, 0, 0, 0, 0, 0, 0, 0, 0, 0, 0, 0, 0, 0, 0, 0, 0, 0, 0, 0, 0, 0, 0, 0, 0, 0, 0, 0, 0, 0, 0, 0, 0, 0, 0, 0, 0, 0, 0, 0, 0, 0, 0, 0, 0, 0, 0, 0, 0, 0, 0, 0, 0, 0, 0, 0, 0, 0, 0, 0, 0, 0, 0, 0, 0, 0, 0, 0, 0, 0, 0, 0, 0, 0, 0, 0, 0, 0, 0, 0, 0, 0, 0, 0, 0, 0, 0, 0, 0, 0, 0, 0, 0, 0, 0, 0, 0, 0, 0, 0, 0, 0, 0, 0, 0, 0, 0, 0, 0, 0, 0, 0, 0, 0, 0, 0, 0, 0, 0, 0, 0, 0, 0, 0, 0, 0, 0, 0, 0, 0, 0, 0, 0, 0, 0, 0, 0, 0, 0, 0, 0, 0, 0, 0, 0, 0, 0, 0, 0, 0, 0, 0, 0, 0, 0, 0, 0, 0, 0, 0, 0, 0, 0, 0, 0, 0, 0, 0, 0, 0, 0, 0, 0, 0, 0, 0, 0, 0, 0, 0, 0, 0, 0, 0, 0, 0, 0, 0, 0, 0, 0, 0, 0, 0, 0, 0, 0, 0, 0, 0, 0, 0, 0, 0, 0, 0, 0, 0, 0, 0, 0, 0, 0, 0, 0, 0, 0, 0, 0, 0, 0, 0, 0, 0, 0, 0, 0, 0, 0, 0, 0, 0, 0, 0, 0, 0, 0, 0, 0, 0, 0, 0, 0, 0, 0, 0, 0, 0, 0, 0, 0, 0, 0, 0, 0, 0, 0, 0, 0, 0, 0, 0, 0, 0, 0, 0, 0, 0, 0, 0, 0, 0, 0, 0, 0, 0, 0, 0, 0, 0, 0, 0, 0, 0, 0, 0, 0, 0, 0, 0, 0, 0, 0, 0, 0, 0, 0, 0, 0, 0, 0, 0, 0, 0, 0, 0, 0, 0, 0, 0, 0, 0, 0, 0, 0, 0, 0, 0, 0, 0, 0, 0, 0, 0, 0, 0, 0, 0, 0, 0, 0, 0, 0, 0, 0, 0, 0, 0, 0, 0, 0, 0, 0, 0, 0, 0, 0, 0, 0, 0, 0, 0, 0, 0, 0, 0, 0, 0, 0, 0, 0, 0, 0, 0, 0, 0, 0, 0, 0, 0, 0, 0, 0, 0, 0, 0, 0, 0, 0, 0, 0, 0, 0, 0, 0, 0, 0, 0, 0, 0, 0, 0, 0, 0, 0, 0, 0, 0, 0, 0, 0, 0, 0, 0, 0, 0, 0, 0, 0, 0, 0, 0, 0, 0, 0, 0, 0, 0, 0, 0, 0, 0, 0, 0, 0, 0, 0, 0, 0, 0, 0, 0, 0, 0, 0, 0, 0, 0, 0, 0, 0, 0, 0, 0, 0, 0, 0, 0, 0, 0, 0, 0, 0, 0, 0, 0, 0, 0, 0, 0, 0, 0, 0, 0, 0, 0, 0, 0, 0, 0, 0, 0, 0, 0, 0, 0, 0, 0, 0, 0, 0, 0, 0, 0, 0, 0, 0, 0, 0, 0, 0, 0, 0, 0, 0, 0, 0, 0, 0, 0, 0, 0, 0, 0, 0, 0, 0, 0, 0, 0, 0, 0, 0, 0, 0, 0, 0, 0, 0, 0, 0, 0, 0, 0, 0, 0, 0, 0, 0, 0, 0, 0, 0, 0, 0, 0, 0, 0, 0, 0, 0, 0, 0, 0, 0, 0, 0, 0, 0, 0, 0, 0, 0, 0, 0, 0, 0, 0, 0, 0, 0, 0, 0, 0, 0, 0, 0, 0, 0, 0, 0, 0, 0, 0, 0, 0, 0, 0, 0, 0, 0, 0, 0, 0, 0, 0, 0, 0, 0, 0, 0, 0, 0, 0, 0, 0, 0, 0, 0, 0, 0, 0, 0, 0, 0, 0, 0, 0, 0, 0, 0, 0, 0, 0, 0, 0, 0, 0, 0, 0, 0, 0, 0, 0, 0, 0, 0, 0, 0, 0, 0, 0, 0, 0, 0, 0, 0, 0, 0, 0, 0, 0, 0, 0, 0, 0, 0, 0, 0, 0, 0, 0, 0, 0, 0, 0, 0, 0, 0, 0, 0, 0, 0, 0, 0, 0, 0, 0, 0, 0, 0, 0, 0, 0, 0, 0, 0, 0, 0, 0, 0, 0, 0, 0, 0, 0, 0, 0, 0, 0, 0, 0, 0, 0, 0, 0, 0, 0, 0, 0, 0, 0, 0, 0, 0, 0, 0, 0, 0, 0, 0, 0, 0, 0, 0, 0, 0, 0, 0, 0, 0, 0, 0, 0, 0, 0, 0, 0, 0, 0, 0, 0, 0, 0, 0, 0, 0, 0, 0, 0, 0, 0, 0, 0, 0, 0, 0, 0, 0, 0, 0, 0, 0, 0, 0, 0, 0, 0, 0, 0, 0, 0, 0, 0, 0, 0, 0, 0, 0, 0, 0, 0, 0, 0, 0, 0, 0, 0, 0, 0, 0, 0, 0, 0, 0, 0, 0, 0, 0, 0, 0, 0, 0, 0, 0, 0, 0, 0, 0, 0, 0, 0, 0, 0, 0, 0, 0, 0, 0, 0, 0, 0, 0, 0, 0, 0, 0, 0, 0, 0, 0, 0, 0, 0, 0, 0, 0, 0, 0, 0, 0, 0, 0, 0, 0, 0, 0, 0, 0, 0, 0, 0, 0, 0, 0, 0, 0, 0, 0, 0, 0, 0, 0, 0, 0, 0, 0, 0, 0, 0, 0, 0, 0, 0, 0, 0, 0, 0, 0, 0, 0, 0, 0, 0, 0, 0, 0, 0, 0, 0, 0, 0, 0, 0, 0, 0, 0, 0, 0, 0, 0, 0, 0, 0, 0, 0, 0, 0, 0, 0, 0, 0, 0, 0, 0, 0, 0, 0, 0, 0, 0, 0, 0, 0, 0, 0, 0, 0, 0, 0, 0, 0, 0, 0, 0, 0, 0, 0, 0, 0, 0, 0, 0, 0, 0, 0, 0, 0, 0, 0, 0, 0, 0, 0, 0, 0, 0, 0, 0, 0, 0, 0, 0, 0, 0, 0, 0, 0, 0, 0, 0, 0, 0, 0, 0, 0, 0, 0, 0, 0, 0, 0, 0, 0, 0, 0, 0, 0, 0, 0, 0, 0, 0, 0, 0, 0, 0, 0, 0, 0, 0, 0, 0, 0, 0, 0, 0, 0, 0, 0, 0, 0, 0, 0, 0, 0, 0, 0, 0, 0, 0, 0, 0, 0, 0, 0, 0, 0, 0, 0, 0, 0, 0, 0, 0, 0, 0, 0, 0, 0, 0, 0, 0, 0, 0, 0, 0, 0, 0, 0, 0, 0, 0, 0, 0, 0, 0, 0, 0, 0, 0, 0, 0, 0, 0, 0, 0, 0, 0, 0, 0, 0, 0, 0, 0, 0, 0, 0, 0, 0, 0, 0, 0, 0, 0, 0, 0, 0, 0, 0, 0, 0, 0, 0, 0, 0, 0, 0, 0, 0, 0, 0, 0, 0, 0, 0, 0, 0, 0, 0, 0, 0, 0, 0, 0, 0, 0, 0, 0, 0, 0, 0, 0, 0, 0, 0, 0, 0, 0, 0, 0, 0, 0, 0, 0, 0, 0, 0, 0, 0, 0, 0, 0, 0, 0, 0, 0, 0, 0, 0, 0, 0, 0, 0, 0, 0, 0, 0, 0, 0, 0, 0, 0, 0, 0, 0, 0, 0, 0, 0, 0, 0, 0, 0, 0, 0, 0, 0, 0, 0, 0, 0, 0, 0, 0, 0, 0, 0, 0, 0, 0, 0, 0, 0, 0, 0, 0, 0, 0, 0, 0, 0, 0, 0, 0, 0, 0, 0, 0, 0, 0, 0, 0, 0, 0, 0, 0, 0, 0, 0, 0, 0, 0, 0, 0, 0, 0, 0, 0, 0, 0, 0, 0, 0, 0, 0, 0, 0, 0, 0, 0, 0, 0, 0, 0, 0, 0, 0, 0, 0, 0, 0, 0, 0, 0, 0, 0, 0, 0, 0, 0, 0, 0, 0, 0, 0, 0, 0, 0, 0, 0, 0, 0, 0, 0, 0, 0, 0, 0, 0, 0, 0, 0, 0, 0, 0, 0, 0, 0, 0, 0, 0, 0, 0, 0, 0, 0, 0, 0, 0, 0, 0, 0, 0, 0, 0, 0, 0, 0, 0, 0, 0, 0, 0, 0, 0, 0, 0, 0, 0, 0, 0, 0, 0, 0, 0, 0, 0, 0, 0, 0, 0, 0, 0, 0, 0, 0, 0, 0, 0, 0, 0, 0, 0, 0, 0, 0, 0, 0, 0, 0, 0, 0, 0, 0, 0, 0, 0, 0, 0, 0, 0, 0, 0, 0, 0, 0, 0, 0, 0, 0, 0, 0, 0, 0, 0, 0, 0, 0, 0, 0, 0, 0, 0, 0, 0, 0, 0, 0, 0, 0, 0, 0, 0, 0, 0, 0, 0, 0, 0, 0, 0, 0, 0, 0, 0, 0, 0, 0, 0, 0, 0, 0, 0, 0, 0, 0, 0, 0, 0, 0, 0, 0, 0, 0, 0, 0, 0, 0, 0, 0, 0, 0, 0, 0, 0, 0, 0, 0, 0, 0, 0, 0, 0, 0, 0, 0, 0, 0, 0, 0, 0, 0, 0, 0, 0, 0, 0, 0, 0, 0, 0, 0, 0, 0, 0, 0, 0, 0, 0, 0, 0, 0, 0, 0, 0, 0, 0, 0, 0, 0, 0, 0, 0, 0, 0, 0, 0, 0, 0, 0, 0, 0, 0, 0, 0, 0, 0, 0, 0, 0, 0, 0, 0, 0, 0, 0, 0, 0, 0, 0, 0, 0, 0, 0, 0, 0, 0, 0, 0, 0, 0, 0, 0, 0, 0, 0, 0, 0, 0, 0, 0, 0, 0, 0, 0, 0, 0, 0, 0, 0, 0, 0, 0, 0, 0, 0, 0, 0, 0, 0, 0, 0, 0, 0, 0, 0, 0, 0, 0, 0, 0, 0, 0, 0, 0, 0, 0, 0, 0, 0, 0, 0, 0, 0, 0, 0, 0, 0, 0, 0, 0, 0, 0, 0, 0, 0, 0, 0, 0, 0, 0, 0, 0, 0, 0, 0, 0, 0, 0, 0, 0, 0, 0, 0, 0, 0, 0, 0, 0, 0, 0, 0, 0, 0, 0, 0, 0, 0, 0, 0, 0, 0, 0, 0, 0, 0, 0, 0, 0, 0, 0, 0, 0, 0, 0, 0, 0, 0, 0, 0, 0, 0, 0, 0, 0, 0, 0, 0, 0, 0, 0, 0, 0, 0, 0, 0, 0, 0, 0, 0, 0, 0, 0, 0, 0]\n"
     ]
    }
   ],
   "source": [
    "def tfidf_feature_extractor(doc, vocab, IDF):\n",
    "    tokens = pre_processing_by_nltk(doc)\n",
    "    for i, token in enumerate(tokens):\n",
    "        if token not in vocab:\n",
    "            tokens[i] = '<UNK>'\n",
    "    TF = defaultdict(int)\n",
    "    for token in tokens:\n",
    "        TF[token] += 1\n",
    "    x = [0] * len(vocab)\n",
    "    for token in set(tokens):\n",
    "        tfidf = log(TF[token] + 1) * IDF[token]\n",
    "        token_id = vocab[token]\n",
    "#         print(token, TF[token], IDF[token])\n",
    "        x[token_id] = tfidf \n",
    "    return x\n",
    "\n",
    "x = tfidf_feature_extractor('tweets', vocab, IDF)\n",
    "print(x)"
   ]
  },
  {
   "cell_type": "code",
   "execution_count": 10,
   "metadata": {
    "colab": {
     "base_uri": "https://localhost:8080/"
    },
    "id": "yWqTzew8oSoK",
    "outputId": "ca96e860-841f-41f6-b410-81808d16bc8c"
   },
   "outputs": [
    {
     "name": "stderr",
     "output_type": "stream",
     "text": [
      "100%|█████████████████████████████████| 219294/219294 [02:35<00:00, 1407.05it/s]\n"
     ]
    }
   ],
   "source": [
    "X = []\n",
    "for doc in tqdm(df.tweets):\n",
    "    X.append(tfidf_feature_extractor(doc, vocab, IDF))\n",
    "y = list(df.labels)"
   ]
  },
  {
   "cell_type": "markdown",
   "metadata": {},
   "source": [
    "binary-valued vector "
   ]
  },
  {
   "cell_type": "code",
   "execution_count": 11,
   "metadata": {},
   "outputs": [
    {
     "name": "stderr",
     "output_type": "stream",
     "text": [
      "100%|█████████████████████████████████| 219294/219294 [02:24<00:00, 1519.59it/s]\n"
     ]
    }
   ],
   "source": [
    "def if_exist_vocab(doc, vocab):\n",
    "    tokens = pre_processing_by_nltk(doc)  \n",
    "    for i, token in enumerate(tokens): \n",
    "         if token not in vocab:\n",
    "            tokens[i] = '<UNK>'\n",
    "    x = [0] * len(vocab)    \n",
    "    for token in set(tokens):  \n",
    "        token_id = vocab[token]\n",
    "        x[token_id] = 1\n",
    "    return x\n",
    "X = []\n",
    "for doc in tqdm(df.tweets):\n",
    "    X.append(if_exist_vocab(doc, vocab))"
   ]
  },
  {
   "cell_type": "code",
   "execution_count": 12,
   "metadata": {},
   "outputs": [],
   "source": [
    "from sklearn.model_selection import train_test_split\n",
    "\n",
    "X_train, X_test, y_train, y_test = train_test_split(X, y, random_state=42, test_size=0.2, shuffle=True)"
   ]
  },
  {
   "cell_type": "code",
   "execution_count": 14,
   "metadata": {},
   "outputs": [],
   "source": [
    "from sklearn.discriminant_analysis import LinearDiscriminantAnalysis as LDA"
   ]
  },
  {
   "cell_type": "code",
   "execution_count": 15,
   "metadata": {},
   "outputs": [
    {
     "data": {
      "text/plain": [
       "LinearDiscriminantAnalysis()"
      ]
     },
     "execution_count": 15,
     "metadata": {},
     "output_type": "execute_result"
    }
   ],
   "source": [
    "# create LDA model\n",
    "model = LDA()\n",
    "\n",
    "# fit the model to the training data\n",
    "model.fit(X_train, y_train)\n"
   ]
  },
  {
   "cell_type": "code",
   "execution_count": 24,
   "metadata": {},
   "outputs": [
    {
     "name": "stdout",
     "output_type": "stream",
     "text": [
      "Accuracy: 0.8051255158576347\n",
      "F1 Score: 0.7761965098471034\n",
      "Recall: 0.7649138735639793\n"
     ]
    }
   ],
   "source": [
    "# make predictions on the test data\n",
    "y_pred = model.predict(X_test)\n",
    "\n",
    "# evaluate the performance of the model\n",
    "from sklearn.metrics import accuracy_score, f1_score, recall_score\n",
    "\n",
    "accuracy = accuracy_score(y_test, y_pred)\n",
    "f1 = f1_score(y_test, y_pred, average='macro')\n",
    "recall = recall_score(y_test, y_pred, average='macro')\n",
    "\n",
    "print('Accuracy:', accuracy)\n",
    "print('F1 Score:', f1)\n",
    "print('Recall:', recall)\n"
   ]
  },
  {
   "cell_type": "markdown",
   "metadata": {},
   "source": []
  },
  {
   "cell_type": "code",
   "execution_count": 22,
   "metadata": {},
   "outputs": [],
   "source": [
    "from sklearn.metrics import f1_score, recall_score\n",
    "\n",
    "f1 = f1_score(y_test, y_pred, average='weighted')\n",
    "recall = recall_score(y_test, y_pred, average='weighted')\n"
   ]
  },
  {
   "cell_type": "code",
   "execution_count": 25,
   "metadata": {},
   "outputs": [
    {
     "name": "stderr",
     "output_type": "stream",
     "text": [
      "100%|█████████████████████████████████| 219294/219294 [02:49<00:00, 1290.44it/s]\n"
     ]
    }
   ],
   "source": [
    "def tf(doc, vocab):\n",
    "    tokens = pre_processing_by_nltk(doc)\n",
    "    for i, token in enumerate(tokens):\n",
    "        if token not in vocab:\n",
    "            tokens[i] = '<UNK>'\n",
    "    x = [0] * len(vocab)\n",
    "    for token in tokens:\n",
    "        token_id = vocab[token]\n",
    "        x[token_id] += 1   \n",
    "    return x\n",
    "X = []\n",
    "for doc in tqdm(df.tweets):\n",
    "    X.append(tf(doc, vocab))"
   ]
  },
  {
   "cell_type": "code",
   "execution_count": 26,
   "metadata": {},
   "outputs": [],
   "source": [
    "X_train, X_test, y_train, y_test = train_test_split(X, y, random_state=42, test_size=0.2, shuffle=True)"
   ]
  },
  {
   "cell_type": "code",
   "execution_count": 31,
   "metadata": {},
   "outputs": [
    {
     "ename": "TypeError",
     "evalue": "A sparse matrix was passed, but dense data is required. Use X.toarray() to convert to a dense numpy array.",
     "output_type": "error",
     "traceback": [
      "\u001b[0;31m---------------------------------------------------------------------------\u001b[0m",
      "\u001b[0;31mTypeError\u001b[0m                                 Traceback (most recent call last)",
      "\u001b[0;32m/var/folders/hf/6zg0sbl14sschp84hqddb7k00000gn/T/ipykernel_25678/2501103350.py\u001b[0m in \u001b[0;36m<module>\u001b[0;34m\u001b[0m\n\u001b[1;32m      3\u001b[0m \u001b[0;34m\u001b[0m\u001b[0m\n\u001b[1;32m      4\u001b[0m \u001b[0;31m# fit the model to the training data\u001b[0m\u001b[0;34m\u001b[0m\u001b[0;34m\u001b[0m\u001b[0m\n\u001b[0;32m----> 5\u001b[0;31m \u001b[0mmodel\u001b[0m\u001b[0;34m.\u001b[0m\u001b[0mfit\u001b[0m\u001b[0;34m(\u001b[0m\u001b[0mX_train\u001b[0m\u001b[0;34m,\u001b[0m \u001b[0my_train\u001b[0m\u001b[0;34m)\u001b[0m\u001b[0;34m\u001b[0m\u001b[0;34m\u001b[0m\u001b[0m\n\u001b[0m\u001b[1;32m      6\u001b[0m \u001b[0;34m\u001b[0m\u001b[0m\n\u001b[1;32m      7\u001b[0m \u001b[0;31m# make predictions on the test data\u001b[0m\u001b[0;34m\u001b[0m\u001b[0;34m\u001b[0m\u001b[0m\n",
      "\u001b[0;32m~/opt/anaconda3/lib/python3.9/site-packages/sklearn/discriminant_analysis.py\u001b[0m in \u001b[0;36mfit\u001b[0;34m(self, X, y)\u001b[0m\n\u001b[1;32m    542\u001b[0m             \u001b[0mFitted\u001b[0m \u001b[0mestimator\u001b[0m\u001b[0;34m.\u001b[0m\u001b[0;34m\u001b[0m\u001b[0;34m\u001b[0m\u001b[0m\n\u001b[1;32m    543\u001b[0m         \"\"\"\n\u001b[0;32m--> 544\u001b[0;31m         X, y = self._validate_data(\n\u001b[0m\u001b[1;32m    545\u001b[0m             \u001b[0mX\u001b[0m\u001b[0;34m,\u001b[0m \u001b[0my\u001b[0m\u001b[0;34m,\u001b[0m \u001b[0mensure_min_samples\u001b[0m\u001b[0;34m=\u001b[0m\u001b[0;36m2\u001b[0m\u001b[0;34m,\u001b[0m \u001b[0mestimator\u001b[0m\u001b[0;34m=\u001b[0m\u001b[0mself\u001b[0m\u001b[0;34m,\u001b[0m \u001b[0mdtype\u001b[0m\u001b[0;34m=\u001b[0m\u001b[0;34m[\u001b[0m\u001b[0mnp\u001b[0m\u001b[0;34m.\u001b[0m\u001b[0mfloat64\u001b[0m\u001b[0;34m,\u001b[0m \u001b[0mnp\u001b[0m\u001b[0;34m.\u001b[0m\u001b[0mfloat32\u001b[0m\u001b[0;34m]\u001b[0m\u001b[0;34m\u001b[0m\u001b[0;34m\u001b[0m\u001b[0m\n\u001b[1;32m    546\u001b[0m         )\n",
      "\u001b[0;32m~/opt/anaconda3/lib/python3.9/site-packages/sklearn/base.py\u001b[0m in \u001b[0;36m_validate_data\u001b[0;34m(self, X, y, reset, validate_separately, **check_params)\u001b[0m\n\u001b[1;32m    579\u001b[0m                 \u001b[0my\u001b[0m \u001b[0;34m=\u001b[0m \u001b[0mcheck_array\u001b[0m\u001b[0;34m(\u001b[0m\u001b[0my\u001b[0m\u001b[0;34m,\u001b[0m \u001b[0;34m**\u001b[0m\u001b[0mcheck_y_params\u001b[0m\u001b[0;34m)\u001b[0m\u001b[0;34m\u001b[0m\u001b[0;34m\u001b[0m\u001b[0m\n\u001b[1;32m    580\u001b[0m             \u001b[0;32melse\u001b[0m\u001b[0;34m:\u001b[0m\u001b[0;34m\u001b[0m\u001b[0;34m\u001b[0m\u001b[0m\n\u001b[0;32m--> 581\u001b[0;31m                 \u001b[0mX\u001b[0m\u001b[0;34m,\u001b[0m \u001b[0my\u001b[0m \u001b[0;34m=\u001b[0m \u001b[0mcheck_X_y\u001b[0m\u001b[0;34m(\u001b[0m\u001b[0mX\u001b[0m\u001b[0;34m,\u001b[0m \u001b[0my\u001b[0m\u001b[0;34m,\u001b[0m \u001b[0;34m**\u001b[0m\u001b[0mcheck_params\u001b[0m\u001b[0;34m)\u001b[0m\u001b[0;34m\u001b[0m\u001b[0;34m\u001b[0m\u001b[0m\n\u001b[0m\u001b[1;32m    582\u001b[0m             \u001b[0mout\u001b[0m \u001b[0;34m=\u001b[0m \u001b[0mX\u001b[0m\u001b[0;34m,\u001b[0m \u001b[0my\u001b[0m\u001b[0;34m\u001b[0m\u001b[0;34m\u001b[0m\u001b[0m\n\u001b[1;32m    583\u001b[0m \u001b[0;34m\u001b[0m\u001b[0m\n",
      "\u001b[0;32m~/opt/anaconda3/lib/python3.9/site-packages/sklearn/utils/validation.py\u001b[0m in \u001b[0;36mcheck_X_y\u001b[0;34m(X, y, accept_sparse, accept_large_sparse, dtype, order, copy, force_all_finite, ensure_2d, allow_nd, multi_output, ensure_min_samples, ensure_min_features, y_numeric, estimator)\u001b[0m\n\u001b[1;32m    962\u001b[0m         \u001b[0;32mraise\u001b[0m \u001b[0mValueError\u001b[0m\u001b[0;34m(\u001b[0m\u001b[0;34m\"y cannot be None\"\u001b[0m\u001b[0;34m)\u001b[0m\u001b[0;34m\u001b[0m\u001b[0;34m\u001b[0m\u001b[0m\n\u001b[1;32m    963\u001b[0m \u001b[0;34m\u001b[0m\u001b[0m\n\u001b[0;32m--> 964\u001b[0;31m     X = check_array(\n\u001b[0m\u001b[1;32m    965\u001b[0m         \u001b[0mX\u001b[0m\u001b[0;34m,\u001b[0m\u001b[0;34m\u001b[0m\u001b[0;34m\u001b[0m\u001b[0m\n\u001b[1;32m    966\u001b[0m         \u001b[0maccept_sparse\u001b[0m\u001b[0;34m=\u001b[0m\u001b[0maccept_sparse\u001b[0m\u001b[0;34m,\u001b[0m\u001b[0;34m\u001b[0m\u001b[0;34m\u001b[0m\u001b[0m\n",
      "\u001b[0;32m~/opt/anaconda3/lib/python3.9/site-packages/sklearn/utils/validation.py\u001b[0m in \u001b[0;36mcheck_array\u001b[0;34m(array, accept_sparse, accept_large_sparse, dtype, order, copy, force_all_finite, ensure_2d, allow_nd, ensure_min_samples, ensure_min_features, estimator)\u001b[0m\n\u001b[1;32m    718\u001b[0m     \u001b[0;32mif\u001b[0m \u001b[0msp\u001b[0m\u001b[0;34m.\u001b[0m\u001b[0missparse\u001b[0m\u001b[0;34m(\u001b[0m\u001b[0marray\u001b[0m\u001b[0;34m)\u001b[0m\u001b[0;34m:\u001b[0m\u001b[0;34m\u001b[0m\u001b[0;34m\u001b[0m\u001b[0m\n\u001b[1;32m    719\u001b[0m         \u001b[0m_ensure_no_complex_data\u001b[0m\u001b[0;34m(\u001b[0m\u001b[0marray\u001b[0m\u001b[0;34m)\u001b[0m\u001b[0;34m\u001b[0m\u001b[0;34m\u001b[0m\u001b[0m\n\u001b[0;32m--> 720\u001b[0;31m         array = _ensure_sparse_format(\n\u001b[0m\u001b[1;32m    721\u001b[0m             \u001b[0marray\u001b[0m\u001b[0;34m,\u001b[0m\u001b[0;34m\u001b[0m\u001b[0;34m\u001b[0m\u001b[0m\n\u001b[1;32m    722\u001b[0m             \u001b[0maccept_sparse\u001b[0m\u001b[0;34m=\u001b[0m\u001b[0maccept_sparse\u001b[0m\u001b[0;34m,\u001b[0m\u001b[0;34m\u001b[0m\u001b[0;34m\u001b[0m\u001b[0m\n",
      "\u001b[0;32m~/opt/anaconda3/lib/python3.9/site-packages/sklearn/utils/validation.py\u001b[0m in \u001b[0;36m_ensure_sparse_format\u001b[0;34m(spmatrix, accept_sparse, dtype, copy, force_all_finite, accept_large_sparse)\u001b[0m\n\u001b[1;32m    438\u001b[0m \u001b[0;34m\u001b[0m\u001b[0m\n\u001b[1;32m    439\u001b[0m     \u001b[0;32mif\u001b[0m \u001b[0maccept_sparse\u001b[0m \u001b[0;32mis\u001b[0m \u001b[0;32mFalse\u001b[0m\u001b[0;34m:\u001b[0m\u001b[0;34m\u001b[0m\u001b[0;34m\u001b[0m\u001b[0m\n\u001b[0;32m--> 440\u001b[0;31m         raise TypeError(\n\u001b[0m\u001b[1;32m    441\u001b[0m             \u001b[0;34m\"A sparse matrix was passed, but dense \"\u001b[0m\u001b[0;34m\u001b[0m\u001b[0;34m\u001b[0m\u001b[0m\n\u001b[1;32m    442\u001b[0m             \u001b[0;34m\"data is required. Use X.toarray() to \"\u001b[0m\u001b[0;34m\u001b[0m\u001b[0;34m\u001b[0m\u001b[0m\n",
      "\u001b[0;31mTypeError\u001b[0m: A sparse matrix was passed, but dense data is required. Use X.toarray() to convert to a dense numpy array."
     ]
    }
   ],
   "source": [
    "# create LDA model\n",
    "model = LDA()\n",
    "\n",
    "# fit the model to the training data\n",
    "model.fit(X_train, y_train)\n",
    "\n",
    "# make predictions on the test data\n",
    "y_pred = model.predict(X_test)\n",
    "\n",
    "# evaluate the performance of the model\n",
    "from sklearn.metrics import accuracy_score, f1_score, recall_score\n",
    "\n",
    "accuracy = accuracy_score(y_test, y_pred)\n",
    "f1 = f1_score(y_test, y_pred, average='macro')\n",
    "recall = recall_score(y_test, y_pred, average='macro')\n",
    "\n",
    "print('Accuracy:', accuracy)\n",
    "print('F1 Score:', f1)\n",
    "print('Recall:', recall)"
   ]
  },
  {
   "cell_type": "code",
   "execution_count": null,
   "metadata": {},
   "outputs": [],
   "source": [
    "from sklearn.feature_extraction.text import TfidfVectorizer\n",
    "tfidf = TfidfVectorizer(strip_accents=None,\n",
    "                        lowercase=True,preprocessor=None,\n",
    "                        tokenizer=pre_processing_by_nltk,\n",
    "                        use_idf=True,\n",
    "                        norm='l2',\n",
    "                        smooth_idf=True)"
   ]
  },
  {
   "cell_type": "code",
   "execution_count": null,
   "metadata": {},
   "outputs": [],
   "source": [
    "X = tfidf.fit_transform(df.tweets)\n",
    "X_train, X_test, y_train, y_test = train_test_split(X, y, random_state=42, test_size=0.2, shuffle=True)"
   ]
  },
  {
   "cell_type": "code",
   "execution_count": null,
   "metadata": {},
   "outputs": [],
   "source": [
    "def tf(doc, vocab):\n",
    "    tokens = pre_processing_by_nltk(doc)\n",
    "    for i, token in enumerate(tokens):\n",
    "        if token not in vocab:\n",
    "            tokens[i] = '<UNK>'\n",
    "    x = [0] * len(vocab)\n",
    "    for token in tokens:\n",
    "        token_id = vocab[token]\n",
    "        x[token_id] += 1   \n",
    "    return x\n",
    "X = []\n",
    "for doc in tqdm(df.tweets):\n",
    "    X.append(tf(doc, vocab))"
   ]
  },
  {
   "cell_type": "code",
   "execution_count": null,
   "metadata": {},
   "outputs": [],
   "source": [
    "# create LDA model\n",
    "model = LDA()\n",
    "\n",
    "# fit the model to the training data\n",
    "model.fit(X_train, y_train)\n",
    "\n",
    "# make predictions on the test data\n",
    "y_pred = model.predict(X_test)\n",
    "\n",
    "# evaluate the performance of the model\n",
    "from sklearn.metrics import accuracy_score, f1_score, recall_score\n",
    "\n",
    "accuracy = accuracy_score(y_test, y_pred)\n",
    "f1 = f1_score(y_test, y_pred, average='macro')\n",
    "recall = recall_score(y_test, y_pred, average='macro')\n",
    "\n",
    "print('Accuracy:', accuracy)\n",
    "print('F1 Score:', f1)\n",
    "print('Recall:', recall)"
   ]
  },
  {
   "cell_type": "code",
   "execution_count": null,
   "metadata": {},
   "outputs": [],
   "source": []
  }
 ],
 "metadata": {
  "colab": {
   "provenance": []
  },
  "kernelspec": {
   "display_name": "Python 3 (ipykernel)",
   "language": "python",
   "name": "python3"
  },
  "language_info": {
   "codemirror_mode": {
    "name": "ipython",
    "version": 3
   },
   "file_extension": ".py",
   "mimetype": "text/x-python",
   "name": "python",
   "nbconvert_exporter": "python",
   "pygments_lexer": "ipython3",
   "version": "3.9.13"
  }
 },
 "nbformat": 4,
 "nbformat_minor": 1
}
