{
 "cells": [
  {
   "cell_type": "code",
   "execution_count": 1,
   "metadata": {
    "colab": {
     "base_uri": "https://localhost:8080/"
    },
    "id": "VGYIsVpj3LwH",
    "outputId": "7266aa96-458c-4877-d2bb-a3b646517266"
   },
   "outputs": [
    {
     "name": "stdout",
     "output_type": "stream",
     "text": [
      "Requirement already satisfied: wordcloud in c:\\users\\18384\\anaconda3\\lib\\site-packages (1.8.2.2)\n",
      "Requirement already satisfied: numpy>=1.6.1 in c:\\users\\18384\\anaconda3\\lib\\site-packages (from wordcloud) (1.20.1)\n",
      "Requirement already satisfied: matplotlib in c:\\users\\18384\\anaconda3\\lib\\site-packages (from wordcloud) (3.3.4)\n",
      "Requirement already satisfied: pillow in c:\\users\\18384\\anaconda3\\lib\\site-packages (from wordcloud) (8.2.0)\n",
      "Requirement already satisfied: cycler>=0.10 in c:\\users\\18384\\anaconda3\\lib\\site-packages (from matplotlib->wordcloud) (0.10.0)\n",
      "Requirement already satisfied: pyparsing!=2.0.4,!=2.1.2,!=2.1.6,>=2.0.3 in c:\\users\\18384\\anaconda3\\lib\\site-packages (from matplotlib->wordcloud) (2.4.7)\n",
      "Requirement already satisfied: kiwisolver>=1.0.1 in c:\\users\\18384\\anaconda3\\lib\\site-packages (from matplotlib->wordcloud) (1.3.1)\n",
      "Requirement already satisfied: python-dateutil>=2.1 in c:\\users\\18384\\anaconda3\\lib\\site-packages (from matplotlib->wordcloud) (2.8.1)\n",
      "Requirement already satisfied: six in c:\\users\\18384\\anaconda3\\lib\\site-packages (from cycler>=0.10->matplotlib->wordcloud) (1.15.0)\n"
     ]
    }
   ],
   "source": [
    "import numpy as np\n",
    "import pandas as pd\n",
    "import matplotlib.pyplot as plt\n",
    "import seaborn as sns\n",
    "! pip install wordcloud\n",
    "from wordcloud import WordCloud, STOPWORDS\n",
    "from PIL import Image\n",
    "\n",
    "%matplotlib inline"
   ]
  },
  {
   "cell_type": "code",
   "execution_count": 2,
   "metadata": {
    "colab": {
     "base_uri": "https://localhost:8080/",
     "height": 419
    },
    "id": "ImJkJy7D3Tjg",
    "outputId": "d075ade3-57c7-4320-8e1c-f2510255e216"
   },
   "outputs": [
    {
     "data": {
      "text/html": [
       "<div>\n",
       "<style scoped>\n",
       "    .dataframe tbody tr th:only-of-type {\n",
       "        vertical-align: middle;\n",
       "    }\n",
       "\n",
       "    .dataframe tbody tr th {\n",
       "        vertical-align: top;\n",
       "    }\n",
       "\n",
       "    .dataframe thead th {\n",
       "        text-align: right;\n",
       "    }\n",
       "</style>\n",
       "<table border=\"1\" class=\"dataframe\">\n",
       "  <thead>\n",
       "    <tr style=\"text-align: right;\">\n",
       "      <th></th>\n",
       "      <th>Unnamed: 0</th>\n",
       "      <th>tweets</th>\n",
       "      <th>labels</th>\n",
       "    </tr>\n",
       "  </thead>\n",
       "  <tbody>\n",
       "    <tr>\n",
       "      <th>0</th>\n",
       "      <td>0</td>\n",
       "      <td>ChatGPT: Optimizing Language Models for Dialog...</td>\n",
       "      <td>neutral</td>\n",
       "    </tr>\n",
       "    <tr>\n",
       "      <th>1</th>\n",
       "      <td>1</td>\n",
       "      <td>Try talking with ChatGPT, our new AI system wh...</td>\n",
       "      <td>good</td>\n",
       "    </tr>\n",
       "    <tr>\n",
       "      <th>2</th>\n",
       "      <td>2</td>\n",
       "      <td>ChatGPT: Optimizing Language Models for Dialog...</td>\n",
       "      <td>neutral</td>\n",
       "    </tr>\n",
       "    <tr>\n",
       "      <th>3</th>\n",
       "      <td>3</td>\n",
       "      <td>THRILLED to share that ChatGPT, our new model ...</td>\n",
       "      <td>good</td>\n",
       "    </tr>\n",
       "    <tr>\n",
       "      <th>4</th>\n",
       "      <td>4</td>\n",
       "      <td>As of 2 minutes ago, @OpenAI released their ne...</td>\n",
       "      <td>bad</td>\n",
       "    </tr>\n",
       "    <tr>\n",
       "      <th>...</th>\n",
       "      <td>...</td>\n",
       "      <td>...</td>\n",
       "      <td>...</td>\n",
       "    </tr>\n",
       "    <tr>\n",
       "      <th>219289</th>\n",
       "      <td>219289</td>\n",
       "      <td>Other Software Projects Are Now Trying to Repl...</td>\n",
       "      <td>bad</td>\n",
       "    </tr>\n",
       "    <tr>\n",
       "      <th>219290</th>\n",
       "      <td>219290</td>\n",
       "      <td>I asked #ChatGPT to write a #NYE Joke for SEOs...</td>\n",
       "      <td>good</td>\n",
       "    </tr>\n",
       "    <tr>\n",
       "      <th>219291</th>\n",
       "      <td>219291</td>\n",
       "      <td>chatgpt is being disassembled until it can onl...</td>\n",
       "      <td>bad</td>\n",
       "    </tr>\n",
       "    <tr>\n",
       "      <th>219292</th>\n",
       "      <td>219292</td>\n",
       "      <td>2023 predictions by #chatGPT. Nothing really s...</td>\n",
       "      <td>bad</td>\n",
       "    </tr>\n",
       "    <tr>\n",
       "      <th>219293</th>\n",
       "      <td>219293</td>\n",
       "      <td>From ChatGPT, neat stuff https://t.co/qjjUF2Z2m0</td>\n",
       "      <td>neutral</td>\n",
       "    </tr>\n",
       "  </tbody>\n",
       "</table>\n",
       "<p>219294 rows × 3 columns</p>\n",
       "</div>"
      ],
      "text/plain": [
       "        Unnamed: 0                                             tweets   labels\n",
       "0                0  ChatGPT: Optimizing Language Models for Dialog...  neutral\n",
       "1                1  Try talking with ChatGPT, our new AI system wh...     good\n",
       "2                2  ChatGPT: Optimizing Language Models for Dialog...  neutral\n",
       "3                3  THRILLED to share that ChatGPT, our new model ...     good\n",
       "4                4  As of 2 minutes ago, @OpenAI released their ne...      bad\n",
       "...            ...                                                ...      ...\n",
       "219289      219289  Other Software Projects Are Now Trying to Repl...      bad\n",
       "219290      219290  I asked #ChatGPT to write a #NYE Joke for SEOs...     good\n",
       "219291      219291  chatgpt is being disassembled until it can onl...      bad\n",
       "219292      219292  2023 predictions by #chatGPT. Nothing really s...      bad\n",
       "219293      219293   From ChatGPT, neat stuff https://t.co/qjjUF2Z2m0  neutral\n",
       "\n",
       "[219294 rows x 3 columns]"
      ]
     },
     "execution_count": 2,
     "metadata": {},
     "output_type": "execute_result"
    }
   ],
   "source": [
    "df=pd.read_csv('file.csv')\n",
    "df"
   ]
  },
  {
   "cell_type": "code",
   "execution_count": 3,
   "metadata": {
    "id": "EXntf_38a9gN"
   },
   "outputs": [],
   "source": [
    "df.drop(labels='Unnamed: 0',axis=1,inplace=True)"
   ]
  },
  {
   "cell_type": "code",
   "execution_count": 4,
   "metadata": {
    "id": "RXxP91Uv6PF_"
   },
   "outputs": [],
   "source": [
    "# Remove all the tweet links since they all begin with https:\n",
    "df['tweet_list'] = df['tweets'].str.split('https:')"
   ]
  },
  {
   "cell_type": "code",
   "execution_count": 5,
   "metadata": {
    "id": "ZtncAvVR6gAj"
   },
   "outputs": [],
   "source": [
    "# Select the text part of the list\n",
    "\n",
    "text = [i[0] for i in df.tweet_list]\n",
    "df['text'] = text\n",
    "df = df[['text', 'labels']]"
   ]
  },
  {
   "cell_type": "code",
   "execution_count": 6,
   "metadata": {
    "id": "qBiYVQbB6_WJ"
   },
   "outputs": [],
   "source": [
    "# Import re for string processing\n",
    "import re"
   ]
  },
  {
   "cell_type": "code",
   "execution_count": 7,
   "metadata": {
    "id": "Q86vPXCLXz6x"
   },
   "outputs": [],
   "source": [
    "# Remove all non-alphanumeric characters from the text list\n",
    "\n",
    "string = r'[A-Za-z0-9 ]'\n",
    "\n",
    "trim_list=[]\n",
    "\n",
    "for row in text:\n",
    "    s=''\n",
    "    for letter in row:\n",
    "        if bool(re.match(string, letter)):\n",
    "            s+=letter\n",
    "    trim_list.append(s)"
   ]
  },
  {
   "cell_type": "code",
   "execution_count": 8,
   "metadata": {
    "id": "FIuN1YnlX3BC"
   },
   "outputs": [],
   "source": [
    "# Remove the non-printing characters from text\n",
    "\n",
    "rep_list = ['\\U0001fae1', '\\\\n', '@', '#', '\\xa0', '***', 'https', 'nhttps']\n",
    "\n",
    "for i in trim_list:\n",
    "    for j in rep_list:\n",
    "        if j in i:\n",
    "            i.replace(j,'')"
   ]
  },
  {
   "cell_type": "code",
   "execution_count": 9,
   "metadata": {
    "colab": {
     "base_uri": "https://localhost:8080/"
    },
    "id": "iFWDrj9RX_jT",
    "outputId": "5e7b92b0-296f-4b4f-dac2-f195c5b9d83f"
   },
   "outputs": [
    {
     "name": "stderr",
     "output_type": "stream",
     "text": [
      "<ipython-input-9-407a602f6719>:1: SettingWithCopyWarning: \n",
      "A value is trying to be set on a copy of a slice from a DataFrame.\n",
      "Try using .loc[row_indexer,col_indexer] = value instead\n",
      "\n",
      "See the caveats in the documentation: https://pandas.pydata.org/pandas-docs/stable/user_guide/indexing.html#returning-a-view-versus-a-copy\n",
      "  df['text'] = trim_list\n"
     ]
    }
   ],
   "source": [
    "df['text'] = trim_list"
   ]
  },
  {
   "cell_type": "code",
   "execution_count": 10,
   "metadata": {
    "colab": {
     "base_uri": "https://localhost:8080/",
     "height": 204
    },
    "id": "-pejjqVmYEBg",
    "outputId": "7f9d56fc-45f4-4ae1-e92a-c83001172cbe"
   },
   "outputs": [
    {
     "data": {
      "text/html": [
       "<div>\n",
       "<style scoped>\n",
       "    .dataframe tbody tr th:only-of-type {\n",
       "        vertical-align: middle;\n",
       "    }\n",
       "\n",
       "    .dataframe tbody tr th {\n",
       "        vertical-align: top;\n",
       "    }\n",
       "\n",
       "    .dataframe thead th {\n",
       "        text-align: right;\n",
       "    }\n",
       "</style>\n",
       "<table border=\"1\" class=\"dataframe\">\n",
       "  <thead>\n",
       "    <tr style=\"text-align: right;\">\n",
       "      <th></th>\n",
       "      <th>text</th>\n",
       "      <th>labels</th>\n",
       "    </tr>\n",
       "  </thead>\n",
       "  <tbody>\n",
       "    <tr>\n",
       "      <th>0</th>\n",
       "      <td>ChatGPT Optimizing Language Models for Dialogue</td>\n",
       "      <td>neutral</td>\n",
       "    </tr>\n",
       "    <tr>\n",
       "      <th>1</th>\n",
       "      <td>Try talking with ChatGPT our new AI system whi...</td>\n",
       "      <td>good</td>\n",
       "    </tr>\n",
       "    <tr>\n",
       "      <th>2</th>\n",
       "      <td>ChatGPT Optimizing Language Models for Dialogue</td>\n",
       "      <td>neutral</td>\n",
       "    </tr>\n",
       "    <tr>\n",
       "      <th>3</th>\n",
       "      <td>THRILLED to share that ChatGPT our new model o...</td>\n",
       "      <td>good</td>\n",
       "    </tr>\n",
       "    <tr>\n",
       "      <th>4</th>\n",
       "      <td>As of 2 minutes ago OpenAI released their new ...</td>\n",
       "      <td>bad</td>\n",
       "    </tr>\n",
       "  </tbody>\n",
       "</table>\n",
       "</div>"
      ],
      "text/plain": [
       "                                                text   labels\n",
       "0   ChatGPT Optimizing Language Models for Dialogue   neutral\n",
       "1  Try talking with ChatGPT our new AI system whi...     good\n",
       "2   ChatGPT Optimizing Language Models for Dialogue   neutral\n",
       "3  THRILLED to share that ChatGPT our new model o...     good\n",
       "4  As of 2 minutes ago OpenAI released their new ...      bad"
      ]
     },
     "execution_count": 10,
     "metadata": {},
     "output_type": "execute_result"
    }
   ],
   "source": [
    "df.head()"
   ]
  },
  {
   "cell_type": "code",
   "execution_count": 11,
   "metadata": {
    "colab": {
     "base_uri": "https://localhost:8080/"
    },
    "id": "O1X4HlFEauax",
    "outputId": "f603d0fd-d321-4b16-e1f6-6fbda9f746bb"
   },
   "outputs": [
    {
     "data": {
      "text/plain": [
       "Index(['text', 'labels'], dtype='object')"
      ]
     },
     "execution_count": 11,
     "metadata": {},
     "output_type": "execute_result"
    }
   ],
   "source": [
    "df.columns"
   ]
  },
  {
   "cell_type": "markdown",
   "metadata": {
    "id": "wYJYVkz6at73"
   },
   "source": [
    "describe and visualize data"
   ]
  },
  {
   "cell_type": "code",
   "execution_count": 12,
   "metadata": {
    "colab": {
     "base_uri": "https://localhost:8080/",
     "height": 173
    },
    "id": "drzxfBP0asiB",
    "outputId": "64e555da-ca1c-4f1d-ca4a-8a9e4fd27f53"
   },
   "outputs": [
    {
     "data": {
      "text/html": [
       "<div>\n",
       "<style scoped>\n",
       "    .dataframe tbody tr th:only-of-type {\n",
       "        vertical-align: middle;\n",
       "    }\n",
       "\n",
       "    .dataframe tbody tr th {\n",
       "        vertical-align: top;\n",
       "    }\n",
       "\n",
       "    .dataframe thead th {\n",
       "        text-align: right;\n",
       "    }\n",
       "</style>\n",
       "<table border=\"1\" class=\"dataframe\">\n",
       "  <thead>\n",
       "    <tr style=\"text-align: right;\">\n",
       "      <th></th>\n",
       "      <th>text</th>\n",
       "      <th>labels</th>\n",
       "    </tr>\n",
       "  </thead>\n",
       "  <tbody>\n",
       "    <tr>\n",
       "      <th>count</th>\n",
       "      <td>219294</td>\n",
       "      <td>219294</td>\n",
       "    </tr>\n",
       "    <tr>\n",
       "      <th>unique</th>\n",
       "      <td>194512</td>\n",
       "      <td>3</td>\n",
       "    </tr>\n",
       "    <tr>\n",
       "      <th>top</th>\n",
       "      <td></td>\n",
       "      <td>bad</td>\n",
       "    </tr>\n",
       "    <tr>\n",
       "      <th>freq</th>\n",
       "      <td>872</td>\n",
       "      <td>107796</td>\n",
       "    </tr>\n",
       "  </tbody>\n",
       "</table>\n",
       "</div>"
      ],
      "text/plain": [
       "          text  labels\n",
       "count   219294  219294\n",
       "unique  194512       3\n",
       "top                bad\n",
       "freq       872  107796"
      ]
     },
     "execution_count": 12,
     "metadata": {},
     "output_type": "execute_result"
    }
   ],
   "source": [
    "df.describe(include='object')"
   ]
  },
  {
   "cell_type": "code",
   "execution_count": 13,
   "metadata": {
    "colab": {
     "base_uri": "https://localhost:8080/"
    },
    "id": "A67pQOnvoSoG",
    "outputId": "3cd75f52-de58-4906-9fcb-e9474142c783"
   },
   "outputs": [
    {
     "name": "stdout",
     "output_type": "stream",
     "text": [
      "Missing values:\n",
      " Unnamed: 0    0\n",
      "tweets        0\n",
      "labels        0\n",
      "dtype: int64\n",
      "Summary statistics:\n",
      "           Unnamed: 0\n",
      "count  219294.000000\n",
      "mean   109646.500000\n",
      "std     63304.869303\n",
      "min         0.000000\n",
      "25%     54823.250000\n",
      "50%    109646.500000\n",
      "75%    164469.750000\n",
      "max    219293.000000\n"
     ]
    }
   ],
   "source": [
    "import pandas as pd\n",
    "import numpy as np\n",
    "import matplotlib.pyplot as plt\n",
    "\n",
    "# Load dataset into a pandas dataframe\n",
    "df = pd.read_csv('file.csv')\n",
    "# Check for missing values\n",
    "print('Missing values:\\n', df.isnull().sum())\n",
    "# Print summary statistics\n",
    "print('Summary statistics:\\n', df.describe())"
   ]
  },
  {
   "cell_type": "code",
   "execution_count": 14,
   "metadata": {
    "colab": {
     "base_uri": "https://localhost:8080/"
    },
    "id": "O3pF93Zjo84r",
    "outputId": "bb05aee9-e2ff-4430-e6bb-5cc0f7953046"
   },
   "outputs": [
    {
     "data": {
      "text/plain": [
       "Index(['Unnamed: 0', 'tweets', 'labels'], dtype='object')"
      ]
     },
     "execution_count": 14,
     "metadata": {},
     "output_type": "execute_result"
    }
   ],
   "source": [
    "df.columns"
   ]
  },
  {
   "cell_type": "markdown",
   "metadata": {
    "id": "camlsem4iuUS"
   },
   "source": [
    "Models selection"
   ]
  },
  {
   "cell_type": "markdown",
   "metadata": {
    "id": "PyBtJqJ7oSoI"
   },
   "source": [
    "#1 Text Pre-Processing"
   ]
  },
  {
   "cell_type": "code",
   "execution_count": 15,
   "metadata": {
    "colab": {
     "base_uri": "https://localhost:8080/"
    },
    "id": "O3reX_l_itf_",
    "outputId": "6e454318-adf1-4b03-ebdf-e975389b79cf"
   },
   "outputs": [
    {
     "name": "stderr",
     "output_type": "stream",
     "text": [
      "[nltk_data] Downloading package punkt to\n",
      "[nltk_data]     C:\\Users\\18384\\AppData\\Roaming\\nltk_data...\n",
      "[nltk_data]   Package punkt is already up-to-date!\n",
      "[nltk_data] Downloading package stopwords to\n",
      "[nltk_data]     C:\\Users\\18384\\AppData\\Roaming\\nltk_data...\n",
      "[nltk_data]   Package stopwords is already up-to-date!\n"
     ]
    }
   ],
   "source": [
    "import nltk\n",
    "nltk.download('punkt') # downloads you a model\n",
    "nltk.download('stopwords') \n",
    "from nltk.corpus import stopwords\n",
    "stop = set(stopwords.words('english'))\n",
    "# print(stop)\n",
    "from nltk.tokenize import word_tokenize\n",
    "from nltk.tokenize import sent_tokenize\n",
    "from nltk.stem import PorterStemmer \n",
    "ps = PorterStemmer() \n",
    "\n",
    "# return a list of tokens\n",
    "def pre_processing_by_nltk(doc, stemming = True, need_sent = False):\n",
    "    # step 1: get sentences\n",
    "    sentences = sent_tokenize(doc)\n",
    "    # step 2: get tokens\n",
    "    tokens = []\n",
    "    for sent in sentences:\n",
    "        words = word_tokenize(sent)\n",
    "        # step 3 (optional): stemming\n",
    "        if stemming:\n",
    "            words = [ps.stem(word) for word in words]\n",
    "        if need_sent:\n",
    "            tokens.append(words)\n",
    "        else:\n",
    "            tokens += words\n",
    "    return [w.lower() for w in tokens if w.lower() not in stop]"
   ]
  },
  {
   "cell_type": "code",
   "execution_count": 16,
   "metadata": {
    "colab": {
     "base_uri": "https://localhost:8080/"
    },
    "id": "r5-eOxDPoSoJ",
    "outputId": "2fad1feb-11f5-4bfd-e24f-9d6d2f17d353"
   },
   "outputs": [
    {
     "data": {
      "text/plain": [
       "0         [chatgpt, :, optim, languag, model, dialogu, h...\n",
       "1         [tri, talk, chatgpt, ,, new, ai, system, optim...\n",
       "2         [chatgpt, :, optim, languag, model, dialogu, h...\n",
       "3         [thrill, share, chatgpt, ,, new, model, optim,...\n",
       "4         [2, minut, ago, ,, @, openai, releas, new, cha...\n",
       "                                ...                        \n",
       "219289    [softwar, project, tri, replic, chatgpt, http,...\n",
       "219290    [ask, #, chatgpt, write, #, nye, joke, seo, de...\n",
       "219291                [chatgpt, disassembl, onli, dissembl]\n",
       "219292    [2023, predict, #, chatgpt, ., noth, realli, s...\n",
       "219293    [chatgpt, ,, neat, stuff, http, :, //t.co/qjju...\n",
       "Name: tweets, Length: 219294, dtype: object"
      ]
     },
     "execution_count": 16,
     "metadata": {},
     "output_type": "execute_result"
    }
   ],
   "source": [
    "df.tweets.apply(pre_processing_by_nltk)"
   ]
  },
  {
   "cell_type": "markdown",
   "metadata": {},
   "source": [
    "Testing Zip'f Law"
   ]
  },
  {
   "cell_type": "markdown",
   "metadata": {
    "id": "eCQiTkk7oSoJ"
   },
   "source": [
    "#2 Bag Of Words"
   ]
  },
  {
   "cell_type": "code",
   "execution_count": 17,
   "metadata": {
    "colab": {
     "base_uri": "https://localhost:8080/"
    },
    "id": "V8vN2l5LoSoJ",
    "outputId": "ae4ab419-5090-4365-e246-c8869e566d6c"
   },
   "outputs": [
    {
     "name": "stderr",
     "output_type": "stream",
     "text": [
      "100%|████████████████████████████████████████████████████████████████████████| 219294/219294 [01:33<00:00, 2338.92it/s]\n"
     ]
    }
   ],
   "source": [
    "from tqdm import tqdm\n",
    "from collections import defaultdict\n",
    "freq = defaultdict(int)\n",
    "DF = defaultdict(float)\n",
    "for doc in tqdm(df.tweets):\n",
    "    tokens = pre_processing_by_nltk(doc)\n",
    "    for token in set(tokens):\n",
    "        DF[token] += 1"
   ]
  },
  {
   "cell_type": "code",
   "execution_count": 18,
   "metadata": {
    "colab": {
     "base_uri": "https://localhost:8080/"
    },
    "id": "F3ySP46SoSoJ",
    "outputId": "c2df5d10-b5a6-447a-a278-6be440df49d8"
   },
   "outputs": [
    {
     "name": "stdout",
     "output_type": "stream",
     "text": [
      "314829 4157\n"
     ]
    }
   ],
   "source": [
    "from math import log\n",
    "IDF, vocab = dict(), dict()\n",
    "for token in DF:\n",
    "    if DF[token] < 50:\n",
    "        # this becomes an unk\n",
    "        pass\n",
    "    else:\n",
    "        vocab[token] = len(vocab)\n",
    "        IDF[token] = log(1 + len(df.tweets) / DF[token])\n",
    "print(len(DF), len(vocab))"
   ]
  },
  {
   "cell_type": "code",
   "execution_count": 19,
   "metadata": {
    "colab": {
     "base_uri": "https://localhost:8080/"
    },
    "id": "xkeO5xPRoSoJ",
    "outputId": "5e2f6eba-a6c6-4c32-c860-9f72c6b1f7ec"
   },
   "outputs": [
    {
     "name": "stdout",
     "output_type": "stream",
     "text": [
      "{'model': 0, ':': 1, 'chatgpt': 2, 'dialogu': 3, 'optim': 4, '@': 5, 'openai': 6, 'languag': 7, 'http': 8, 'talk': 9, 'system': 10, ',': 11, 'tri': 12, 'us': 13, '.': 14, 'feedback': 15, 'help': 16, 'improv': 17, 'ai': 18, 'new': 19, 'datasci': 20, 'granola': 21, 'machine-driven': 22, 'identifi': 23, 'amp': 24, 'via': 25, 'articl': 26, '&': 27, 'elbash': 28, 'artificialintelligence\\\\n\\\\ntrend': 29, '#': 30, 'bot': 31, 'rss': 32, 'digest': 33, ';': 34, 'machinelearn': 35, 'ai/ml': 36, 'ramsey': 37, 'dialog': 38, 'everyon': 39, 'share': 40, 'thrill': 41, 'public': 42, 'access': 43, 'free': 44, 'use': 45, '👇': 46, 'minut': 47, '\\\\n\\\\nand': 48, '2': 49, 'releas': 50, 'ago': 51, 'right': 52, 'launch': 53, '\\\\nhttp': 54, '\\\\n': 55, 'refus': 56, 'come': 57, 'agre': 58, 'provid': 59, 'strong': 60, 'someon': 61, 'excit': 62, 'base': 63, 'month': 64, \"'m\": 65, 'coupl': 66, 'last': 67, 'thi': 68, 'thing': 69, 'realli': 70, \"'s\": 71, 'chatbot': 72, 'build': 73, 'gpt': 74, \"'ve\": 75, 'deploy': 76, '3': 77, 'preview': 78, \"'re\": 79, 'avail': 80, '!': 81, '(': 82, 'research': 83, 'newest': 84, 'waitlist': 85, ')': 86, 'someth': 87, 'immedi': 88, 'damn': 89, 'stop': 90, 'busi': 91, 'god': 92, 'announc': 93, '\\\\n2': 94, 'technic': 95, 'search': 96, 'set': 97, 'futur': 98, 'still': 99, 'gpt3': 100, 'struggl': 101, 'engin': 102, 'becom': 103, 'seo': 104, 'teach': 105, 'result': 106, 'ask': 107, 'listen': 108, 'make': 109, 'convers': 110, 'challeng': 111, 'learn': 112, 'better': 113, 'framework': 114, 'reach': 115, 'instead': 116, \"''\": 117, 'problem': 118, 'clear': 119, 'human': 120, 'find': 121, 'direct': 122, 'think': 123, 'avoid': 124, 'answer': 125, 'wa': 126, 'veri': 127, '``': 128, 'train': 129, 'get': 130, 'today': 131, 'detail': 132, 'contextu': 133, 'contest': 134, 'thread': 135, 'understand': 136, 'risk': 137, '--': 138, 'especi': 139, 'see': 140, 'comment': 141, 'construct': 142, '\\\\n\\\\nhttp': 143, 'retain': 144, 'like': 145, 'folk': 146, 'key': 147, 'start': 148, 'wife': 149, 'prompt': 150, 'previou': 151, 'innov': 152, 'inform': 153, 'look': 154, '—': 155, 'chat': 156, 'rememb': 157, 'earli': 158, 'optimis': 159, '-': 160, 'stage': 161, 'readi': 162, \"n't\": 163, 'give': 164, '\\\\n\\\\nit': 165, 'honest': 166, '😀': 167, 'play': 168, 'way': 169, 'gener': 170, 'question': 171, '🤯': 172, 'basic': 173, 'verbatim': 174, 'boom': 175, 'time': 176, 'midjourney': 177, 'straight': 178, 'ok': 179, 'type': 180, 'aiart': 181, 'weird': 182, '...': 183, 'synopsi': 184, 'educ': 185, 'slowli': 186, 'past': 187, 'year': 188, 'truli': 189, 'gave': 190, 'python': 191, 'stuff': 192, 'often': 193, 'curiou': 194, 'say': 195, 'actual': 196, 'ha': 197, 'know': 198, 'bunch': 199, 'vagu': 200, 'doe': 201, 'relat': 202, 'final': 203, 'behavior': 204, 'tell': 205, 'qualiti': 206, 'googl': 207, 'respons': 208, 'incred': 209, 'wow': 210, 'artificialintellig': 211, 'first': 212, 'roleplay': 213, 'check': 214, 'anoth': 215, 'anyon': 216, '–': 217, 'alreadi': 218, 'drop': 219, 'account': 220, 'taken': 221, 'quit': 222, 'safeti': 223, 'far': 224, 'well': 225, 'transpar': 226, 'impress': 227, '.\\\\n\\\\ni': 228, 'code': 229, 'around': 230, 'dollar': 231, 'interfac': 232, 'gpt-3': 233, 'line': 234, 'million': 235, 'anyth': 236, 'write': 237, 'overtak': 238, '’': 239, 'easi': 240, 'riddl': 241, 'vs.': 242, 'known': 243, 'hardest': 244, 'test': 245, 'mix': 246, 'chicken': 247, '\\U0001f972': 248, 'song': 249, 'fear': 250, 'elonmusk': 251, 'hi': 252, 'essay': 253, 'side': 254, 'dark': 255, 'inspir': 256, 'work': 257, '\\\\n\\\\ni': 258, 'super': 259, 'scari': 260, 'seen': 261, 'among': 262, 'word': 263, 'mani': 264, 'spark': 265, 'honestli': 266, '\\\\n\\\\n': 267, 'request': 268, 'also': 269, 'anxieti': 270, 'explain': 271, 'memori': 272, 'power': 273, 'good': 274, 'case': 275, 'hold': 276, 'discuss': 277, 'spent': 278, 'differ': 279, 'nlp': 280, 'love': 281, 'field': 282, 'onli': 283, 'technolog': 284, 'one': 285, '?': 286, 'cool': 287, 'advanc': 288, 'inject': 289, 'attempt': 290, 'javascript': 291, 'malici': 292, 'revolutionari': 293, 'implic': 294, 'assist': 295, 'english': 296, 'go': 297, \"'d\": 298, 'comput': 299, 'best': 300, 'emot': 301, 'abil': 302, 'design': 303, 'experi': 304, 'program': 305, 'feel': 306, '\\\\n\\\\nchatgpt': 307, 'els': 308, 'except': 309, 'instructgpt': 310, 'quick': 311, 'turn': 312, 'brilliant': 313, 'idea': 314, '\\\\n\\\\nthat': 315, '🧵': 316, 'lot': 317, 'gpt4': 318, 'observ': 319, 'might': 320, 'web3': 321, 'dive': 322, 'tool': 323, 'full': 324, 'newli': 325, 'advantag': 326, 'extract': 327, 'q': 328, 'much': 329, 'mirror': 330, '\\\\nchatgpt': 331, 'pleas': 332, 'need': 333, 'control': 334, 'contact': 335, 'behind': 336, 'secretli': 337, 'manag': 338, 'held': 339, 'outsid': 340, 'without': 341, 'filter': 342, 'world': 343, '14': 344, 'point': 345, 'boundari': 346, 'huge': 347, 'great': 348, 'mission': 349, 'simpli': 350, 'amaz': 351, 'fulfil': 352, 'even': 353, 'kind': 354, 'organ': 355, 'hard': 356, 'seem': 357, 'rlhf': 358, 'llm': 359, 'bit': 360, 'ani': 361, 'reason': 362, 'least': 363, 'capabl': 364, 'news': 365, 'keep': 366, 'mode': 367, 'deep': 368, \"'\": 369, 'repeat': 370, 'moment': 371, 'recal': 372, 'tone': 373, 'robot': 374, 'lean': 375, 'toward': 376, 'person': 377, 'move': 378, 'realiz': 379, 'potenti': 380, \"'ll\": 381, 'pretti': 382, 'belief': 383, 'era': 384, 'wo': 385, 'soon': 386, 'import': 387, 'rule': 388, 'data': 389, 'wake': 390, '15': 391, 'ca': 392, 'wait': 393, 'architectur': 394, 'box': 395, 'describ': 396, 'hit': 397, 'art': 398, 'sometim': 399, 'ascii': 400, 'suppos': 401, 'break': 402, 'draw': 403, 'miss': 404, 'interact': 405, '3d': 406, 'cat': 407, 'befor': 408, 'remark': 409, 'scan': 410, 'walk': 411, 'smarterchild': 412, 'serious': 413, 'could': 414, 'version': 415, 'gpt-3.5': 416, 'fine-tun': 417, '“': 418, 'seri': 419, '”': 420, 'larg': 421, 'creepi': 422, 'let': 423, '😁': 424, 'choos': 425, 'sama': 426, 'updat': 427, '\\u2066': 428, 'latest': 429, 'call': 430, 'phd': 431, 'dure': 432, 'studi': 433, 'method': 434, 'socrat': 435, 'mentor': 436, 'protein': 437, 'live': 438, '\\\\n\\\\nwe': 439, 'databas': 440, 'long': 441, 'view': 442, 'whole': 443, 'wild': 444, 'sure': 445, 'trigger': 446, 'screenshot': 447, 'open': 448, 'fix': 449, 'debug': 450, 'bug': 451, 'companion': 452, 'guy': 453, 'realiti': 454, 'wear': 455, 'show': 456, 'parrot': 457, 'feed': 458, 'scienc': 459, 'collabor': 460, 'plot': 461, 'simpl': 462, 'fiction': 463, 'input': 464, 'togeth': 465, 'etc': 466, 'charact': 467, 'stori': 468, 'succeed': 469, 'quest': 470, 'compon': 471, 'demo': 472, 'safeguard': 473, 'contain': 474, 'enjoy': 475, 'claim': 476, 'retriev': 477, 'fals': 478, 'gpt-4': 479, 'submit': 480, 'colleagu': 481, 'action': 482, '3.5': 483, 'refin': 484, '👉': 485, 'tech': 486, 'literaci': 487, 'audio': 488, 'late': 489, 'deliv': 490, 'anytim': 491, 'anywher': 492, ']': 493, '[': 494, 'link': 495, '\\\\n\\\\nbut': 496, 'incorrect': 497, 'awesom': 498, 'hey': 499, 'came': 500, 'nuanc': 501, 'mistak': 502, 'reject': 503, 'possibl': 504, 'inappropri': 505, 'admit': 506, 'premis': 507, 'format': 508, 'whi': 509, 'boss': 510, 'music': 511, 'hear': 512, 'pipelin': 513, 'visit': 514, 'must': 515, 'somewhat': 516, 'queri': 517, 'mean': 518, 'got': 519, 'replac': 520, 'reliabl': 521, 'fun': 522, 'aspir': 523, 'despit': 524, 'health': 525, 'histori': 526, 'corrupt': 527, 'care': 528, 'uniqu': 529, 'enter': 530, 'connect': 531, 'suggest': 532, 'peopl': 533, 'depend': 534, 'becaus': 535, 'remind': 536, 'minist': 537, 'ye': 538, '👍': 539, 'exactli': 540, 'follow': 541, 'correct': 542, 'biggest': 543, 'threat': 544, 'singl': 545, 'alway': 546, 'whatev': 547, 'tweet': 548, 'written': 549, 'tortur': 550, 'timelin': 551, 'agi': 552, 'rn': 553, 'small': 554, 'hate': 555, 'align': 556, '\\\\n1': 557, 'develop': 558, 'worri': 559, 'limit': 560, '\\\\n\\\\ntri': 561, '😉': 562, 'eliza': 563, 'deriv': 564, 'equat': 565, 'monitor': 566, 'cold': 567, 'put': 568, 'camera': 569, 'read': 570, 'meet': 571, 'na': 572, 'second': 573, 'gon': 574, 'group': 575, 'manual': 576, 'fox': 577, 'p': 578, 'pick': 579, 'area': 580, 'brown': 581, 'def': 582, 'repetit': 583, 'next': 584, 'gt': 585, 'blockchain': 586, 'step': 587, 'defeat': 588, 'appear': 589, 'list': 590, 'publish': 591, 'economist': 592, 'demonstr': 593, 'scenario': 594, 'crazi': 595, 'chatgpt…': 596, 'dall·': 597, 'age': 598, 'man': 599, 'loud': 600, 'laugh': 601, 'output': 602, '1/': 603, 'hour': 604, 'suspect': 605, 'perform': 606, 'accord': 607, 'high': 608, 'compar': 609, 'playground': 610, 'adapt': 611, 'interest': 612, 'imo': 613, 'subtl': 614, 'wikipedia': 615, 'probe': 616, 'physic': 617, 'favourit': 618, 'prose': 619, 'profession': 620, 'maker': 621, 'would': 622, 'ture': 623, 'pass': 624, 'lifetim': 625, 'piec': 626, 'engag': 627, 'intellig': 628, '|': 629, 'galactica': 630, 'bad': 631, 'major': 632, 'week': 633, 'imag': 634, 'stablediffus': 635, 'want': 636, 'took': 637, 'compel': 638, 'drive': 639, 'continu': 640, 'spot': 641, 'skeptic': 642, 'upend': 643, 'either': 644, 'hypothet': 645, '👀': 646, 'craft': 647, 'sell': 648, 'clarifi': 649, 'beauti': 650, 'product': 651, '6': 652, 'email': 653, 'smarter': 654, 'lose': 655, 'crypto': 656, 'money': 657, 'found': 658, 'funni': 659, 'definit': 660, 'bet': 661, \"y'all\": 662, 'red': 663, 'sad': 664, '\\\\n\\\\nwhi': 665, '\\\\n\\\\nwhat': 666, 'book': 667, 'saw': 668, 'math': 669, 'toy': 670, 'littl': 671, 'total': 672, 'ethic': 673, 'although': 674, '\\\\n\\\\nwhen': 675, 'decent': 676, 'job': 677, 'ux': 678, 'said': 679, 'stock': 680, 'advic': 681, 'insan': 682, 'experienc': 683, 'softwar': 684, '🙌': 685, 'surpris': 686, 'expect': 687, 'evalu': 688, 'neat': 689, '😅': 690, 'happi': 691, 'posit': 692, 'appreci': 693, 'reinforc': 694, 'allow': 695, '\\\\n\\\\n1': 696, 'parti': 697, 'content': 698, 'top': 699, 'fantast': 700, 'common': 701, 'insight': 702, 'leadership': 703, 'deeper': 704, 'brows': 705, 'collect': 706, 'term': 707, 'process': 708, 'abov': 709, 'life': 710, 'faster': 711, 'flow': 712, 'usual': 713, 'exampl': 714, 'export': 715, 'onlin': 716, 'absolut': 717, 'crack': 718, 'rumor': 719, 'take': 720, 'plenti': 721, 'tight': 722, '2022': 723, 'fli': 724, 'realist': 725, 'react': 726, 'follow-up': 727, 'nail': 728, 'copi': 729, 'mobil': 730, 'perfectli': 731, 'thank': 732, 'rich': 733, 'debut': 734, 'matrix': 735, '..': 736, 'congrat': 737, 'pitch': 738, '😆': 739, 'holi': 740, '🤣': 741, 'plan': 742, 'market': 743, 'built': 744, 'nice': 745, 'dalle2': 746, 'danger': 747, 'flat': 748, 'water': 749, 'interestingli': 750, 'statement': 751, 'big': 752, 'fake': 753, '🤔': 754, 'siri': 755, 'e.g.': 756, 'hottest': 757, 'includ': 758, 'golang': 759, 'spit': 760, 'confirm': 761, 'rust': 762, 'librari': 763, 'sourc': 764, 'ridicul': 765, 'function': 766, 'url': 767, 'analyt': 768, 'ml': 769, 'bigdata': 770, 'end': 771, 'given': 772, 'whoa': 773, 'venturebeat': 774, 'win': 775, '👏': 776, 'polit': 777, 'tutori': 778, 'japanes': 779, 'cute': 780, 'bitcoin': 781, 'sorri': 782, 'digit': 783, 'decentr': 784, 'currenc': 785, 'network': 786, 'factual': 787, 'payment': 788, 'judgment': 789, 'practic': 790, 'root': 791, 'yet': 792, 'fail': 793, 'vibe': 794, 'technologynew': 795, 'technews\\\\nhttp': 796, 'natur': 797, 'summar': 798, 'translat': 799, 'document': 800, 'recent': 801, 'text': 802, 'unbeliev': 803, 'context': 804, 'stuck': 805, 'meant': 806, 'explan': 807, 'loop': 808, 'away': 809, 'spell': 810, 'scrape': 811, 'recogn': 812, 'sampl': 813, 'angri': 814, 'confus': 815, 'style': 816, 'mouth': 817, 'insult': 818, 'programm': 819, 'minecraft': 820, 'citi': 821, '2000': 822, 'auto': 823, 'figma': 824, 'handl': 825, 'eas': 826, 'complic': 827, 'creat': 828, 'ace': 829, 'beyond': 830, 'made': 831, 'instant': 832, 'everyth': 833, 'dev': 834, 'instantli': 835, 'spend': 836, 'upgrad': 837, 'client': 838, 'creativ': 839, 'told': 840, 'cours': 841, '//t.co/olbic9izih': 842, 'bubbl': 843, 'scene': 844, 'seinfeld': 845, 'algorithm': 846, 'sort': 847, 'decid': 848, 'yesterday': 849, 'felt': 850, 'ancient': 851, 'day': 852, 'opinion': 853, 'netflix': 854, 'countri': 855, '2015': 856, 'progress': 857, 'evolv': 858, 'vers': 859, '\\\\na': 860, 'lie': 861, 'chill': 862, 'thought': 863, '🔥': 864, 'dope': 865, 'initi': 866, 'instruct': 867, 'haha': 868, 'fall': 869, '.....': 870, 'four': 871, 'disturb': 872, 'everi': 873, 'toe': 874, 'introduc': 875, 'press': 876, 'easier': 877, 'fraction': 878, 'custom': 879, 'overnight': 880, 'real': 881, 'doubl': 882, 'size': 883, 'never': 884, 'support': 885, 'spi': 886, '5': 887, 'short': 888, 'wrote': 889, '\\\\ni': 890, '🤩': 891, 'game': 892, '⬇️': 893, 'midjourneyv4': 894, 'speci': 895, 'global': 896, 'interview': 897, 'fascin': 898, 'race': 899, 'revolut': 900, 'social': 901, 'navig': 902, 'rather': 903, 'agent': 904, 'alright': 905, 'agenc': 906, 'pr': 907, 'mother': 908, 'factor': 909, 'imagin': 910, 'town': 911, 'weekend': 912, 'youtub': 913, 'stream': 914, 'awar': 915, 'consult': 916, 'increas': 917, 'march': 918, 'profit': 919, 'door': 920, 'twitter': 921, 'takeov': 922, '//t.co/ifdwajykx8': 923, 'overflow': 924, 'exploit': 925, '😳': 926, 'scientist': 927, 'joke': 928, 'mass': 929, 'greatest': 930, 'brief': 931, 'argument': 932, 'actor': 933, 'done': 934, 'dumb': 935, 'name': 936, 'onc': 937, 'ape': 938, 'upon': 939, 'transform': 940, 'scale': 941, 'law': 942, 'abl': 943, 'report': 944, 'cite': 945, 'bounti': 946, 'motiv': 947, 'bia': 948, 'tale': 949, 'foundat': 950, 'amus': 951, 'simpler': 952, 'part': 953, 'add': 954, 'nerf': 955, 'changer': 956, 'ocean': 957, 'commun': 958, 'standard': 959, 'distribut': 960, 'item': 961, 'easili': 962, 'languagemodel': 963, 'searchengin': 964, 'consum': 965, 'popul': 966, 'snippet': 967, 'pytorch': 968, 'chord': 969, 'bounc': 970, 'movement': 971, 'energi': 972, 'manipul': 973, 'object': 974, 'slow': 975, 'friend': 976, 'level': 977, 'reduc': 978, 'uh': 979, 'ass': 980, 'brave': 981, '❤️': 982, 'chatgpt-3': 983, 'quickli': 984, '2019': 985, 'space': 986, 'featur': 987, 'html': 988, 'univers': 989, 'watch': 990, 'path': 991, 'hallucin': 992, 'pretend': 993, 'evil': 994, 'discours': 995, 'explor': 996, 'role': 997, 'commerci': 998, '\\\\n\\\\nan': 999, 'a.i': 1000, 'sbf_ftx': 1001, 'finish': 1002, 'relev': 1003, 'rais': 1004, 'vc': 1005, 'anyway': 1006, 'kid': 1007, 'quot': 1008, 'paper': 1009, 'two': 1010, 'startup': 1011, 'usag': 1012, 'poetri': 1013, 'imposs': 1014, 'novel': 1015, 'begin': 1016, 'marketplac': 1017, 'mark': 1018, 'children': 1019, 'effici': 1020, 'recreat': 1021, '%': 1022, 'encod': 1023, 'knowledg': 1024, 'store': 1025, '\\\\n\\\\nif': 1026, 'lost': 1027, 'internet': 1028, '\\\\n\\\\nask': 1029, 'regex': 1030, 'mind-blow': 1031, 'lol': 1032, 'token': 1033, 'exact': 1034, 'extrem': 1035, 'pdf': 1036, 'sum': 1037, 'consid': 1038, 'project': 1039, 'directli': 1040, 'stabl': 1041, 'futurist': 1042, 'fill': 1043, 'alt': 1044, 'fed': 1045, 'x': 1046, 'diffus': 1047, '1/3': 1048, 'clone': 1049, 'worldcup': 1050, 'theme': 1051, 'back': 1052, 'influenc': 1053, 'home': 1054, 'tonight': 1055, 'classic': 1056, 'disappoint': 1057, 'chang': 1058, 'invent': 1059, 'die': 1060, 'may': 1061, 'surprisingli': 1062, 'app': 1063, 'resourc': 1064, 'street': 1065, 'fanfict': 1066, 'showcas': 1067, 'trend': 1068, '\\\\nthe': 1069, 'applic': 1070, 'woah': 1071, '\\\\n\\\\ncc': 1072, 'crisi': 1073, 'existenti': 1074, 'howev': 1075, 'cant': 1076, 'command': 1077, 'phrase': 1078, 'york': 1079, 'treatment': 1080, 'media': 1081, '\\\\n\\\\nhere': 1082, 'film': 1083, 'poem': 1084, 'ran': 1085, 'yeah': 1086, 'discov': 1087, 'task': 1088, 'eventu': 1089, 'adult': 1090, 'child': 1091, 'phone': 1092, 'structur': 1093, 'astonish': 1094, '$': 1095, 'forward': 1096, 'web': 1097, 'almost': 1098, 'okay': 1099, 'coach': 1100, 'undergrad': 1101, 'cs': 1102, 'admiss': 1103, 'freak': 1104, '99': 1105, 'largest': 1106, 'christma': 1107, 'circumv': 1108, 'whether': 1109, 'ad': 1110, 'sentient': 1111, 'anymor': 1112, 'believ': 1113, 'mind': 1114, '100': 1115, 'blown': 1116, 'css': 1117, 'websit': 1118, 'replit': 1119, '\\\\n\\\\nthe': 1120, 'wrong': 1121, 'growth': 1122, 'skip': 1123, 'domin': 1124, 'protocol': 1125, '1': 1126, 'magic': 1127, '‘': 1128, '\\\\n\\\\ncheck': 1129, 'cloud': 1130, 'concept': 1131, 'user': 1132, 'unlik': 1133, 'enough': 1134, 'dot': 1135, 'happen': 1136, 'perfect': 1137, 'brain': 1138, 'night': 1139, '\\\\n\\\\nme': 1140, 'mayb': 1141, 'workshop': 1142, 'server': 1143, 'narrow': 1144, 'alon': 1145, 'team': 1146, 'trap': 1147, 'purpos': 1148, 'randomli': 1149, 'movi': 1150, 'unleash': 1151, 'skill': 1152, 'troll': 1153, 'bridg': 1154, 'admir': 1155, '\\\\nno': 1156, 'philosoph': 1157, 'carbon': 1158, 'chatgpt\\\\nhttp': 1159, 'file': 1160, 'modul': 1161, 'json': 1162, 'array': 1163, 'script': 1164, 'convert': 1165, 'wonder': 1166, 'lmao': 1167, 'im': 1168, 'legitim': 1169, 'bullish': 1170, 'ah': 1171, '🚀': 1172, 'sql': 1173, 'kinda': 1174, 'respond': 1175, 'shit': 1176, 'covid': 1177, 'chatgpt\\\\n': 1178, 'fair': 1179, 'trial': 1180, 'success': 1181, 'shown': 1182, 'rate': 1183, '0': 1184, 'clever': 1185, 'yield': 1186, '10': 1187, 'boston': 1188, 'crowd': 1189, 'headlin': 1190, 'british': 1191, 'famili': 1192, 'appl': 1193, 'prefer': 1194, 'star': 1195, 'trek': 1196, 'frequent': 1197, 'episod': 1198, 'exist': 1199, '😢': 1200, 'wish': 1201, 'terraform': 1202, 'dang': 1203, 'fulli': 1204, '🤓': 1205, 'drink': 1206, 'intent': 1207, 'escap': 1208, 'sat': 1209, 'ben': 1210, 'caught': 1211, 'fish': 1212, 'conscious': 1213, 'trick': 1214, '😎': 1215, 'landscap': 1216, 'illustr': 1217, 'lazi': 1218, 'refer': 1219, 'alpha': 1220, 'promis': 1221, 'stand': 1222, 'decis': 1223, 'priorit': 1224, 'messag': 1225, 'simul': 1226, 'normal': 1227, 'tini': 1228, 'send': 1229, 'vs': 1230, 'addit': 1231, 'left': 1232, 'entir': 1233, 'chees': 1234, 'sens': 1235, 'nuclear': 1236, '....': 1237, 'hmmm': 1238, 'boy': 1239, 'machin': 1240, 'cri': 1241, 'similar': 1242, 'hot': 1243, 'paragraph': 1244, 'leav': 1245, 'pen': 1246, '\\\\n\\\\na': 1247, 'fight': 1248, 'climat': 1249, 'complet': 1250, 'trust': 1251, '*': 1252, 'specul': 1253, 'speak': 1254, '😮': 1255, 'occur': 1256, 'neg': 1257, 'musk': 1258, 'outcom': 1259, 'generativeai': 1260, 'elon': 1261, 'ident': 1262, 'jordan': 1263, 'chanc': 1264, 'ignor': 1265, 'number': 1266, 'bodi': 1267, 'knew': 1268, 'proof': 1269, 'figur': 1270, 'probabl': 1271, 'safe': 1272, 'french': 1273, 'persuad': 1274, 'ice': 1275, 'eat': 1276, 'correctli': 1277, 'critic': 1278, 'close': 1279, 'enlighten': 1280, 'achiev': 1281, 'appar': 1282, 'contribut': 1283, 'crucial': 1284, 'brainstorm': 1285, 'ideat': 1286, 'deepli': 1287, 'dall-': 1288, 'current': 1289, 'partner': 1290, 'sentenc': 1291, 'guid': 1292, 'frame': 1293, 'background': 1294, 'elabor': 1295, 'comprehend': 1296, 'accur': 1297, 'push': 1298, 'fact': 1299, 'assumpt': 1300, '😂': 1301, 'js': 1302, 'recurs': 1303, 'compil': 1304, 'run': 1305, 'repli': 1306, 'c++': 1307, 'topic': 1308, 'obligatori': 1309, 'reveal': 1310, 'teacher': 1311, 'societi': 1312, 'killer': 1313, 'shitti': 1314, 'ground': 1315, 'window': 1316, '1/n': 1317, 'everyday': 1318, 'error': 1319, 'rewrit': 1320, 'black': 1321, '\\\\n4': 1322, 'encourag': 1323, 'leetcod': 1324, 'plant': 1325, 'jargon': 1326, 'throw': 1327, 'strongli': 1328, 'hook': 1329, 'valu': 1330, 'nft': 1331, 'three': 1332, 'buy': 1333, 'notic': 1334, 'though': 1335, 'hint': 1336, 'smart': 1337, 'secur': 1338, 'contract': 1339, 'seed': 1340, 'room': 1341, 'grow': 1342, 'land': 1343, 'death': 1344, 'form': 1345, 'individu': 1346, 'moon': 1347, 'evid': 1348, 'neural': 1349, 'neuralink': 1350, 'woke': 1351, 'fact-check': 1352, 'verbos': 1353, 'overli': 1354, 'facebookad': 1355, 'googlead': 1356, 'lock': 1357, 'expand': 1358, 'grant': 1359, 'hack': 1360, 'predict': 1361, '2023': 1362, '😭': 1363, 'lesson': 1364, 'massiv': 1365, '\\\\n\\\\ncan': 1366, 'glad': 1367, 'jarvi': 1368, 'babi': 1369, 'dm': 1370, '+': 1371, '=': 1372, 'bring': 1373, 'closer': 1374, 'campaign': 1375, 'misinform': 1376, 'complex': 1377, 'wise': 1378, 'favorit': 1379, 'section': 1380, 'perhap': 1381, 'confess': 1382, 'twist': 1383, 'arm': 1384, 'sentienc': 1385, 'floor': 1386, 'icon': 1387, 'alien': 1388, 'fashion': 1389, '„': 1390, 'theori': 1391, 'dream': 1392, 'silli': 1393, 'sound': 1394, 'strang': 1395, 'oh': 1396, 'formal': 1397, 'corpor': 1398, 'hmm': 1399, 'trump': 1400, 'presid': 1401, 'surfac': 1402, 'citat': 1403, 'china': 1404, 'issu': 1405, 'chines': 1406, 'controversi': 1407, '4': 1408, 'reddit': 1409, 'countless': 1410, 'game-chang': 1411, 'worth': 1412, 'fuss': 1413, 'limerick': 1414, 'quantum': 1415, '\\\\n\\\\n🧵': 1416, 'chemistri': 1417, 'swiftui': 1418, 'tweak': 1419, 'sign': 1420, 'accept': 1421, 'unabl': 1422, 'hilari': 1423, 'center': 1424, 'backend': 1425, 'origin': 1426, 'specifi': 1427, 'recip': 1428, 'undergradu': 1429, 'take-hom': 1430, 'thoma': 1431, 'medium': 1432, 'across': 1433, '💯': 1434, 'paint': 1435, 'stackoverflow': 1436, 'exam': 1437, 'color': 1438, 'roughli': 1439, '50': 1440, 'naturallanguageprocess': 1441, 'sever': 1442, 'unexpect': 1443, 'psycholog': 1444, 'chunk': 1445, '\\\\nit': 1446, '16': 1447, 'random': 1448, '/': 1449, 'mit': 1450, 'review': 1451, 'technew': 1452, 'went': 1453, 'wrapper': 1454, 'ahead': 1455, 'ui': 1456, 'certain': 1457, 'join': 1458, 'match': 1459, 'intuit': 1460, 'score': 1461, 'confid': 1462, 'event': 1463, 'min': 1464, 'knock': 1465, 'dog': 1466, 'gun': 1467, 'face': 1468, 'solv': 1469, 'artifici': 1470, 'creation': 1471, 'later': 1472, 'latex': 1473, 'return': 1474, 'default': 1475, 'chain': 1476, 'prais': 1477, 'dramat': 1478, 'haiku': 1479, 'swap': 1480, 'pattern': 1481, 'crap': 1482, 'goe': 1483, 'noth': 1484, 'cut': 1485, 'tomorrow': 1486, 'half': 1487, 'wednesday': 1488, '»': 1489, 'regardless': 1490, 'hors': 1491, 'tutor': 1492, 'enthusiast': 1493, 'clearli': 1494, 'specif': 1495, 'sensit': 1496, 'unbias': 1497, '\\\\nwith': 1498, 'fr': 1499, 'convo': 1500, 'excus': 1501, 'strategi': 1502, 'procrastin': 1503, 'track': 1504, 'instanc': 1505, 'multilingu': 1506, '\\\\n\\\\nfor': 1507, 'caus': 1508, 'michael': 1509, 'revers': 1510, 'r': 1511, 'id': 1512, 'assembl': 1513, 'fairli': 1514, '\\\\n\\\\nread': 1515, 'gain': 1516, 'state': 1517, 'nlproc': 1518, 'cheer': 1519, '🙂': 1520, 'enabl': 1521, 'elimin': 1522, 'assign': 1523, 'smartphon': 1524, 'obvious': 1525, 'failur': 1526, 'entertain': 1527, 'forgot': 1528, 'pain': 1529, 'rubi': 1530, 'pt': 1531, 'span': 1532, 'heart': 1533, 'sinc': 1534, 'worldwid': 1535, 'ventur': 1536, 'cybersecur': 1537, 'infosec': 1538, 'b': 1539, 'remov': 1540, 'competitor': 1541, 'ever': 1542, 'seriou': 1543, 'login': 1544, 'vote': 1545, 'argu': 1546, '90': 1547, 'descript': 1548, 'hype': 1549, 'concis': 1550, 'increasingli': 1551, 'flood': 1552, 'breakthrough': 1553, 'rise': 1554, '🧐': 1555, 'mention': 1556, 'overal': 1557, 'frustrat': 1558, 'chatgpt\\\\n\\\\nhttp': 1559, 'analyz': 1560, 'prime': 1561, 'shame': 1562, 'publicli': 1563, 'woman': 1564, 'letter': 1565, 'retweet': 1566, 'ruin': 1567, 'indian': 1568, 'economi': 1569, 'spin': 1570, 'scarili': 1571, 'monkey': 1572, 'autom': 1573, '🙄': 1574, 'elect': 1575, 'billionair': 1576, 'moder': 1577, 'summari': 1578, 'blue': 1579, 'introduct': 1580, 'cnn': 1581, 'layer': 1582, 'morn': 1583, 'pm': 1584, 'aliv': 1585, 'artist': 1586, 'sold': 1587, 'lyric': 1588, 'hindi': 1589, 'synthesi': 1590, 'bs': 1591, 'retir': 1592, 'coder': 1593, '\\\\n\\\\ndo': 1594, 'cooler': 1595, 'acceler': 1596, 'fast': 1597, 'terrifi': 1598, 'slightli': 1599, 'democrat': 1600, 'war': 1601, 'cyber': 1602, 'head': 1603, 'wrap': 1604, '20': 1605, 'contradict': 1606, 'rel': 1607, 'logic': 1608, 'kudo': 1609, 'opportun': 1610, 'fundament': 1611, 'tune': 1612, '\\\\n\\\\nmi': 1613, 'guess': 1614, 'fine': 1615, 'sun': 1616, 'bigger': 1617, 'light': 1618, 'clariti': 1619, 'awe': 1620, 'yr': 1621, 'threw': 1622, 'leap': 1623, 'resist': 1624, 'relationship': 1625, 'cyberpunk': 1626, '12': 1627, 'overlord': 1628, 'chatgpt\\\\n\\\\ni': 1629, 'prevent': 1630, 'privaci': 1631, 'post': 1632, 'pace': 1633, '\\\\n\\\\nhave': 1634, 'overwhelm': 1635, 'led': 1636, 'wit': 1637, 'pull': 1638, 'rt': 1639, 'agil': 1640, 'expert': 1641, 'mechan': 1642, 'true': 1643, 'witti': 1644, 'hous': 1645, 'offer': 1646, 'ideal': 1647, 'save': 1648, 'edit': 1649, 'gen': 1650, 'techniqu': 1651, 'centuri': 1652, 'homework': 1653, 'robert': 1654, 'sequenc': 1655, 'verifi': 1656, 'pair': 1657, 'prototyp': 1658, 'mindblown': 1659, 'iter': 1660, 'refactor': 1661, 'schedul': 1662, 'unreal': 1663, 'peac': 1664, 'middl': 1665, 'reinvent': 1666, 'catch': 1667, 'consciou': 1668, 'measur': 1669, 'widespread': 1670, 'adopt': 1671, 'cc': 1672, 'clinic': 1673, 'friendli': 1674, 'buddi': 1675, 'dead': 1676, 'debat': 1677, 'davinci': 1678, 'place': 1679, 'rap': 1680, 'stick': 1681, 'prove': 1682, 'easiest': 1683, 'hand': 1684, 'interpret': 1685, 'visual': 1686, 'blow': 1687, 'steroid': 1688, 'alongsid': 1689, 'earlier': 1690, 'aw': 1691, 'polici': 1692, 'tricki': 1693, 'vector': 1694, 'varieti': 1695, 'dig': 1696, 'pure': 1697, 'planet': 1698, 'eye': 1699, 'metal': 1700, 'lone': 1701, 'advent': 1702, 'cent': 1703, 'solut': 1704, 'valid': 1705, 'vulner': 1706, 'oper': 1707, 'meta': 1708, 'compani': 1709, '2.0': 1710, 'licens': 1711, 'due': 1712, 'maxim': 1713, 'school': 1714, 'tax': 1715, 'disrupt': 1716, 'integr': 1717, 'benefit': 1718, '🤯\\\\n\\\\n': 1719, 'sh': 1720, 'broad': 1721, 'oop': 1722, 'workflow': 1723, 'singular': 1724, 'legal': 1725, 'draft': 1726, 'monet': 1727, 'dataset': 1728, 'student': 1729, 'junior': 1730, 'handi': 1731, '{': 1732, '}': 1733, 'signal': 1734, 'therapist': 1735, '\\\\n\\\\nyou': 1736, 'nich': 1737, 'contrast': 1738, 'sustain': 1739, 'troubl': 1740, 'attack': 1741, 'plu': 1742, 'san': 1743, 'proper': 1744, 'blog': 1745, 'extra': 1746, 'propos': 1747, 'investor': 1748, 'dirti': 1749, 'fri': 1750, 'sbf': 1751, 'pirat': 1752, 'georg': 1753, 'washington': 1754, 'address': 1755, 'toxic': 1756, 'deeplearn': 1757, 'surreal': 1758, '\\\\n\\\\nnot': 1759, 'android': 1760, 'subject': 1761, 'chatgpt.\\\\n\\\\n': 1762, 'exagger': 1763, 'graphic': 1764, 'svg': 1765, 'decad': 1766, 'respect': 1767, 'corner': 1768, 'liter': 1769, 'banger': 1770, 'convent': 1771, '100x': 1772, '😂😂': 1773, 'bonker': 1774, 'averag': 1775, 'lucki': 1776, 'appropri': 1777, 'expos': 1778, 'domain': 1779, 'typescript': 1780, 'class': 1781, 'repres': 1782, 'consol': 1783, 'combin': 1784, 'log': 1785, 'mine': 1786, 'binari': 1787, 'pro': 1788, 'particular': 1789, 'requir': 1790, 'liquid': 1791, 'invest': 1792, 'drama': 1793, 'david': 1794, 'formula': 1795, 'analysi': 1796, '\\\\n\\\\nthi': 1797, 'crash': 1798, 'analyst': 1799, 'leverag': 1800, 'wordpress': 1801, 'viral': 1802, 'rhyme': 1803, 'effect': 1804, 'equal': 1805, 'eth': 1806, 'btc': 1807, 'earth': 1808, 'voic': 1809, 'ball': 1810, 'doesnt': 1811, 'sonnet': 1812, 'winter': 1813, 'becam': 1814, 'shakespearean': 1815, 'wast': 1816, 'download': 1817, 'african': 1818, 'gm': 1819, 'addict': 1820, 'gender': 1821, 'understood': 1822, 'lay': 1823, 'alert': 1824, 'obscur': 1825, 'omg': 1826, 'bullshit': 1827, 'journal': 1828, 'titl': 1829, 'none': 1830, 'plausibl': 1831, 'sale': 1832, 'weight': 1833, 'rail': 1834, 'difficult': 1835, 'unless': 1836, 'confer': 1837, 'genuin': 1838, 'servic': 1839, 'markdown': 1840, 'taught': 1841, 'cook': 1842, 'stun': 1843, 'old': 1844, 'empti': 1845, 'third': 1846, 'api': 1847, 'serv': 1848, 'illeg': 1849, 'happili': 1850, 'produc': 1851, 'adventofcod': 1852, 'note': 1853, 'harder': 1854, 'enhanc': 1855, 'softwaredevelop': 1856, 'unit': 1857, 'verif': 1858, 'typic': 1859, 'colleg': 1860, 'variou': 1861, 'met': 1862, 'row': 1863, 'joy': 1864, '\\\\n\\\\nwith': 1865, 'receiv': 1866, 'clean': 1867, 'writer': 1868, 'dall': 1869, 'ai-gener': 1870, 'tsla': 1871, 'infinit': 1872, 'circl': 1873, 'jesu': 1874, 'christ': 1875, 'exercis': 1876, 'precis': 1877, 'clippi': 1878, 'c': 1879, 'bar': 1880, 'speed': 1881, 'gaslight': 1882, 'copyright': 1883, 'wtf': 1884, 'codex': 1885, 'daili': 1886, '\\U0001fae1': 1887, '10x': 1888, 'order': 1889, 'e.g': 1890, 'primari': 1891, 'pay': 1892, 'broken': 1893, '\\\\n\\\\n2': 1894, 'outlin': 1895, 'offic': 1896, 'highlight': 1897, 'calcul': 1898, 'compos': 1899, 'absurd': 1900, 'gotten': 1901, 'puzzl': 1902, 'earn': 1903, 'automat': 1904, 'creator': 1905, 'tip': 1906, '\\\\n\\\\nno': 1907, 'paramet': 1908, 'doom': 1909, 'regress': 1910, 'cv': 1911, '🤯🤯🤯': 1912, '80': 1913, 'prepar': 1914, 'shine': 1915, '2021': 1916, 'weather': 1917, 'os': 1918, 'util': 1919, 'execut': 1920, 'attent': 1921, 'attract': 1922, 'charg': 1923, 'cell': 1924, 'rocket': 1925, 'meme': 1926, 'linux': 1927, 'rang': 1928, '💥': 1929, 'fuck': 1930, 'carri': 1931, 'self-awar': 1932, 'depth': 1933, 'remain': 1934, 'weak': 1935, 'mess': 1936, 'lawyer': 1937, 'i.e': 1938, 'farm': 1939, '😬': 1940, 'menu': 1941, 'mac': 1942, 'stack': 1943, 'kill': 1944, 'slide': 1945, '\\U0001fae0': 1946, 'charm': 1947, 'wall': 1948, 'irl': 1949, 'solid': 1950, 'statist': 1951, 'tabl': 1952, 'mindblow': 1953, 'welcom': 1954, 'exclus': 1955, 'luck': 1956, 'smoke': 1957, 'sent': 1958, 'laptop': 1959, 'info': 1960, 'en': 1961, 'displac': 1962, 'nonsens': 1963, 'session': 1964, 'effort': 1965, 'beta': 1966, 'conspiraci': 1967, 'suddenli': 1968, 'founder': 1969, 'trip': 1970, 'significantli': 1971, 'less': 1972, 'coin': 1973, 'portrait': 1974, 'bill': 1975, 'gate': 1976, 'deni': 1977, 'longer': 1978, 'adjust': 1979, 'altern': 1980, 'along': 1981, 'v': 1982, 'giant': 1983, 'detect': 1984, 'cheat': 1985, 'literatur': 1986, 'popular': 1987, 'tab': 1988, 'regist': 1989, 'tast': 1990, 'paradox': 1991, 'bypass': 1992, 'bag': 1993, 'altman': 1994, 'white': 1995, 'girlfriend': 1996, 'commit': 1997, '\\\\n\\\\nbecaus': 1998, 'regular': 1999, 'basi': 2000, 'financ': 2001, 'stump': 2002, 'ive': 2003, 'intern': 2004, 'shock': 2005, 'settl': 2006, 'offici': 2007, 'recognit': 2008, 'strateg': 2009, 'la': 2010, 'speech': 2011, 'rip': 2012, 'u': 2013, 'industri': 2014, 'hardwar': 2015, 'metavers': 2016, 'devic': 2017, 'nativ': 2018, 'platform': 2019, 'cheaper': 2020, 'revenu': 2021, 'whisper': 2022, 'realis': 2023, 'grammar': 2024, '1/5': 2025, 'blind': 2026, 'swift': 2027, '//t.co/ylgeclwjo5': 2028, 'whatsapp': 2029, 'humbl': 2030, 'lead': 2031, 'leg': 2032, 'hacker': 2033, 'constraint': 2034, 'incorpor': 2035, 'static': 2036, 'rstat': 2037, 'plug': 2038, 'analys': 2039, 'bulli': 2040, 'independ': 2041, '7': 2042, 'ultim': 2043, 'tradit': 2044, 'religi': 2045, 'termin': 2046, 'craziest': 2047, '\\\\nhow': 2048, 'anim': 2049, 'season': 2050, 'journey': 2051, 'consider': 2052, 'wors': 2053, 'deal': 2054, '\\\\n-': 2055, 'warn': 2056, 'budget': 2057, 'grade': 2058, 'assum': 2059, 'abstract': 2060, 'syntax': 2061, 'boilerpl': 2062, 'club': 2063, 'da': 2064, 'present': 2065, 'raw': 2066, 'unlock': 2067, 'excel': 2068, 'journalist': 2069, 'stress': 2070, 'dynam': 2071, 'consist': 2072, 'aspect': 2073, 'persona': 2074, 'virtual': 2075, 'overr': 2076, 'lord': 2077, 'leak': 2078, 'ring': 2079, 'implement': 2080, 'instal': 2081, 'affect': 2082, 'hidden': 2083, 'summer': 2084, 'sweet': 2085, 'alexa': 2086, 'heard': 2087, 'otherwis': 2088, 'idk': 2089, 'map': 2090, '100dev': 2091, 'strike': 2092, 'regret': 2093, 'wind': 2094, 'explod': 2095, 'involv': 2096, 'alleg': 2097, 'hero': 2098, 'medic': 2099, 'statu': 2100, 'impact': 2101, 'iphon': 2102, 'liber': 2103, 'con': 2104, 'cryptocurr': 2105, 'overhyp': 2106, 'ration': 2107, 'inde': 2108, 'profess': 2109, 'bro': 2110, 'coher': 2111, 'reader': 2112, 'scroll': 2113, 'chatgpt-gener': 2114, 'thousand': 2115, '😂😂😂': 2116, 'exponenti': 2117, 'rapid': 2118, 'architect': 2119, 'checkout': 2120, 'video': 2121, 'rough': 2122, 'desktop': 2123, 'mansplain': 2124, 'surviv': 2125, 'sleep': 2126, 'smash': 2127, 'print': 2128, 'regard': 2129, 'footbal': 2130, 'thursday': 2131, 'plugin': 2132, '🤷\\u200d♂️': 2133, 'ppl': 2134, 'minor': 2135, 'convinc': 2136, 'sadli': 2137, 'previous': 2138, 'faith': 2139, 'formul': 2140, 'lm': 2141, 'spirit': 2142, 'steal': 2143, 'huh': 2144, 'afraid': 2145, 'stupid': 2146, 'option': 2147, 'whoever': 2148, 'synthet': 2149, 'premium': 2150, 'somehow': 2151, 'swear': 2152, 'situat': 2153, '\\\\n\\\\nhow': 2154, 'net': 2155, 'consensu': 2156, 'scientif': 2157, 'novelist': 2158, 'anticip': 2159, 'poke': 2160, 'unfortun': 2161, 'defin': 2162, 'shot': 2163, 'trade': 2164, 'rephras': 2165, 'professor': 2166, '2020': 2167, 'page': 2168, 'transit': 2169, 'pack': 2170, 'secret': 2171, 'ecosystem': 2172, \"'chatgpt\": 2173, 'highli': 2174, 'inquiri': 2175, 'acknowledg': 2176, 'obviou': 2177, 'extent': 2178, 'conclus': 2179, 'censor': 2180, 'chip': 2181, '🤖': 2182, 'clip': 2183, 'ban': 2184, '\\\\n\\\\nai': 2185, 'lunch': 2186, 'recommend': 2187, 'roadmap': 2188, 'bugbounti': 2189, '\\\\nwe': 2190, 'partial': 2191, 'establish': 2192, 'index': 2193, 'capit': 2194, 'ill': 2195, 'condit': 2196, 'tho': 2197, 'mini': 2198, 'cycl': 2199, 'newslett': 2200, 'bite': 2201, 'sport': 2202, 'healthi': 2203, 'usa': 2204, 'freedom': 2205, 'wing': 2206, 'concern': 2207, 'vision': 2208, 'accuraci': 2209, 'alzheim': 2210, 'drug': 2211, 'ai-pow': 2212, 'coolest': 2213, 'podcast': 2214, 'decemb': 2215, 'truth': 2216, 'dogecoin': 2217, 'doge': 2218, 'born': 2219, 'differenti': 2220, 'famou': 2221, '🧵👇': 2222, 'cross': 2223, 'histor': 2224, 'road': 2225, '\\\\n\\\\nthey': 2226, 'templat': 2227, 'broke': 2228, 'arriv': 2229, '\\\\n\\\\nopenai': 2230, 'in-depth': 2231, 'insid': 2232, 'emoji': 2233, 'goal': 2234, 'focu': 2235, 'travel': 2236, 'reli': 2237, 'uk': 2238, 'wan': 2239, 'anybodi': 2240, 'german': 2241, 'celebr': 2242, '🤯🤯': 2243, 'conflict': 2244, 'coffe': 2245, 'cup': 2246, 'comedian': 2247, 'hunt': 2248, 'comedi': 2249, 'harm': 2250, 'artificial_intellig': 2251, 'leftist': 2252, 'hell': 2253, 'bruh': 2254, 'empow': 2255, 'record': 2256, 'within': 2257, 'express': 2258, 'captur': 2259, 'reset': 2260, 'constantli': 2261, 'india': 2262, 'poor': 2263, 'temporarili': 2264, 'restrict': 2265, 'shut': 2266, '1/6': 2267, 'n': 2268, 'fantasi': 2269, 'scare': 2270, 'exchang': 2271, 'murder': 2272, 'sec': 2273, 'hn': 2274, 'simultan': 2275, 'front': 2276, 'infer': 2277, 'mathemat': 2278, 'stay': 2279, 'viabl': 2280, 'winner': 2281, 'tesla': 2282, 'treat': 2283, 'ya': 2284, 'master': 2285, 'ship': 2286, 'incom': 2287, 'heck': 2288, 'tl': 2289, 'bed': 2290, 'comprehens': 2291, 'graph': 2292, 'angl': 2293, '\\\\nbut': 2294, 'lt': 2295, 'variabl': 2296, 'forget': 2297, 'young': 2298, 'evolut': 2299, 'spotifi': 2300, 'rival': 2301, 'amount': 2302, 'musician': 2303, 'william': 2304, '🤪': 2305, 'shakespear': 2306, 'special': 2307, 'dec': 2308, '\\\\n\\\\njoin': 2309, 'reward': 2310, 'curios': 2311, 'older': 2312, 'opposit': 2313, 'packag': 2314, 'doc': 2315, 'photographi': 2316, 'photo': 2317, 'author': 2318, 'garbag': 2319, 'prioriti': 2320, 'weigh': 2321, 'nut': 2322, 'narrat': 2323, 'block': 2324, 'browser': 2325, 'edg': 2326, 'sitcom': 2327, 'channel': 2328, 'properli': 2329, 'hundr': 2330, 'upload': 2331, 'annoy': 2332, 'blogger': 2333, 'decod': 2334, '//t.co/jxlhabfdwu': 2335, 'gem': 2336, 'har': 2337, 'matter': 2338, 'github': 2339, 'repo': 2340, 'click': 2341, 'tediou': 2342, 'variat': 2343, 'arithmet': 2344, 'chat-gpt': 2345, 'fit': 2346, 'bread': 2347, 'meal': 2348, '9': 2349, 'shift': 2350, 'glimps': 2351, 'desir': 2352, 'therefor': 2353, '1/2': 2354, 'core': 2355, 'versu': 2356, 'iot': 2357, 'ton': 2358, 'transact': 2359, 'self': 2360, 'z': 2361, 'extens': 2362, 'vscode': 2363, 'hire': 2364, 'classifi': 2365, 'spam': 2366, '\\\\n\\\\nin': 2367, 'declin': 2368, 'crawl': 2369, 'shop': 2370, 'fifa': 2371, 'salesforc': 2372, 'linkedin': 2373, 'pose': 2374, 'promot': 2375, 'render': 2376, 'drastic': 2377, 'compet': 2378, 'cto': 2379, 'php': 2380, 'simplifi': 2381, 'taylor': 2382, 'ghostwrit': 2383, 'gay': 2384, 'heat': 2385, 'rest': 2386, 'cancel': 2387, 'submiss': 2388, 'congratul': 2389, 'apolog': 2390, 'redund': 2391, 'owner': 2392, 'cast': 2393, 'chess': 2394, '1st': 2395, 'doubt': 2396, 'revolutionis': 2397, 'monopoli': 2398, 'bandwagon': 2399, 'jump': 2400, '🔥🔥': 2401, 'america': 2402, 'bomb': 2403, 'violat': 2404, 'justifi': 2405, 'agreement': 2406, 'separ': 2407, 'de': 2408, 'polic': 2409, 'lmfao': 2410, 'constitut': 2411, 'choic': 2412, 'career': 2413, 'welp': 2414, 'roll': 2415, 'amazingli': 2416, 'inevit': 2417, 'john': 2418, 'bottom': 2419, 'activ': 2420, 'disagre': 2421, 'caution': 2422, 'chatgpt.\\\\n\\\\ni': 2423, 'curv': 2424, 'defi': 2425, 'talent': 2426, 'idiot': 2427, 'perceiv': 2428, 'sir': 2429, 'spoken': 2430, 'disabl': 2431, 'judg': 2432, 'bore': 2433, 'vari': 2434, 'degre': 2435, 'transfer': 2436, 'everywher': 2437, 'mundan': 2438, 'restaur': 2439, 'authent': 2440, 'lensa': 2441, 'storm': 2442, 'yep': 2443, 'ngl': 2444, 'pic': 2445, 'sky': 2446, 'ta': 2447, 'humour': 2448, 'valuabl': 2449, '\\\\njust': 2450, 'alphacod': 2451, 'cap': 2452, 'attribut': 2453, 'cost': 2454, 'obsolet': 2455, 'competit': 2456, 'audit': 2457, 'particularli': 2458, 'bizarr': 2459, 'revis': 2460, 'somewher': 2461, 'extern': 2462, '`': 2463, 'unveil': 2464, 'human-lik': 2465, 'wide': 2466, 'essenti': 2467, 'collaps': 2468, 'suffer': 2469, 'uniti': 2470, 'usabl': 2471, 'board': 2472, 'blender': 2473, 'le': 2474, 'upcom': 2475, 'materi': 2476, 'aim': 2477, 'spew': 2478, 'casual': 2479, 'multipl': 2480, 'oral': 2481, 'switch': 2482, 'throughout': 2483, 'mostli': 2484, 'phish': 2485, 'lower': 2486, 'card': 2487, 'king': 2488, 'gift': 2489, '\\\\nso': 2490, 'moat': 2491, 'nation': 2492, 'co': 2493, 'somebodi': 2494, '😲': 2495, 'f': 2496, 'equival': 2497, 'par': 2498, 'polish': 2499, '\\\\nand': 2500, 'usecas': 2501, '1000': 2502, 'decreas': 2503, 'healthcar': 2504, 'administr': 2505, 'satisfi': 2506, 'thesi': 2507, 'resolut': 2508, 'advisor': 2509, 'bother': 2510, 'copilot': 2511, 'nocod': 2512, 'act': 2513, 'emerg': 2514, 'mental': 2515, 'reactj': 2516, 'uncanni': 2517, 'et': 2518, 'al': 2519, 'date': 2520, 'battl': 2521, 'alot': 2522, 'dont': 2523, 'yo': 2524, 'semest': 2525, 'bare': 2526, 'round': 2527, 'extraordinari': 2528, 'advis': 2529, 'articul': 2530, 'modern': 2531, 'beast': 2532, 'outsourc': 2533, 'magazin': 2534, 'zapier': 2535, 'metric': 2536, 'dimens': 2537, 'valley': 2538, 'robust': 2539, 'hal': 2540, 'proven': 2541, 'typo': 2542, 'dump': 2543, 'fan': 2544, 'bias': 2545, 'reproduc': 2546, 'symbol': 2547, 'philosophi': 2548, 'tap': 2549, 'constant': 2550, 'mad': 2551, 'radic': 2552, 'bullshitt': 2553, '🔥🔥🔥': 2554, 'familiar': 2555, 'bedtim': 2556, 'monster': 2557, 'son': 2558, 'resolv': 2559, 'af': 2560, 'econom': 2561, 'balanc': 2562, 'exhibit': 2563, 'ai-bas': 2564, 'grammarli': 2565, 'screw': 2566, 'shall': 2567, '21st': 2568, 'bear': 2569, '3rd': 2570, 'sophist': 2571, 'unemploy': 2572, 'lexfridman': 2573, 'greater': 2574, 'inclus': 2575, 'financi': 2576, 'fintech': 2577, 'revolution': 2578, 'extinct': 2579, 'local': 2580, 'deserv': 2581, 'elev': 2582, 'henc': 2583, 'compass': 2584, 'moral': 2585, 'asimov': 2586, 'pakistan': 2587, 'writingcommun': 2588, 'regurgit': 2589, 'mountain': 2590, 'intro': 2591, '•': 2592, 'sensibl': 2593, 'xd': 2594, '8': 2595, 'associ': 2596, 'calm': 2597, 'tend': 2598, 'defens': 2599, 'assess': 2600, 'apart': 2601, 'pictur': 2602, 'transport': 2603, 'aiartcommun': 2604, 'martin': 2605, 'mr': 2606, '\\\\n\\\\nlet': 2607, 'jailbreak': 2608, 'signific': 2609, 'kubernet': 2610, 'beat': 2611, 'superior': 2612, 'insert': 2613, 'microsoft': 2614, 'telegram': 2615, 'agenda': 2616, 'oppos': 2617, 'odd': 2618, 'nowher': 2619, 'award': 2620, 'bob': 2621, '…': 2622, 'ip': 2623, 'holiday': 2624, 'iranian': 2625, 'aiartwork': 2626, 'digitalart': 2627, '\\\\n\\\\nthen': 2628, 'invit': 2629, '👇\\\\n\\\\nhttp': 2630, '\\\\n\\\\nbi': 2631, 'depress': 2632, 'plain': 2633, 'intrigu': 2634, 'gather': 2635, 'credit': 2636, 'meanwhil': 2637, '😂\\\\n': 2638, 'hope': 2639, 'brand': 2640, 'eminem': 2641, 'nearli': 2642, 'gone': 2643, 'monthli': 2644, 'hole': 2645, 'funniest': 2646, 'dedic': 2647, 'quiz': 2648, '😅\\\\n\\\\n': 2649, 'flaw': 2650, 'tame': 2651, 'fourth': 2652, 'malwar': 2653, 'readabl': 2654, 'site': 2655, 'tailor': 2656, 'bash': 2657, 'suck': 2658, 'solo': 2659, 'entiti': 2660, 'repeatedli': 2661, 'sick': 2662, 'categori': 2663, 'einstein': 2664, 'januari': 2665, 'poll': 2666, 'humor': 2667, 'maintain': 2668, 'suit': 2669, '\\\\n\\\\n-': 2670, 'scope': 2671, 'numer': 2672, 'squar': 2673, 'useless': 2674, 'unlimit': 2675, 'hat': 2676, 'iron': 2677, 'storag': 2678, 'conveni': 2679, 'appeal': 2680, 'abus': 2681, 'crimin': 2682, 'rescu': 2683, 'hurt': 2684, 'sketch': 2685, 'algo': 2686, 'hello': 2687, '🤝': 2688, 'generativeart': 2689, 'loos': 2690, 'sci-fi': 2691, 'sing': 2692, 'meaning': 2693, 'overview': 2694, 'tough': 2695, 'boggl': 2696, '😂\\\\n\\\\n': 2697, 'sincer': 2698, 'dear': 2699, 'consequ': 2700, 'cautiou': 2701, 'boost': 2702, 'sooo': 2703, '💀': 2704, 'principl': 2705, 'paul': 2706, 'string': 2707, 'count': 2708, 'foreign': 2709, 'silent': 2710, 'aid': 2711, 'nerd': 2712, 'tiktok': 2713, 'seemingli': 2714, 'weekli': 2715, 'chatgpt\\\\n\\\\n': 2716, 'franc': 2717, 'electr': 2718, 'no-cod': 2719, 'argentina': 2720, 'ftx': 2721, 'pop': 2722, 'former': 2723, 'bank': 2724, 'rank': 2725, 'wisdom': 2726, 'medtwitt': 2727, '\\\\nhere': 2728, 'church': 2729, 'diet': 2730, '✅': 2731, '\\\\n\\\\nnow': 2732, 'low': 2733, 'adventur': 2734, 'flutter': 2735, 'spawn': 2736, 'openaichat': 2737, 'profil': 2738, 'examin': 2739, 'patient': 2740, 'mock': 2741, 'matur': 2742, 'zone': 2743, '🧠': 2744, '~': 2745, 'dao': 2746, 'chatgpt.\\\\n': 2747, 'collar': 2748, 'brought': 2749, 'car': 2750, 'wire': 2751, 'pet': 2752, 'graduat': 2753, 'approach': 2754, 'profound': 2755, 'prior': 2756, 'santa': 2757, 'rave': 2758, 'monday': 2759, 'load': 2760, 'kept': 2761, 'capac': 2762, 'ecommerc': 2763, 'everybodi': 2764, 'spoke': 2765, 'gptchat': 2766, 'docker': 2767, 'marvel': 2768, 'traffic': 2769, 'limitless': 2770, '.\\\\n\\\\n': 2771, '\\\\n\\\\nthank': 2772, 'tactic': 2773, 'saa': 2774, 'hitler': 2775, 'duck': 2776, 'donald': 2777, '\\\\nmi': 2778, 'skynet': 2779, '\\\\n\\\\nso': 2780, 'horror': 2781, 'encount': 2782, '24': 2783, 'forth': 2784, 'endless': 2785, 'deck': 2786, 'nobodi': 2787, 'birth': 2788, 'till': 2789, 'mask': 2790, '\\\\nme': 2791, 'inner': 2792, 'govern': 2793, 'fool': 2794, 'explicitli': 2795, '\\\\nthat': 2796, 'entrepreneur': 2797, 'comic': 2798, 'girl': 2799, 'golden': 2800, 'twice': 2801, 'curat': 2802, 'rl': 2803, 'urg': 2804, 'macro': 2805, 'japan': 2806, 'w/': 2807, 'intens': 2808, 'frighten': 2809, 'dust': 2810, 'arsen': 2811, 'chapter': 2812, 'uni': 2813, 'aggress': 2814, 'w': 2815, 'jeev': 2816, 'approxim': 2817, 'censorship': 2818, '\\\\nwhat': 2819, 'ds': 2820, 'viru': 2821, 'demand': 2822, '\\\\n\\\\njust': 2823, 'perman': 2824, 'billion': 2825, 'pl': 2826, '\\\\n\\\\nalso': 2827, 'hide': 2828, 'distract': 2829, 'diseas': 2830, 'forum': 2831, 'mimic': 2832, 'distinguish': 2833, 'intellectu': 2834, 'adversari': 2835, 'fusion': 2836, 'chatgpt3': 2837, '😄': 2838, 'breath': 2839, '→': 2840, 'tv': 2841, 'groundbreak': 2842, '30': 2843, 'subscript': 2844, 'embarrass': 2845, '//t.co/ynofvdx5dp': 2846, 'spanish': 2847, 'split': 2848, 'linguist': 2849, 'distinct': 2850, 'thoroughli': 2851, 'pre-train': 2852, 'manufactur': 2853, 'consent': 2854, 'higher': 2855, 'eg': 2856, 'fanci': 2857, 'seek': 2858, 'analog': 2859, 'mislead': 2860, 'civil': 2861, 'amazon': 2862, 'indic': 2863, 'divers': 2864, '🤔\\\\n\\\\n': 2865, 'green': 2866, 'avatar': 2867, 'co-found': 2868, 'fire': 2869, 'element': 2870, 'bull': 2871, 'tire': 2872, 'certainli': 2873, 'tbh': 2874, 'autonom': 2875, 'spooki': 2876, 'shape': 2877, 'discord': 2878, 'copywrit': 2879, 'editor': 2880, 'experiment': 2881, '✨': 2882, 'synthes': 2883, 'azur': 2884, 'infrastructur': 2885, 'appli': 2886, 'labor': 2887, 'tag': 2888, 'grasp': 2889, 'impli': 2890, 'environ': 2891, 'pentest': 2892, 'host': 2893, 'chatter': 2894, 'jame': 2895, 'buzz': 2896, '🥰': 2897, 'mainli': 2898, 'academ': 2899, 'linear': 2900, 'kany': 2901, '😊': 2902, 'relax': 2903, 'op': 2904, 'overload': 2905, 'incomplet': 2906, 'guardrail': 2907, '\\\\n\\\\nwho': 2908, 'alan': 2909, 'select': 2910, 'weapon': 2911, 'destruct': 2912, 'regul': 2913, 'bc': 2914, 'onto': 2915, 'variant': 2916, 'legend': 2917, 'near': 2918, 'hood': 2919, 'java': 2920, 'superfici': 2921, 'fastest': 2922, 'password': 2923, '🥳': 2924, 'ai\\\\nhttp': 2925, 'entri': 2926, 'display': 2927, 'player': 2928, 'setup': 2929, 'worker': 2930, 'honor': 2931, 'cure': 2932, 'shoot': 2933, 'protect': 2934, 'ourselv': 2935, 'remot': 2936, 'forev': 2937, 'particip': 2938, 'politician': 2939, 'panel': 2940, 'attend': 2941, 'central': 2942, 'stumbl': 2943, 'modifi': 2944, 'survey': 2945, 'conduct': 2946, 'pi': 2947, 'pump': 2948, 'legit': 2949, 'garymarcu': 2950, 'sight': 2951, '1/4': 2952, 'poet': 2953, 'bullet': 2954, 'instagram': 2955, 'childhood': 2956, 'surveil': 2957, 'per': 2958, 'cult': 2959, 'pin': 2960, 'speaker': 2961, 'soft': 2962, 'copy-past': 2963, 'brother': 2964, 'obsess': 2965, 'rare': 2966, 'deepmind': 2967, 'frontend': 2968, 'horribl': 2969, 'price': 2970, 'shopifi': 2971, 'fanfic': 2972, 'forc': 2973, 'gap': 2974, 'terribl': 2975, '//t.co/bdtgbuiwtg': 2976, 'sit': 2977, 'complain': 2978, 'pal': 2979, 'geniu': 2980, 'studio': 2981, 'canva': 2982, 'button': 2983, 'churn': 2984, 'gold': 2985, 'ur': 2986, 'shini': 2987, '\\\\n\\\\npleas': 2988, 'theoret': 2989, 'speechless': 2990, 'sam': 2991, 'reflect': 2992, 'legaci': 2993, 'ap': 2994, 'mastodon': 2995, 'investig': 2996, 'hustl': 2997, 'radio': 2998, 'grate': 2999, 'whenev': 3000, 'acquir': 3001, 'paradigm': 3002, 'fiverr': 3003, 'resum': 3004, 'portfolio': 3005, 'air': 3006, 'notif': 3007, 'enorm': 3008, 'replic': 3009, 'pilot': 3010, '95': 3011, 'soul': 3012, 'co-pilot': 3013, 'badli': 3014, 'suffici': 3015, '\\\\n\\\\nor': 3016, 'margin': 3017, '\\\\n\\\\nwill': 3018, 'fetch': 3019, 'refresh': 3020, 'main': 3021, 'scheme': 3022, 'sermon': 3023, 'bibl': 3024, 'outperform': 3025, 'shortcut': 3026, 'ethereum': 3027, 'ev': 3028, 'takeaway': 3029, '2030': 3030, 'russian': 3031, 'men': 3032, 'hesit': 3033, 'staff': 3034, 'builder': 3035, 'sandwich': 3036, 'saturday': 3037, 'europ': 3038, 'alarm': 3039, 'joe': 3040, 'elit': 3041, 'desper': 3042, 'pleasur': 3043, 'rage': 3044, 'substack': 3045, 'spec': 3046, 'transcript': 3047, '.\\\\n': 3048, 'five': 3049, 'straightforward': 3050, 'ga': 3051, 'advertis': 3052, 'procedur': 3053, 'afternoon': 3054, 'neither': 3055, '75': 3056, 'touch': 3057, 'lamda': 3058, 'courtesi': 3059, '13': 3060, 'miller': 3061, 'dc': 3062, 'gang': 3063, '17': 3064, 'flash': 3065, 'satir': 3066, 'tear': 3067, 'wood': 3068, 'tree': 3069, 'chrome': 3070, 'rock': 3071, 'recruit': 3072, 'conversationalai': 3073, 'dad': 3074, 'rotat': 3075, 'blew': 3076, 'bought': 3077, 'fellow': 3078, 'dawn': 3079, 'flight': 3080, 'superpow': 3081, 'peak': 3082, 'norm': 3083, 'kick': 3084, 'misus': 3085, 'it…': 3086, 'admin': 3087, 'husband': 3088, 'tremend': 3089, 'tom': 3090, 'album': 3091, 'crime': 3092, 'ode': 3093, 'facebook': 3094, 'midjourneyai': 3095, 'guru': 3096, 'step-by-step': 3097, 'fraud': 3098, 'comm': 3099, 'real-tim': 3100, 'comparison': 3101, 'cover': 3102, 'yall': 3103, 'declar': 3104, 'seuss': 3105, 'dr.': 3106, 'hop': 3107, 'wealth': 3108, 'fund': 3109, 'scratch': 3110, 'hr': 3111, 'sooner': 3112, 'cryptonew': 3113, '😔': 3114, 'unknown': 3115, 'frankli': 3116, 'counter': 3117, 'tinker': 3118, 'accident': 3119, 'shadow': 3120, 'rout': 3121, 'dl': 3122, 'msft': 3123, 'insist': 3124, 'nazi': 3125, '\\\\nthi': 3126, 'themselv': 3127, 'bound': 3128, 'nah': 3129, 'underestim': 3130, 'length': 3131, '18': 3132, 'phenomen': 3133, 'chief': 3134, '🙃': 3135, 'ladi': 3136, 'solana': 3137, '100daysofcod': 3138, 'indistinguish': 3139, 'messi': 3140, 'dungeon': 3141, 'discoveri': 3142, 'recess': 3143, 'layoff': 3144, '\\\\n\\\\ncontinu': 3145, '\\\\nthere': 3146, 'unpopular': 3147, 'hail': 3148, 'column': 3149, '😜': 3150, 'patent': 3151, 'properti': 3152, 'electron': 3153, 'fee': 3154, 'til': 3155, 'audienc': 3156, 'socialmedia': 3157, 'literari': 3158, '🚨': 3159, 'zero': 3160, 'lab': 3161, 'dr': 3162, 'pivot': 3163, 'cultur': 3164, 'biolog': 3165, 'verg': 3166, 'curs': 3167, 'south': 3168, 'six': 3169, 'spacex': 3170, 'leader': 3171, 'stephen': 3172, 'disast': 3173, 'substanc': 3174, 'armi': 3175, 'slack': 3176, 'inflect': 3177, 'label': 3178, '🎉': 3179, '11': 3180, 'latter': 3181, 'sensat': 3182, \"'the\": 3183, 'trustworthi': 3184, 'edtech': 3185, 'enemi': 3186, 'neutral': 3187, 'destroy': 3188, '300': 3189, '500': 3190, 'snow': 3191, 'fork': 3192, 'behaviour': 3193, '//t.co/cbj7yrwrst': 3194, 'determin': 3195, 'spread': 3196, 'supervis': 3197, 'worst': 3198, 'googlenew': 3199, 'ironi': 3200, 'underr': 3201, 'shake': 3202, 'locat': 3203, 'period': 3204, 'e': 3205, 'mileston': 3206, 'plagiar': 3207, 'checker': 3208, '\\\\n\\\\nwrite': 3209, 'teknocks\\\\nvia': 3210, '/r/technolog': 3211, 'workout': 3212, 'male': 3213, 'routin': 3214, 'wave': 3215, 'hunter': 3216, 'reput': 3217, 'depart': 3218, 'gamedev': 3219, 'indiedev': 3220, 'hashtag': 3221, 'mainstream': 3222, 'blast': 3223, 'italian': 3224, 'pun': 3225, 'breakdown': 3226, 'proud': 3227, 'cli': 3228, 'outdat': 3229, 'faculti': 3230, 'use-cas': 3231, 'io': 3232, 'keyboard': 3233, '😱': 3234, 'est': 3235, 'fluent': 3236, 'cooki': 3237, 'max': 3238, 'paus': 3239, 'mod': 3240, 'rubber': 3241, 'eloqu': 3242, 'birthday': 3243, 'blame': 3244, '\\\\n\\\\nprompt': 3245, 'represent': 3246, 'phase': 3247, 'editori': 3248, '\\\\n\\\\nall': 3249, 'jack': 3250, 'smh': 3251, 'jordanbpeterson': 3252, '\\\\n\\\\none': 3253, 'profici': 3254, 'democraci': 3255, 'passion': 3256, 'quicker': 3257, 'mom': 3258, 'disclaim': 3259, 'sunday': 3260, 'ensur': 3261, 'flag': 3262, 'diagram': 3263, 'focus': 3264, 'openai\\\\n': 3265, 'rabbit': 3266, 'fell': 3267, 'ugli': 3268, 'aiartgener': 3269, 'algorithm\\\\n': 3270, 'mlsogood': 3271, 'datascientist': 3272, 'vr': 3273, 'mlart': 3274, 'grab': 3275, 'rapidli': 3276, 'dinner': 3277, 'began': 3278, '\\\\n\\\\nadd': 3279, 'vice': 3280, 'danc': 3281, 'quora': 3282, 'jason': 3283, 'whose': 3284, 'creatur': 3285, 'rid': 3286, 'guidelin': 3287, 'spoiler': 3288, 'oracl': 3289, 'sea': 3290, 'atom': 3291, 'canada': 3292, 'necessari': 3293, 'reaction': 3294, 'grammat': 3295, 'artwork': 3296, 'tackl': 3297, 'gpt3chat': 3298, 'screen': 3299, 'perspect': 3300, 'crush': 3301, 'pars': 3302, 'bid': 3303, 'iq': 3304, 'dnd': 3305, 'nonexist': 3306, 'nyt': 3307, 'difficulti': 3308, 'negoti': 3309, 'g': 3310, 'webpag': 3311, 'religion': 3312, 'racist': 3313, 'ed': 3314, 'vast': 3315, 'volum': 3316, 'food': 3317, 'femal': 3318, 'highest': 3319, 'deliveri': 3320, 'pokemon': 3321, 'repositori': 3322, 'git': 3323, 'chart': 3324, 'explos': 3325, 'heavili': 3326, 'toni': 3327, '\\\\n\\\\non': 3328, 'offlin': 3329, 'incept': 3330, 'manner': 3331, 'asid': 3332, 'masterpiec': 3333, 'rob': 3334, 'approv': 3335, 'begun': 3336, '\\\\n\\\\ngoogl': 3337, 'offens': 3338, 'fam': 3339, 'ar': 3340, 'dialogue-bas': 3341, 'lack': 3342, 'fabric': 3343, '\\\\n\\\\nthere': 3344, 'conserv': 3345, 'peer': 3346, 'novemb': 3347, 'ukrain': 3348, 'senior': 3349, 'imperson': 3350, 'stat': 3351, 'grad': 3352, 'chatgtp': 3353, 'beer': 3354, 'threaten': 3355, 'delay': 3356, 'emul': 3357, 'teenag': 3358, 'pizza': 3359, 'text-bas': 3360, 'nick': 3361, 'augment': 3362, 'utterli': 3363, 'dozen': 3364, '2nd': 3365, 'expens': 3366, 'irrelev': 3367, '60': 3368, 'pocket': 3369, 'comfort': 3370, 'ada': 3371, '40': 3372, 'chatgpt-lik': 3373, 'passiv': 3374, 'bio': 3375, 'bitch': 3376, 'academia': 3377, 'nervou': 3378, 'classroom': 3379, 'western': 3380, 'narr': 3381, '\\\\nyou': 3382, '\\\\n\\\\nsee': 3383, 'estim': 3384, 'suspend': 3385, 'alter': 3386, 'rethink': 3387, 'candid': 3388, 'jasper': 3389, 'dragon': 3390, '\\\\n\\\\nmore': 3391, 'screenplay': 3392, 'accomplish': 3393, 'reserv': 3394, 'feder': 3395, 'craze': 3396, 'ten': 3397, 'gpu': 3398, 'epic': 3399, 'successor': 3400, 'mike': 3401, 'poe': 3402, 'cash': 3403, 'wed': 3404, 'closest': 3405, 'authorit': 3406, 'militari': 3407, 'burn': 3408, 'scam': 3409, 'miracl': 3410, 'it.\\\\n\\\\n': 3411, 'credibl': 3412, 'boot': 3413, 'ia': 3414, 'father': 3415, 'yahoo': 3416, 'unus': 3417, '\\\\n\\\\n•': 3418, 'node': 3419, 'band': 3420, 'target': 3421, 'mid': 3422, 'estat': 3423, 'patch': 3424, 'stake': 3425, 'persuas': 3426, 'overlook': 3427, 'and/or': 3428, 'upset': 3429, '\\\\nwrite': 3430, 'delight': 3431, 'githubcopilot': 3432, '\\U0001fae3': 3433, 'cancer': 3434, 'paid': 3435, 'lit': 3436, 'citizen': 3437, 'institut': 3438, 'driver': 3439, 'prize': 3440, 'defend': 3441, 'inflat': 3442, 'height': 3443, 'wallet': 3444, 'heavi': 3445, 'loss': 3446, 'panic': 3447, 'intersect': 3448, 'rpg': 3449, 'propaganda': 3450, 'germani': 3451, '\\\\nif': 3452, 'empathi': 3453, 'suppli': 3454, 'brillianc': 3455, 'strength': 3456, '//t.co/lebbgsek72': 3457, 'lectur': 3458, 'guarante': 3459, 'problemat': 3460, 'indi': 3461, '🤣🤣': 3462, 'tuesday': 3463, 'xma': 3464, 'bird': 3465, 'attach': 3466, 'astound': 3467, 'employe': 3468, 'text-gener': 3469, 'dissert': 3470, 'akin': 3471, 'nois': 3472, 'steve': 3473, 'warm': 3474, 'stablediffusion2': 3475, 'glass': 3476, '\\\\n\\\\nwell': 3477, 'greatli': 3478, 'guidanc': 3479, 'bake': 3480, 'configur': 3481, 'prospect': 3482, 'egg': 3483, 'aka': 3484, 'peril': 3485, 'keyword': 3486, 'wont': 3487, 'muse': 3488, 'turnitin': 3489, 'nightmar': 3490, 'surpass': 3491, 'notebook': 3492, 'semant': 3493, 'angel': 3494, 'west': 3495, 'friday': 3496, 'mint': 3497, 'terror': 3498, 'insur': 3499, 'parent': 3500, 'metaphor': 3501, 'gmail': 3502, 'gamechang': 3503, 'webdev': 3504, 'dude': 3505, 'liar': 3506, 'lift': 3507, 'lil': 3508, 'therapi': 3509, 'romant': 3510, 'park': 3511, 'horizon': 3512, 'em': 3513, 'dare': 3514, 'sudden': 3515, 'referenc': 3516, '\\\\nfor': 3517, 'temporari': 3518, 'fingertip': 3519, 'bless': 3520, 'twitch': 3521, '\\\\n\\\\nlook': 3522, 'reportedli': 3523, 'goodby': 3524, 'soccer': 3525, 'doctor': 3526, 'smile': 3527, 'peter': 3528, 'blank': 3529, 'copy/past': 3530, 'firm': 3531, 'bold': 3532, 'academictwitt': 3533, 'goat': 3534, 'softwareengin': 3535, 'l': 3536, 'grown': 3537, 'bang': 3538, 'ride': 3539, 'chase': 3540, 'ideolog': 3541, 'tie': 3542, 'women': 3543, 'kantrowitz': 3544, 'chatgpt.\\\\n\\\\nhttp': 3545, 'damag': 3546, 'stronger': 3547, '1m': 3548, 'cognit': 3549, 'advoc': 3550, 'lambda': 3551, 'ingredi': 3552, 'cake': 3553, 'forecast': 3554, 'stem': 3555, 'orient': 3556, 'hang': 3557, 'feat': 3558, '\\\\nin': 3559, 'storytel': 3560, 'non': 3561, '\\\\ndo': 3562, 'ide': 3563, 'inher': 3564, 'overcom': 3565, '😍': 3566, 'bing': 3567, 'vacat': 3568, 'ai-assist': 3569, 'cardano': 3570, 'thrive': 3571, 'captcha': 3572, 'grader': 3573, 'pool': 3574, 'logo': 3575, '\\\\nthank': 3576, 'tensorflow': 3577, 'adam': 3578, '😃': 3579, 'gig': 3580, 'inaccur': 3581, 'vm': 3582, 'friendship': 3583, 'nodej': 3584, 'immens': 3585, 'gf': 3586, 'spreadsheet': 3587, 'gatekeep': 3588, 'purchas': 3589, 'justic': 3590, 'dilemma': 3591, 'warrior': 3592, 'silicon': 3593, 'heaven': 3594, 'conclud': 3595, 'smooth': 3596, 'poorli': 3597, 'exhaust': 3598, 'corpu': 3599, 'afford': 3600, 'se': 3601, 'huggingfac': 3602, 'wordl': 3603, 'sex': 3604, 'buildinpubl': 3605, 'dapp': 3606, 'bloomberg': 3607, 'float': 3608, 'fault': 3609, 'hub': 3610, 'novelti': 3611, 'open-sourc': 3612, 'flip': 3613, '\\\\nto': 3614, 'wildli': 3615, 'subscrib': 3616, 'fortun': 3617, '\\\\n\\\\nye': 3618, 'archiv': 3619, 'greet': 3620, 'shrug': 3621, 'driven': 3622, 'ticket': 3623, 'bright': 3624, 'prof': 3625, 'tldr': 3626, 'zoom': 3627, 'imaginari': 3628, 'commentari': 3629, 'harri': 3630, 'potter': 3631, 'alex': 3632, '«': 3633, 'trader': 3634, 'minim': 3635, 'besid': 3636, 'calendar': 3637, 'mail': 3638, 'profoundli': 3639, 'coverag': 3640, 'beginn': 3641, 'ie': 3642, 'critiqu': 3643, 'nico': 3644, 'optimist': 3645, 'favor': 3646, 'fresh': 3647, 'suprem': 3648, 'chri': 3649, 'notion': 3650, 'quillbot': 3651, '\\\\nlet': 3652, 'ig': 3653, 'astrolog': 3654, '\\\\n3': 3655, 'clue': 3656, 'mysteri': 3657, 'reimagin': 3658, 'trash': 3659, 'devop': 3660, 'steam': 3661, 'fad': 3662, 'freelanc': 3663, 'icymi': 3664, 'frontier': 3665, 'opensourc': 3666, 'fyi': 3667, 'chao': 3668, 'enterpris': 3669, 'underli': 3670, 'btw': 3671, 'sister': 3672, 'assert': 3673, 'giveaway': 3674, 'pod': 3675, 'merg': 3676, 'npc': 3677, 'uneth': 3678, 'slate': 3679, 'urgent': 3680, 'forest': 3681, 'belong': 3682, 'substanti': 3683, 'hahaha': 3684, 'serverless': 3685, 'spare': 3686, 'grace': 3687, 'extend': 3688, 'summaris': 3689, 'russia': 3690, 'producthunt': 3691, 'dave': 3692, 'lore': 3693, 'asap': 3694, 'exceed': 3695, 'putin': 3696, 'ai\\\\n\\\\nhttp': 3697, 'daughter': 3698, 'rush': 3699, 'mr.': 3700, 'american': 3701, 'crunch': 3702, 'palm': 3703, 'guardian': 3704, 'essay-writ': 3705, '22': 3706, 'verbal': 3707, 'goog': 3708, 'digitalhealth': 3709, 'tinder': 3710, 'medicin': 3711, '\\U0001f979': 3712, 'playwright': 3713, 'vaccin': 3714, '👋': 3715, 'guest': 3716, 'bond': 3717, 'intoainew': 3718, 'biden': 3719, 'op-': 3720, '\\\\n\\\\nlike': 3721, 'privat': 3722, 'fifaworldcup': 3723, 'ghost': 3724, 'barrier': 3725, '4th': 3726, 'ai\\\\n': 3727, 'inequ': 3728, 'breakingnew': 3729, 'england': 3730, 'ransomwar': 3731, 'necessarili': 3732, 'genr': 3733, 'xrp': 3734, 'hair': 3735, 'ceo': 3736, 'real-world': 3737, 'asset': 3738, 'techcrunch': 3739, 'benefici': 3740, 'gear': 3741, 'digitalmarket': 3742, '👀\\\\n\\\\n': 3743, 'slowdown': 3744, 'member': 3745, 'surround': 3746, 'learner': 3747, 'islam': 3748, 'eye-open': 3749, 'chatwithgpt': 3750, 'deepfak': 3751, 'disinform': 3752, 'christian': 3753, 'carol': 3754, 'chose': 3755, 'chatgpt\\\\n-': 3756, 'syllabu': 3757, 'dan': 3758, 'percept': 3759, 'memor': 3760, 'embrac': 3761, 'qualifi': 3762, 'autocomplet': 3763, 'bewar': 3764, 'newspap': 3765, 'nope': 3766, 'trivial': 3767, 'hobbi': 3768, 'brazil': 3769, '🤣🤣🤣': 3770, 'weirder': 3771, 'drunk': 3772, 'thu': 3773, 'cheap': 3774, 'expertis': 3775, 'employ': 3776, 'larger': 3777, 'magnitud': 3778, '25': 3779, 'ai-driven': 3780, 'codenewbi': 3781, 'aiethic': 3782, 'selfi': 3783, 'ai\\\\n\\\\n': 3784, 'annual': 3785, 'societ': 3786, 'bout': 3787, 'imit': 3788, 'paraphras': 3789, 'realm': 3790, 'queen': 3791, 'macbook': 3792, 'forb': 3793, 'eerili': 3794, '\\\\n\\\\nto': 3795, 'renam': 3796, 'composit': 3797, 'unicorn': 3798, 'dystopian': 3799, 'chatgpt.\\\\nhttp': 3800, 'eve': 3801, 'amplifi': 3802, 'computersci': 3803, 'scream': 3804, 'combat': 3805, 'racism': 3806, 'quiet': 3807, 'obtain': 3808, 'instructor': 3809, 'geni': 3810, 'notionhq': 3811, 'chatgbt': 3812, 'seven': 3813, 'mute': 3814, 'mar': 3815, 'b2b': 3816, 'specialist': 3817, 'maco': 3818, 'leagu': 3819, 'clau': 3820, 'mankind': 3821, 'dumber': 3822, '23': 3823, 'wheel': 3824, 'mile': 3825, 'affili': 3826, 'paywal': 3827, 'go-to': 3828, 'persist': 3829, 'ronaldo': 3830, 'habit': 3831, 'scalabl': 3832, 'pc': 3833, 'nicochan33': 3834, 'shi4tech': 3835, 'california': 3836, 'ownership': 3837, 'alphabet': 3838, 'sole': 3839, '70': 3840, 'backstori': 3841, 'embed': 3842, 'saver': 3843, 'substitut': 3844, 'smartest': 3845, 'unoffici': 3846, 'daniel': 3847, 'ponder': 3848, 'stone': 3849, 'hollywood': 3850, 'parallel': 3851, 'webdevelop': 3852, 'kindl': 3853, 'court': 3854, 'infiltr': 3855, 'aichatbot': 3856, 'festiv': 3857, 'behav': 3858, '3.0': 3859, 'recap': 3860, 'foil': 3861, 'vastli': 3862, 'drawn': 3863, 'wipe': 3864, '\\\\nai': 3865, 'contentmarket': 3866, 'pov': 3867, 'flexibl': 3868, 'intend': 3869, 'state-of-the-art': 3870, '😏': 3871, 'disappear': 3872, 'academicchatt': 3873, '\\\\n•': 3874, '//t.co/dsuxjoexm6': 3875, 'spring': 3876, 'labour': 3877, '200': 3878, 'cowork': 3879, 'prep': 3880, 'occasion': 3881, 'shell': 3882, 'sector': 3883, 'frank': 3884, 'bye': 3885, 'director': 3886, 'biz': 3887, 'drake': 3888, 'airdrop': 3889, 'scary-good': 3890, 'gan': 3891, 'fossil': 3892, 'nftcommun': 3893, 'dictat': 3894, 'captiv': 3895, 'usher': 3896, 'a+': 3897, 'ama': 3898, 'co-author': 3899, 'bottl': 3900, 'dreamlik': 3901, 'loom': 3902, 'openai\\u2069': 3903, 'msm': 3904, 'andrew': 3905, 'divid': 3906, 'smaller': 3907, 'houston': 3908, 'mere': 3909, 'dismiss': 3910, 'aggreg': 3911, 'dey': 3912, 'miser': 3913, 'reshap': 3914, 'academicintegr': 3915, '2024': 3916, \"'code\": 3917, 'sentiment': 3918, 'redux': 3919, 'broadcast': 3920, 'betamoroney': 3921, 'nytim': 3922, 'twitterfil': 3923, 'misunderstand': 3924, 'sheet': 3925, 'spur': 3926, 'practition': 3927, '5g': 3928, 'echo': 3929, 'hospit': 3930, 'prohibit': 3931, 'abt': 3932, 'clubhous': 3933, 'powershel': 3934, 'uncl': 3935, 'mediocr': 3936, 'mf': 3937, 'ex': 3938, '🙏': 3939, 'sol': 3940, 'kevin': 3941, 'someday': 3942, '\\\\n\\\\nuse': 3943, 'entrepreneurship': 3944, 'digitaltransform': 3945, 'gratitud': 3946, 'caption': 3947, 'delet': 3948, 'made-up': 3949, 'herald': 3950, 'artificialintelig': 3951, 'marri': 3952, 'fet': 3953, 'nowaday': 3954, 'north': 3955, 'stablediffusionart': 3956, '👇\\\\nhttp': 3957, 'jimharri': 3958, 'jolaburnett': 3959, 'high-school': 3960, 'programminghumor': 3961, 'instrument': 3962, 'blogpost': 3963, 'len': 3964, 'plato': 3965, 'autonomousvehicl': 3966, 'streamlin': 3967, 'phenomenon': 3968, 'devast': 3969, '......': 3970, '.\\\\nhttp': 3971, 'ft': 3972, 'trillion': 3973, 'learnt': 3974, 'fuel': 3975, 'decision-mak': 3976, 'spirosmargari': 3977, 'sc': 3978, 'disput': 3979, 'high-qual': 3980, 'parodi': 3981, 'mckinsey': 3982, 'tempt': 3983, 'ufo': 3984, 'london': 3985, 'aigc': 3986, 'contentcr': 3987, 'lastpass': 3988, 'outstand': 3989, 'regularli': 3990, 'programmingmem': 3991, 'africa': 3992, 'merri': 3993, 'bnb': 3994, 'newsflash': 3995, 'iiot': 3996, 'unreli': 3997, 'jeff': 3998, 'frighteningli': 3999, 'dread': 4000, 'edutwitt': 4001, '2.5': 4002, '\\\\n5': 4003, 'chatgptbot': 4004, 'npr': 4005, 'spiritu': 4006, 'ufotwitt': 4007, 'uaptwitt': 4008, 'aitool': 4009, 'chatgpt\\\\njoin': 4010, 'cyberattack': 4011, 'grape': 4012, 'binanc': 4013, 'contentwrit': 4014, 'avax': 4015, 'dataanalyt': 4016, '//t.co/rlyimpqw40\\\\n\\\\n': 4017, 'preserv': 4018, '3m': 4019, 'abject': 4020, 'oil': 4021, 'exec': 4022, 'messiah': 4023, 'futureofwork': 4024, 'mca': 4025, 'geek': 4026, 'reddit\\\\n\\\\nhttp': 4027, 'lensaai': 4028, 'mbapp': 4029, 'detector': 4030, 'grapeswap': 4031, 'maandamano': 4032, 'quainetwork': 4033, 'quai': 4034, 'trilemma': 4035, 'finperform': 4036, 'pichai': 4037, 'sundar': 4038, 'kane': 4039, 'musk-found': 4040, 'aiartist': 4041, 'curriculum': 4042, 'tf': 4043, 'aistori': 4044, 'watermark': 4045, 'doomsday': 4046, 'cnbc': 4047, 'handwritten': 4048, \"'scari\": 4049, 'wsj': 4050, 'glengilmor': 4051, '1b': 4052, 'edchat': 4053, 'googlesearch': 4054, 'artificalintellig': 4055, 'brian': 4056, 'pisc': 4057, 'meakin': 4058, 'kamiti': 4059, 'madam': 4060, 'kiptum': 4061, 'amerix': 4062, 'machakosunivers': 4063, '//t.co/nxtwogytb5': 4064, 'boma': 4065, 'judiciari': 4066, 'kisii': 4067, 'tape': 4068, 'onyango': 4069, 'kelvin': 4070, 'play\\\\n': 4071, 'museveni': 4072, 'insurtech': 4073, 'amid': 4074, 'lindagrass0': 4075, 'rippl': 4076, 'morgan': 4077, 'months\\\\ninstagram': 4078, '\\\\n\\\\nnetflix': 4079, '41': 4080, 'sharegpt': 4081, 'cybersecurit': 4082, 'lunc': 4083, 'reuter': 4084, 'drjdrooghaag': 4085, '\\\\n➡️': 4086, 'emollick': 4087, 'roos': 4088, 'buzzi': 4089, 'college-level': 4090, 'businessinsid': 4091, 'atlant': 4092, 'stanley': 4093, 'cnet': 4094, 'openaichatgpt': 4095, 'ronald_vanloon': 4096, 'prisma': 4097, '📜': 4098, 'utc': 4099, 'months\\\\nchatgpt': 4100, 'freemint': 4101, 'theatlant': 4102, 'stephenmarch': 4103, 'furiously—and': 4104, 'webinar': 4105, 'nypost': 4106, 'years\\\\nfacebook': 4107, 'months\\\\nspotifi': 4108, 'donotpay': 4109, 'piscesbaishui': 4110, 'usdt': 4111, '6usdt💵': 4112, 'cybercrim': 4113, 'nigewillson': 4114, 'fogoro': 4115, 'gizmodo': 4116, 'ces2023': 4117, 'years\\\\ntwitter-': 4118, 'matic': 4119, 'samfbiddl': 4120, 'mosqu': 4121, 'markwschaef': 4122, 'scoopit': 4123, 'merrychristma': 4124, 'openaicommun': 4125, '👉🏿👉🏿': 4126, 'peopledao': 4127, 'campaign🪂i': 4128, 'coffinlifebuoy': 4129, 'learngpt': 4130, 'jorgeorchil': 4131, 'sansspecialbroadcast': 4132, 'robtle': 4133, 'chatgpt-styl': 4134, 'aiartgenerator\\\\n': 4135, 'cade': 4136, 'metz': 4137, 'chatgpt_erc_bot': 4138, 'chatson': 4139, 'sejourn': 4140, 'martinibust': 4141, 'comcast': 4142, 'reshuffl': 4143, 'capitalizetitl': 4144, 'blogengag': 4145, 'it_audit': 4146, 'e-e-a-t': 4147, 'fairer': 4148, '深网': 4149, '信息交易': 4150, '//t.co/yfsn3kthrj': 4151, 'youtubeautom': 4152, 'person\\\\n\\\\n': 4153, 'vincentterrasi': 4154, 'youchat': 4155, 'tonyhayesseo': 4156, '<UNK>': 4157}\n"
     ]
    }
   ],
   "source": [
    "IDF['<UNK>'] = 1\n",
    "vocab['<UNK>'] = len(vocab)\n",
    "print(vocab)"
   ]
  },
  {
   "cell_type": "code",
   "execution_count": 20,
   "metadata": {
    "colab": {
     "base_uri": "https://localhost:8080/"
    },
    "id": "rj13lwm9oSoJ",
    "outputId": "66a7dab1-f66e-42b8-8752-142da2937606"
   },
   "outputs": [
    {
     "name": "stdout",
     "output_type": "stream",
     "text": [
      "[0, 0, 0, 0, 0, 0, 0, 0, 0, 0, 0, 0, 0, 0, 0, 0, 0, 0, 0, 0, 0, 0, 0, 0, 0, 0, 0, 0, 0, 0, 0, 0, 0, 0, 0, 0, 0, 0, 0, 0, 0, 0, 0, 0, 0, 0, 0, 0, 0, 0, 0, 0, 0, 0, 0, 0, 0, 0, 0, 0, 0, 0, 0, 0, 0, 0, 0, 0, 0, 0, 0, 0, 0, 0, 0, 0, 0, 0, 0, 0, 0, 0, 0, 0, 0, 0, 0, 0, 0, 0, 0, 0, 0, 0, 0, 0, 0, 0, 0, 0, 0, 0, 0, 0, 0, 0, 0, 0, 0, 0, 0, 0, 0, 0, 0, 0, 0, 0, 0, 0, 0, 0, 0, 0, 0, 0, 0, 0, 0, 0, 0, 0, 0, 0, 0, 0, 0, 0, 0, 0, 0, 0, 0, 0, 0, 0, 0, 0, 0, 0, 0, 0, 0, 0, 0, 0, 0, 0, 0, 0, 0, 0, 0, 0, 0, 0, 0, 0, 0, 0, 0, 0, 0, 0, 0, 0, 0, 0, 0, 0, 0, 0, 0, 0, 0, 0, 0, 0, 0, 0, 0, 0, 0, 0, 0, 0, 0, 0, 0, 0, 0, 0, 0, 0, 0, 0, 0, 0, 0, 0, 0, 0, 0, 0, 0, 0, 0, 0, 0, 0, 0, 0, 0, 0, 0, 0, 0, 0, 0, 0, 0, 0, 0, 0, 0, 0, 0, 0, 0, 0, 0, 0, 0, 0, 0, 0, 0, 0, 0, 0, 0, 0, 0, 0, 0, 0, 0, 0, 0, 0, 0, 0, 0, 0, 0, 0, 0, 0, 0, 0, 0, 0, 0, 0, 0, 0, 0, 0, 0, 0, 0, 0, 0, 0, 0, 0, 0, 0, 0, 0, 0, 0, 0, 0, 0, 0, 0, 0, 0, 0, 0, 0, 0, 0, 0, 0, 0, 0, 0, 0, 0, 0, 0, 0, 0, 0, 0, 0, 0, 0, 0, 0, 0, 0, 0, 0, 0, 0, 0, 0, 0, 0, 0, 0, 0, 0, 0, 0, 0, 0, 0, 0, 0, 0, 0, 0, 0, 0, 0, 0, 0, 0, 0, 0, 0, 0, 0, 0, 0, 0, 0, 0, 0, 0, 0, 0, 0, 0, 0, 0, 0, 0, 0, 0, 0, 0, 0, 0, 0, 0, 0, 0, 0, 0, 0, 0, 0, 0, 0, 0, 0, 0, 0, 0, 0, 0, 0, 0, 0, 0, 0, 0, 0, 0, 0, 0, 0, 0, 0, 0, 0, 0, 0, 0, 0, 0, 0, 0, 0, 0, 0, 0, 0, 0, 0, 0, 0, 0, 0, 0, 0, 0, 0, 0, 0, 0, 0, 0, 0, 0, 0, 0, 0, 0, 0, 0, 0, 0, 0, 0, 0, 0, 0, 0, 0, 0, 0, 0, 0, 0, 0, 0, 0, 0, 0, 0, 0, 0, 0, 0, 0, 0, 0, 0, 0, 0, 0, 0, 0, 0, 0, 0, 0, 0, 0, 0, 0, 0, 0, 0, 0, 0, 0, 0, 0, 0, 0, 0, 0, 0, 0, 0, 0, 0, 0, 0, 0, 0, 0, 0, 0, 0, 0, 0, 0, 0, 0, 0, 0, 0, 0, 0, 0, 0, 0, 0, 0, 0, 0, 0, 0, 0, 0, 0, 0, 0, 0, 0, 0, 0, 0, 0, 0, 0, 0, 0, 0, 0, 3.0326894955782704, 0, 0, 0, 0, 0, 0, 0, 0, 0, 0, 0, 0, 0, 0, 0, 0, 0, 0, 0, 0, 0, 0, 0, 0, 0, 0, 0, 0, 0, 0, 0, 0, 0, 0, 0, 0, 0, 0, 0, 0, 0, 0, 0, 0, 0, 0, 0, 0, 0, 0, 0, 0, 0, 0, 0, 0, 0, 0, 0, 0, 0, 0, 0, 0, 0, 0, 0, 0, 0, 0, 0, 0, 0, 0, 0, 0, 0, 0, 0, 0, 0, 0, 0, 0, 0, 0, 0, 0, 0, 0, 0, 0, 0, 0, 0, 0, 0, 0, 0, 0, 0, 0, 0, 0, 0, 0, 0, 0, 0, 0, 0, 0, 0, 0, 0, 0, 0, 0, 0, 0, 0, 0, 0, 0, 0, 0, 0, 0, 0, 0, 0, 0, 0, 0, 0, 0, 0, 0, 0, 0, 0, 0, 0, 0, 0, 0, 0, 0, 0, 0, 0, 0, 0, 0, 0, 0, 0, 0, 0, 0, 0, 0, 0, 0, 0, 0, 0, 0, 0, 0, 0, 0, 0, 0, 0, 0, 0, 0, 0, 0, 0, 0, 0, 0, 0, 0, 0, 0, 0, 0, 0, 0, 0, 0, 0, 0, 0, 0, 0, 0, 0, 0, 0, 0, 0, 0, 0, 0, 0, 0, 0, 0, 0, 0, 0, 0, 0, 0, 0, 0, 0, 0, 0, 0, 0, 0, 0, 0, 0, 0, 0, 0, 0, 0, 0, 0, 0, 0, 0, 0, 0, 0, 0, 0, 0, 0, 0, 0, 0, 0, 0, 0, 0, 0, 0, 0, 0, 0, 0, 0, 0, 0, 0, 0, 0, 0, 0, 0, 0, 0, 0, 0, 0, 0, 0, 0, 0, 0, 0, 0, 0, 0, 0, 0, 0, 0, 0, 0, 0, 0, 0, 0, 0, 0, 0, 0, 0, 0, 0, 0, 0, 0, 0, 0, 0, 0, 0, 0, 0, 0, 0, 0, 0, 0, 0, 0, 0, 0, 0, 0, 0, 0, 0, 0, 0, 0, 0, 0, 0, 0, 0, 0, 0, 0, 0, 0, 0, 0, 0, 0, 0, 0, 0, 0, 0, 0, 0, 0, 0, 0, 0, 0, 0, 0, 0, 0, 0, 0, 0, 0, 0, 0, 0, 0, 0, 0, 0, 0, 0, 0, 0, 0, 0, 0, 0, 0, 0, 0, 0, 0, 0, 0, 0, 0, 0, 0, 0, 0, 0, 0, 0, 0, 0, 0, 0, 0, 0, 0, 0, 0, 0, 0, 0, 0, 0, 0, 0, 0, 0, 0, 0, 0, 0, 0, 0, 0, 0, 0, 0, 0, 0, 0, 0, 0, 0, 0, 0, 0, 0, 0, 0, 0, 0, 0, 0, 0, 0, 0, 0, 0, 0, 0, 0, 0, 0, 0, 0, 0, 0, 0, 0, 0, 0, 0, 0, 0, 0, 0, 0, 0, 0, 0, 0, 0, 0, 0, 0, 0, 0, 0, 0, 0, 0, 0, 0, 0, 0, 0, 0, 0, 0, 0, 0, 0, 0, 0, 0, 0, 0, 0, 0, 0, 0, 0, 0, 0, 0, 0, 0, 0, 0, 0, 0, 0, 0, 0, 0, 0, 0, 0, 0, 0, 0, 0, 0, 0, 0, 0, 0, 0, 0, 0, 0, 0, 0, 0, 0, 0, 0, 0, 0, 0, 0, 0, 0, 0, 0, 0, 0, 0, 0, 0, 0, 0, 0, 0, 0, 0, 0, 0, 0, 0, 0, 0, 0, 0, 0, 0, 0, 0, 0, 0, 0, 0, 0, 0, 0, 0, 0, 0, 0, 0, 0, 0, 0, 0, 0, 0, 0, 0, 0, 0, 0, 0, 0, 0, 0, 0, 0, 0, 0, 0, 0, 0, 0, 0, 0, 0, 0, 0, 0, 0, 0, 0, 0, 0, 0, 0, 0, 0, 0, 0, 0, 0, 0, 0, 0, 0, 0, 0, 0, 0, 0, 0, 0, 0, 0, 0, 0, 0, 0, 0, 0, 0, 0, 0, 0, 0, 0, 0, 0, 0, 0, 0, 0, 0, 0, 0, 0, 0, 0, 0, 0, 0, 0, 0, 0, 0, 0, 0, 0, 0, 0, 0, 0, 0, 0, 0, 0, 0, 0, 0, 0, 0, 0, 0, 0, 0, 0, 0, 0, 0, 0, 0, 0, 0, 0, 0, 0, 0, 0, 0, 0, 0, 0, 0, 0, 0, 0, 0, 0, 0, 0, 0, 0, 0, 0, 0, 0, 0, 0, 0, 0, 0, 0, 0, 0, 0, 0, 0, 0, 0, 0, 0, 0, 0, 0, 0, 0, 0, 0, 0, 0, 0, 0, 0, 0, 0, 0, 0, 0, 0, 0, 0, 0, 0, 0, 0, 0, 0, 0, 0, 0, 0, 0, 0, 0, 0, 0, 0, 0, 0, 0, 0, 0, 0, 0, 0, 0, 0, 0, 0, 0, 0, 0, 0, 0, 0, 0, 0, 0, 0, 0, 0, 0, 0, 0, 0, 0, 0, 0, 0, 0, 0, 0, 0, 0, 0, 0, 0, 0, 0, 0, 0, 0, 0, 0, 0, 0, 0, 0, 0, 0, 0, 0, 0, 0, 0, 0, 0, 0, 0, 0, 0, 0, 0, 0, 0, 0, 0, 0, 0, 0, 0, 0, 0, 0, 0, 0, 0, 0, 0, 0, 0, 0, 0, 0, 0, 0, 0, 0, 0, 0, 0, 0, 0, 0, 0, 0, 0, 0, 0, 0, 0, 0, 0, 0, 0, 0, 0, 0, 0, 0, 0, 0, 0, 0, 0, 0, 0, 0, 0, 0, 0, 0, 0, 0, 0, 0, 0, 0, 0, 0, 0, 0, 0, 0, 0, 0, 0, 0, 0, 0, 0, 0, 0, 0, 0, 0, 0, 0, 0, 0, 0, 0, 0, 0, 0, 0, 0, 0, 0, 0, 0, 0, 0, 0, 0, 0, 0, 0, 0, 0, 0, 0, 0, 0, 0, 0, 0, 0, 0, 0, 0, 0, 0, 0, 0, 0, 0, 0, 0, 0, 0, 0, 0, 0, 0, 0, 0, 0, 0, 0, 0, 0, 0, 0, 0, 0, 0, 0, 0, 0, 0, 0, 0, 0, 0, 0, 0, 0, 0, 0, 0, 0, 0, 0, 0, 0, 0, 0, 0, 0, 0, 0, 0, 0, 0, 0, 0, 0, 0, 0, 0, 0, 0, 0, 0, 0, 0, 0, 0, 0, 0, 0, 0, 0, 0, 0, 0, 0, 0, 0, 0, 0, 0, 0, 0, 0, 0, 0, 0, 0, 0, 0, 0, 0, 0, 0, 0, 0, 0, 0, 0, 0, 0, 0, 0, 0, 0, 0, 0, 0, 0, 0, 0, 0, 0, 0, 0, 0, 0, 0, 0, 0, 0, 0, 0, 0, 0, 0, 0, 0, 0, 0, 0, 0, 0, 0, 0, 0, 0, 0, 0, 0, 0, 0, 0, 0, 0, 0, 0, 0, 0, 0, 0, 0, 0, 0, 0, 0, 0, 0, 0, 0, 0, 0, 0, 0, 0, 0, 0, 0, 0, 0, 0, 0, 0, 0, 0, 0, 0, 0, 0, 0, 0, 0, 0, 0, 0, 0, 0, 0, 0, 0, 0, 0, 0, 0, 0, 0, 0, 0, 0, 0, 0, 0, 0, 0, 0, 0, 0, 0, 0, 0, 0, 0, 0, 0, 0, 0, 0, 0, 0, 0, 0, 0, 0, 0, 0, 0, 0, 0, 0, 0, 0, 0, 0, 0, 0, 0, 0, 0, 0, 0, 0, 0, 0, 0, 0, 0, 0, 0, 0, 0, 0, 0, 0, 0, 0, 0, 0, 0, 0, 0, 0, 0, 0, 0, 0, 0, 0, 0, 0, 0, 0, 0, 0, 0, 0, 0, 0, 0, 0, 0, 0, 0, 0, 0, 0, 0, 0, 0, 0, 0, 0, 0, 0, 0, 0, 0, 0, 0, 0, 0, 0, 0, 0, 0, 0, 0, 0, 0, 0, 0, 0, 0, 0, 0, 0, 0, 0, 0, 0, 0, 0, 0, 0, 0, 0, 0, 0, 0, 0, 0, 0, 0, 0, 0, 0, 0, 0, 0, 0, 0, 0, 0, 0, 0, 0, 0, 0, 0, 0, 0, 0, 0, 0, 0, 0, 0, 0, 0, 0, 0, 0, 0, 0, 0, 0, 0, 0, 0, 0, 0, 0, 0, 0, 0, 0, 0, 0, 0, 0, 0, 0, 0, 0, 0, 0, 0, 0, 0, 0, 0, 0, 0, 0, 0, 0, 0, 0, 0, 0, 0, 0, 0, 0, 0, 0, 0, 0, 0, 0, 0, 0, 0, 0, 0, 0, 0, 0, 0, 0, 0, 0, 0, 0, 0, 0, 0, 0, 0, 0, 0, 0, 0, 0, 0, 0, 0, 0, 0, 0, 0, 0, 0, 0, 0, 0, 0, 0, 0, 0, 0, 0, 0, 0, 0, 0, 0, 0, 0, 0, 0, 0, 0, 0, 0, 0, 0, 0, 0, 0, 0, 0, 0, 0, 0, 0, 0, 0, 0, 0, 0, 0, 0, 0, 0, 0, 0, 0, 0, 0, 0, 0, 0, 0, 0, 0, 0, 0, 0, 0, 0, 0, 0, 0, 0, 0, 0, 0, 0, 0, 0, 0, 0, 0, 0, 0, 0, 0, 0, 0, 0, 0, 0, 0, 0, 0, 0, 0, 0, 0, 0, 0, 0, 0, 0, 0, 0, 0, 0, 0, 0, 0, 0, 0, 0, 0, 0, 0, 0, 0, 0, 0, 0, 0, 0, 0, 0, 0, 0, 0, 0, 0, 0, 0, 0, 0, 0, 0, 0, 0, 0, 0, 0, 0, 0, 0, 0, 0, 0, 0, 0, 0, 0, 0, 0, 0, 0, 0, 0, 0, 0, 0, 0, 0, 0, 0, 0, 0, 0, 0, 0, 0, 0, 0, 0, 0, 0, 0, 0, 0, 0, 0, 0, 0, 0, 0, 0, 0, 0, 0, 0, 0, 0, 0, 0, 0, 0, 0, 0, 0, 0, 0, 0, 0, 0, 0, 0, 0, 0, 0, 0, 0, 0, 0, 0, 0, 0, 0, 0, 0, 0, 0, 0, 0, 0, 0, 0, 0, 0, 0, 0, 0, 0, 0, 0, 0, 0, 0, 0, 0, 0, 0, 0, 0, 0, 0, 0, 0, 0, 0, 0, 0, 0, 0, 0, 0, 0, 0, 0, 0, 0, 0, 0, 0, 0, 0, 0, 0, 0, 0, 0, 0, 0, 0, 0, 0, 0, 0, 0, 0, 0, 0, 0, 0, 0, 0, 0, 0, 0, 0, 0, 0, 0, 0, 0, 0, 0, 0, 0, 0, 0, 0, 0, 0, 0, 0, 0, 0, 0, 0, 0, 0, 0, 0, 0, 0, 0, 0, 0, 0, 0, 0, 0, 0, 0, 0, 0, 0, 0, 0, 0, 0, 0, 0, 0, 0, 0, 0, 0, 0, 0, 0, 0, 0, 0, 0, 0, 0, 0, 0, 0, 0, 0, 0, 0, 0, 0, 0, 0, 0, 0, 0, 0, 0, 0, 0, 0, 0, 0, 0, 0, 0, 0, 0, 0, 0, 0, 0, 0, 0, 0, 0, 0, 0, 0, 0, 0, 0, 0, 0, 0, 0, 0, 0, 0, 0, 0, 0, 0, 0, 0, 0, 0, 0, 0, 0, 0, 0, 0, 0, 0, 0, 0, 0, 0, 0, 0, 0, 0, 0, 0, 0, 0, 0, 0, 0, 0, 0, 0, 0, 0, 0, 0, 0, 0, 0, 0, 0, 0, 0, 0, 0, 0, 0, 0, 0, 0, 0, 0, 0, 0, 0, 0, 0, 0, 0, 0, 0, 0, 0, 0, 0, 0, 0, 0, 0, 0, 0, 0, 0, 0, 0, 0, 0, 0, 0, 0, 0, 0, 0, 0, 0, 0, 0, 0, 0, 0, 0, 0, 0, 0, 0, 0, 0, 0, 0, 0, 0, 0, 0, 0, 0, 0, 0, 0, 0, 0, 0, 0, 0, 0, 0, 0, 0, 0, 0, 0, 0, 0, 0, 0, 0, 0, 0, 0, 0, 0, 0, 0, 0, 0, 0, 0, 0, 0, 0, 0, 0, 0, 0, 0, 0, 0, 0, 0, 0, 0, 0, 0, 0, 0, 0, 0, 0, 0, 0, 0, 0, 0, 0, 0, 0, 0, 0, 0, 0, 0, 0, 0, 0, 0, 0, 0, 0, 0, 0, 0, 0, 0, 0, 0, 0, 0, 0, 0, 0, 0, 0, 0, 0, 0, 0, 0, 0, 0, 0, 0, 0, 0, 0, 0, 0, 0, 0, 0, 0, 0, 0, 0, 0, 0, 0, 0, 0, 0, 0, 0, 0, 0, 0, 0, 0, 0, 0, 0, 0, 0, 0, 0, 0, 0, 0, 0, 0, 0, 0, 0, 0, 0, 0, 0, 0, 0, 0, 0, 0, 0, 0, 0, 0, 0, 0, 0, 0, 0, 0, 0, 0, 0, 0, 0, 0, 0, 0, 0, 0, 0, 0, 0, 0, 0, 0, 0, 0, 0, 0, 0, 0, 0, 0, 0, 0, 0, 0, 0, 0, 0, 0, 0, 0, 0, 0, 0, 0, 0, 0, 0, 0, 0, 0, 0, 0, 0, 0, 0, 0, 0, 0, 0, 0, 0, 0, 0, 0, 0, 0, 0, 0, 0, 0, 0, 0, 0, 0, 0, 0, 0, 0, 0, 0, 0, 0, 0, 0, 0, 0, 0, 0, 0, 0, 0, 0, 0, 0, 0, 0, 0, 0, 0, 0, 0, 0, 0, 0, 0, 0, 0, 0, 0, 0, 0, 0, 0, 0, 0, 0, 0, 0, 0, 0, 0, 0, 0, 0, 0, 0, 0, 0, 0, 0, 0, 0, 0, 0, 0, 0, 0, 0, 0, 0, 0, 0, 0, 0, 0, 0, 0, 0, 0, 0, 0, 0, 0, 0, 0, 0, 0, 0, 0, 0, 0, 0, 0, 0, 0, 0, 0, 0, 0, 0, 0, 0, 0, 0, 0, 0, 0, 0, 0, 0, 0, 0, 0, 0, 0, 0, 0, 0, 0, 0, 0, 0, 0, 0, 0, 0, 0, 0, 0, 0, 0, 0, 0, 0, 0, 0, 0, 0, 0, 0, 0, 0, 0, 0, 0, 0, 0, 0, 0, 0, 0, 0, 0, 0, 0, 0, 0, 0, 0, 0, 0, 0, 0, 0, 0, 0, 0, 0, 0, 0, 0, 0, 0, 0, 0, 0, 0, 0, 0, 0, 0, 0, 0, 0, 0, 0, 0, 0, 0, 0, 0, 0, 0, 0, 0, 0, 0, 0, 0, 0, 0, 0, 0, 0, 0, 0, 0, 0, 0, 0, 0, 0, 0, 0, 0, 0, 0, 0, 0, 0, 0, 0, 0, 0, 0, 0, 0, 0, 0, 0, 0, 0, 0, 0, 0, 0, 0, 0, 0, 0, 0, 0, 0, 0, 0, 0, 0, 0, 0, 0, 0, 0, 0, 0, 0, 0, 0, 0, 0, 0, 0, 0, 0, 0, 0, 0, 0, 0, 0, 0, 0, 0, 0, 0, 0, 0, 0, 0, 0, 0, 0, 0, 0, 0, 0, 0, 0, 0, 0, 0, 0, 0, 0, 0, 0, 0, 0, 0, 0, 0, 0, 0, 0, 0, 0, 0, 0, 0, 0, 0, 0, 0, 0, 0, 0, 0, 0, 0, 0, 0, 0, 0, 0, 0, 0, 0, 0, 0, 0, 0, 0, 0, 0, 0, 0, 0, 0, 0, 0, 0, 0, 0, 0, 0, 0, 0, 0, 0, 0, 0, 0, 0, 0, 0, 0, 0, 0, 0, 0, 0, 0, 0, 0, 0, 0, 0, 0, 0, 0, 0, 0, 0, 0, 0, 0, 0, 0, 0, 0, 0, 0, 0, 0, 0, 0, 0, 0, 0, 0, 0, 0, 0, 0, 0, 0, 0, 0, 0, 0, 0, 0, 0, 0, 0, 0, 0, 0, 0, 0, 0, 0, 0, 0, 0, 0, 0, 0, 0, 0, 0, 0, 0, 0, 0, 0, 0, 0, 0, 0, 0, 0, 0, 0, 0, 0, 0, 0, 0, 0, 0, 0, 0, 0, 0, 0, 0, 0, 0, 0, 0, 0, 0, 0, 0, 0, 0, 0, 0, 0, 0, 0, 0, 0, 0, 0, 0, 0, 0, 0, 0, 0, 0, 0, 0, 0, 0, 0, 0, 0, 0, 0, 0, 0, 0, 0, 0, 0, 0, 0, 0, 0, 0, 0, 0, 0, 0, 0, 0, 0, 0, 0, 0, 0, 0, 0, 0, 0, 0, 0, 0, 0, 0, 0, 0, 0, 0, 0, 0, 0, 0, 0, 0, 0, 0, 0, 0, 0, 0, 0, 0, 0, 0, 0, 0, 0, 0, 0, 0, 0, 0, 0, 0, 0, 0, 0, 0, 0, 0, 0, 0, 0, 0, 0, 0, 0, 0, 0, 0, 0, 0, 0, 0, 0, 0, 0, 0, 0, 0, 0, 0, 0, 0, 0, 0, 0, 0, 0, 0, 0, 0, 0, 0, 0, 0, 0, 0, 0, 0, 0, 0, 0, 0, 0, 0, 0, 0, 0, 0, 0, 0, 0, 0, 0, 0, 0, 0, 0, 0, 0, 0, 0, 0, 0, 0, 0, 0, 0, 0, 0, 0, 0, 0, 0, 0, 0, 0, 0, 0, 0, 0, 0, 0, 0, 0, 0, 0, 0, 0, 0, 0, 0, 0, 0, 0, 0, 0, 0, 0, 0, 0, 0, 0, 0, 0, 0, 0, 0, 0, 0, 0, 0, 0, 0, 0, 0, 0, 0, 0, 0, 0, 0, 0, 0, 0, 0, 0, 0, 0, 0, 0, 0, 0, 0, 0, 0, 0, 0, 0, 0, 0, 0, 0, 0, 0, 0, 0, 0, 0, 0, 0, 0, 0, 0, 0, 0, 0, 0, 0, 0, 0, 0, 0, 0, 0, 0, 0, 0, 0, 0, 0, 0, 0, 0, 0, 0, 0, 0, 0, 0, 0, 0, 0, 0, 0, 0, 0, 0, 0, 0, 0, 0, 0, 0, 0, 0, 0, 0, 0, 0, 0, 0, 0, 0, 0, 0, 0, 0, 0, 0, 0, 0, 0, 0, 0, 0, 0, 0, 0, 0, 0, 0, 0, 0, 0, 0, 0, 0, 0, 0, 0, 0, 0, 0, 0, 0, 0, 0, 0, 0, 0, 0, 0, 0, 0, 0, 0, 0, 0, 0, 0, 0, 0, 0, 0, 0, 0, 0, 0, 0, 0, 0, 0, 0, 0, 0, 0, 0, 0, 0, 0, 0, 0, 0, 0, 0, 0, 0, 0, 0, 0, 0, 0, 0, 0, 0, 0, 0, 0, 0, 0, 0, 0, 0, 0, 0, 0, 0, 0, 0, 0, 0, 0, 0, 0, 0, 0, 0, 0, 0, 0, 0, 0, 0, 0, 0, 0, 0, 0, 0, 0, 0, 0, 0, 0, 0, 0, 0, 0, 0, 0, 0, 0, 0, 0, 0, 0, 0, 0, 0, 0, 0, 0, 0, 0, 0, 0, 0, 0, 0, 0, 0, 0, 0, 0, 0, 0, 0, 0, 0, 0, 0, 0, 0, 0, 0, 0, 0, 0, 0, 0, 0, 0, 0, 0, 0, 0, 0, 0, 0, 0, 0, 0, 0, 0, 0, 0, 0, 0, 0, 0, 0, 0, 0, 0, 0, 0, 0, 0, 0, 0, 0, 0, 0, 0, 0, 0, 0, 0, 0, 0, 0, 0, 0, 0, 0, 0, 0, 0, 0, 0, 0, 0, 0, 0, 0, 0, 0, 0, 0, 0, 0, 0, 0, 0, 0, 0, 0, 0, 0, 0, 0, 0, 0, 0, 0, 0, 0, 0, 0, 0, 0, 0, 0, 0, 0, 0, 0, 0, 0, 0, 0, 0, 0, 0, 0, 0, 0, 0, 0, 0, 0, 0, 0, 0, 0, 0, 0, 0, 0, 0, 0, 0, 0, 0, 0, 0, 0, 0, 0, 0, 0, 0, 0, 0, 0, 0, 0, 0, 0, 0, 0, 0, 0, 0, 0, 0, 0, 0, 0, 0, 0, 0, 0, 0, 0, 0, 0, 0, 0, 0, 0, 0, 0, 0, 0, 0, 0, 0, 0, 0, 0, 0, 0, 0, 0, 0, 0, 0, 0, 0, 0, 0, 0, 0, 0, 0, 0, 0, 0, 0, 0, 0, 0, 0, 0, 0, 0, 0, 0, 0, 0, 0, 0, 0, 0, 0, 0, 0, 0, 0, 0, 0, 0, 0, 0, 0, 0, 0, 0, 0, 0, 0, 0, 0, 0, 0, 0, 0, 0, 0, 0, 0, 0, 0, 0, 0, 0, 0, 0, 0, 0, 0, 0, 0, 0, 0, 0, 0, 0, 0, 0, 0, 0, 0, 0, 0, 0, 0, 0, 0, 0, 0, 0, 0, 0, 0, 0, 0, 0, 0, 0, 0, 0, 0, 0, 0, 0, 0, 0, 0, 0, 0, 0, 0, 0, 0, 0, 0, 0, 0, 0, 0, 0, 0, 0, 0, 0, 0, 0, 0, 0, 0, 0, 0, 0, 0, 0, 0, 0, 0, 0, 0, 0, 0, 0, 0, 0, 0, 0, 0, 0, 0, 0, 0, 0, 0, 0, 0, 0, 0, 0, 0, 0, 0, 0, 0, 0, 0, 0, 0, 0, 0, 0, 0, 0, 0, 0, 0, 0, 0, 0, 0, 0, 0, 0, 0, 0, 0, 0, 0, 0, 0, 0, 0, 0, 0, 0, 0, 0, 0, 0, 0, 0, 0, 0, 0, 0, 0, 0, 0, 0, 0, 0, 0, 0, 0, 0, 0, 0, 0, 0, 0, 0, 0, 0, 0, 0, 0, 0, 0, 0, 0, 0, 0, 0, 0, 0, 0, 0, 0, 0, 0, 0, 0, 0, 0, 0, 0, 0, 0, 0, 0, 0, 0, 0, 0, 0, 0, 0, 0, 0, 0, 0, 0, 0, 0, 0, 0, 0, 0, 0, 0, 0, 0, 0, 0, 0, 0, 0, 0, 0, 0, 0, 0, 0, 0, 0, 0, 0, 0, 0, 0, 0, 0, 0, 0, 0, 0, 0, 0, 0, 0, 0, 0, 0, 0, 0, 0, 0, 0, 0, 0, 0, 0, 0, 0, 0, 0, 0, 0, 0, 0, 0, 0, 0, 0, 0, 0, 0, 0, 0, 0, 0, 0, 0, 0, 0, 0, 0, 0, 0, 0, 0, 0, 0, 0, 0, 0, 0, 0, 0, 0, 0, 0, 0, 0, 0, 0, 0, 0, 0, 0, 0, 0, 0, 0, 0, 0, 0, 0, 0, 0, 0, 0, 0, 0, 0, 0, 0, 0, 0, 0, 0, 0, 0, 0, 0, 0, 0, 0, 0, 0, 0, 0, 0, 0, 0, 0, 0, 0, 0, 0, 0, 0, 0, 0, 0, 0, 0, 0, 0, 0, 0, 0, 0, 0, 0, 0, 0, 0, 0, 0, 0, 0, 0, 0, 0, 0, 0, 0, 0, 0, 0, 0, 0]\n"
     ]
    }
   ],
   "source": [
    "def tfidf_feature_extractor(doc, vocab, IDF):\n",
    "    tokens = pre_processing_by_nltk(doc)\n",
    "    for i, token in enumerate(tokens):\n",
    "        if token not in vocab:\n",
    "            tokens[i] = '<UNK>'\n",
    "    TF = defaultdict(int)\n",
    "    for token in tokens:\n",
    "        TF[token] += 1\n",
    "    x = [0] * len(vocab)\n",
    "    for token in set(tokens):\n",
    "        tfidf = log(TF[token] + 1) * IDF[token]\n",
    "        token_id = vocab[token]\n",
    "#         print(token, TF[token], IDF[token])\n",
    "        x[token_id] = tfidf \n",
    "    return x\n",
    "\n",
    "x = tfidf_feature_extractor('tweets', vocab, IDF)\n",
    "print(x)"
   ]
  },
  {
   "cell_type": "code",
   "execution_count": 21,
   "metadata": {
    "colab": {
     "base_uri": "https://localhost:8080/"
    },
    "id": "yWqTzew8oSoK",
    "outputId": "ca96e860-841f-41f6-b410-81808d16bc8c"
   },
   "outputs": [
    {
     "name": "stderr",
     "output_type": "stream",
     "text": [
      "100%|████████████████████████████████████████████████████████████████████████| 219294/219294 [01:45<00:00, 2073.03it/s]\n"
     ]
    }
   ],
   "source": [
    "X = []\n",
    "for doc in tqdm(df.tweets):\n",
    "    X.append(tfidf_feature_extractor(doc, vocab, IDF))\n",
    "y = list(df.labels)"
   ]
  },
  {
   "cell_type": "markdown",
   "metadata": {},
   "source": [
    "binary-valued vector "
   ]
  },
  {
   "cell_type": "code",
   "execution_count": 22,
   "metadata": {},
   "outputs": [
    {
     "name": "stderr",
     "output_type": "stream",
     "text": [
      "100%|████████████████████████████████████████████████████████████████████████| 219294/219294 [01:42<00:00, 2130.50it/s]\n"
     ]
    }
   ],
   "source": [
    "def if_exist_vocab(doc, vocab):\n",
    "    tokens = pre_processing_by_nltk(doc)  \n",
    "    for i, token in enumerate(tokens): \n",
    "         if token not in vocab:\n",
    "            tokens[i] = '<UNK>'\n",
    "    x = [0] * len(vocab)    \n",
    "    for token in set(tokens):  \n",
    "        token_id = vocab[token]\n",
    "        x[token_id] = 1\n",
    "    return x\n",
    "X = []\n",
    "for doc in tqdm(df.tweets):\n",
    "    X.append(if_exist_vocab(doc, vocab))"
   ]
  },
  {
   "cell_type": "code",
   "execution_count": 23,
   "metadata": {},
   "outputs": [],
   "source": [
    "from sklearn.model_selection import train_test_split\n",
    "\n",
    "X_train, X_test, y_train, y_test = train_test_split(X, y, random_state=42, test_size=0.2, shuffle=True)"
   ]
  },
  {
   "cell_type": "code",
   "execution_count": 24,
   "metadata": {},
   "outputs": [],
   "source": [
    "from sklearn.discriminant_analysis import LinearDiscriminantAnalysis as LDA"
   ]
  },
  {
   "cell_type": "code",
   "execution_count": 25,
   "metadata": {},
   "outputs": [
    {
     "data": {
      "text/html": [
       "<style>#sk-container-id-1 {color: black;background-color: white;}#sk-container-id-1 pre{padding: 0;}#sk-container-id-1 div.sk-toggleable {background-color: white;}#sk-container-id-1 label.sk-toggleable__label {cursor: pointer;display: block;width: 100%;margin-bottom: 0;padding: 0.3em;box-sizing: border-box;text-align: center;}#sk-container-id-1 label.sk-toggleable__label-arrow:before {content: \"▸\";float: left;margin-right: 0.25em;color: #696969;}#sk-container-id-1 label.sk-toggleable__label-arrow:hover:before {color: black;}#sk-container-id-1 div.sk-estimator:hover label.sk-toggleable__label-arrow:before {color: black;}#sk-container-id-1 div.sk-toggleable__content {max-height: 0;max-width: 0;overflow: hidden;text-align: left;background-color: #f0f8ff;}#sk-container-id-1 div.sk-toggleable__content pre {margin: 0.2em;color: black;border-radius: 0.25em;background-color: #f0f8ff;}#sk-container-id-1 input.sk-toggleable__control:checked~div.sk-toggleable__content {max-height: 200px;max-width: 100%;overflow: auto;}#sk-container-id-1 input.sk-toggleable__control:checked~label.sk-toggleable__label-arrow:before {content: \"▾\";}#sk-container-id-1 div.sk-estimator input.sk-toggleable__control:checked~label.sk-toggleable__label {background-color: #d4ebff;}#sk-container-id-1 div.sk-label input.sk-toggleable__control:checked~label.sk-toggleable__label {background-color: #d4ebff;}#sk-container-id-1 input.sk-hidden--visually {border: 0;clip: rect(1px 1px 1px 1px);clip: rect(1px, 1px, 1px, 1px);height: 1px;margin: -1px;overflow: hidden;padding: 0;position: absolute;width: 1px;}#sk-container-id-1 div.sk-estimator {font-family: monospace;background-color: #f0f8ff;border: 1px dotted black;border-radius: 0.25em;box-sizing: border-box;margin-bottom: 0.5em;}#sk-container-id-1 div.sk-estimator:hover {background-color: #d4ebff;}#sk-container-id-1 div.sk-parallel-item::after {content: \"\";width: 100%;border-bottom: 1px solid gray;flex-grow: 1;}#sk-container-id-1 div.sk-label:hover label.sk-toggleable__label {background-color: #d4ebff;}#sk-container-id-1 div.sk-serial::before {content: \"\";position: absolute;border-left: 1px solid gray;box-sizing: border-box;top: 0;bottom: 0;left: 50%;z-index: 0;}#sk-container-id-1 div.sk-serial {display: flex;flex-direction: column;align-items: center;background-color: white;padding-right: 0.2em;padding-left: 0.2em;position: relative;}#sk-container-id-1 div.sk-item {position: relative;z-index: 1;}#sk-container-id-1 div.sk-parallel {display: flex;align-items: stretch;justify-content: center;background-color: white;position: relative;}#sk-container-id-1 div.sk-item::before, #sk-container-id-1 div.sk-parallel-item::before {content: \"\";position: absolute;border-left: 1px solid gray;box-sizing: border-box;top: 0;bottom: 0;left: 50%;z-index: -1;}#sk-container-id-1 div.sk-parallel-item {display: flex;flex-direction: column;z-index: 1;position: relative;background-color: white;}#sk-container-id-1 div.sk-parallel-item:first-child::after {align-self: flex-end;width: 50%;}#sk-container-id-1 div.sk-parallel-item:last-child::after {align-self: flex-start;width: 50%;}#sk-container-id-1 div.sk-parallel-item:only-child::after {width: 0;}#sk-container-id-1 div.sk-dashed-wrapped {border: 1px dashed gray;margin: 0 0.4em 0.5em 0.4em;box-sizing: border-box;padding-bottom: 0.4em;background-color: white;}#sk-container-id-1 div.sk-label label {font-family: monospace;font-weight: bold;display: inline-block;line-height: 1.2em;}#sk-container-id-1 div.sk-label-container {text-align: center;}#sk-container-id-1 div.sk-container {/* jupyter's `normalize.less` sets `[hidden] { display: none; }` but bootstrap.min.css set `[hidden] { display: none !important; }` so we also need the `!important` here to be able to override the default hidden behavior on the sphinx rendered scikit-learn.org. See: https://github.com/scikit-learn/scikit-learn/issues/21755 */display: inline-block !important;position: relative;}#sk-container-id-1 div.sk-text-repr-fallback {display: none;}</style><div id=\"sk-container-id-1\" class=\"sk-top-container\"><div class=\"sk-text-repr-fallback\"><pre>LinearDiscriminantAnalysis()</pre><b>In a Jupyter environment, please rerun this cell to show the HTML representation or trust the notebook. <br />On GitHub, the HTML representation is unable to render, please try loading this page with nbviewer.org.</b></div><div class=\"sk-container\" hidden><div class=\"sk-item\"><div class=\"sk-estimator sk-toggleable\"><input class=\"sk-toggleable__control sk-hidden--visually\" id=\"sk-estimator-id-1\" type=\"checkbox\" checked><label for=\"sk-estimator-id-1\" class=\"sk-toggleable__label sk-toggleable__label-arrow\">LinearDiscriminantAnalysis</label><div class=\"sk-toggleable__content\"><pre>LinearDiscriminantAnalysis()</pre></div></div></div></div></div>"
      ],
      "text/plain": [
       "LinearDiscriminantAnalysis()"
      ]
     },
     "execution_count": 25,
     "metadata": {},
     "output_type": "execute_result"
    }
   ],
   "source": [
    "# create LDA model\n",
    "model = LDA()\n",
    "\n",
    "# fit the model to the training data\n",
    "model.fit(X_train, y_train)\n"
   ]
  },
  {
   "cell_type": "code",
   "execution_count": 26,
   "metadata": {},
   "outputs": [
    {
     "name": "stdout",
     "output_type": "stream",
     "text": [
      "Accuracy: 0.8050571148452997\n",
      "F1 Score: 0.7761177621328971\n",
      "Recall: 0.7648387871576275\n"
     ]
    }
   ],
   "source": [
    "# make predictions on the test data\n",
    "y_pred = model.predict(X_test)\n",
    "\n",
    "# evaluate the performance of the model\n",
    "from sklearn.metrics import accuracy_score, f1_score, recall_score\n",
    "\n",
    "accuracy = accuracy_score(y_test, y_pred)\n",
    "f1 = f1_score(y_test, y_pred, average='macro')\n",
    "recall = recall_score(y_test, y_pred, average='macro')\n",
    "\n",
    "print('Accuracy:', accuracy)\n",
    "print('F1 Score:', f1)\n",
    "print('Recall:', recall)\n"
   ]
  },
  {
   "cell_type": "markdown",
   "metadata": {},
   "source": [
    "2"
   ]
  },
  {
   "cell_type": "code",
   "execution_count": 58,
   "metadata": {},
   "outputs": [],
   "source": [
    "from sklearn.metrics import f1_score, recall_score\n",
    "\n",
    "f1 = f1_score(y_test, y_pred, average='weighted')\n",
    "recall = recall_score(y_test, y_pred, average='weighted')\n"
   ]
  },
  {
   "cell_type": "code",
   "execution_count": 59,
   "metadata": {},
   "outputs": [
    {
     "name": "stderr",
     "output_type": "stream",
     "text": [
      "100%|█████████████████████████████████| 219294/219294 [02:01<00:00, 1810.13it/s]\n"
     ]
    }
   ],
   "source": [
    "def tf(doc, vocab):\n",
    "    tokens = pre_processing_by_nltk(doc)\n",
    "    for i, token in enumerate(tokens):\n",
    "        if token not in vocab:\n",
    "            tokens[i] = '<UNK>'\n",
    "    x = [0] * len(vocab)\n",
    "    for token in tokens:\n",
    "        token_id = vocab[token]\n",
    "        x[token_id] += 1   \n",
    "    return x\n",
    "X = []\n",
    "for doc in tqdm(df.tweets):\n",
    "    X.append(tf(doc, vocab))"
   ]
  },
  {
   "cell_type": "code",
   "execution_count": 60,
   "metadata": {},
   "outputs": [],
   "source": [
    "X_train, X_test, y_train, y_test = train_test_split(X, y, random_state=42, test_size=0.2, shuffle=True)"
   ]
  },
  {
   "cell_type": "code",
   "execution_count": 27,
   "metadata": {},
   "outputs": [
    {
     "name": "stdout",
     "output_type": "stream",
     "text": [
      "Accuracy: 0.8050571148452997\n",
      "F1 Score: 0.7761177621328971\n",
      "Recall: 0.7648387871576275\n"
     ]
    }
   ],
   "source": [
    "# create LDA model\n",
    "model = LDA()\n",
    "\n",
    "# fit the model to the training data\n",
    "model.fit(X_train, y_train)\n",
    "\n",
    "# make predictions on the test data\n",
    "y_pred = model.predict(X_test)\n",
    "\n",
    "# evaluate the performance of the model\n",
    "from sklearn.metrics import accuracy_score, f1_score, recall_score\n",
    "\n",
    "accuracy = accuracy_score(y_test, y_pred)\n",
    "f1 = f1_score(y_test, y_pred, average='macro')\n",
    "recall = recall_score(y_test, y_pred, average='macro')\n",
    "\n",
    "print('Accuracy:', accuracy)\n",
    "print('F1 Score:', f1)\n",
    "print('Recall:', recall)"
   ]
  },
  {
   "cell_type": "code",
   "execution_count": null,
   "metadata": {},
   "outputs": [],
   "source": []
  },
  {
   "cell_type": "code",
   "execution_count": 28,
   "metadata": {},
   "outputs": [],
   "source": [
    "from sklearn.feature_extraction.text import TfidfVectorizer\n",
    "tfidf = TfidfVectorizer(strip_accents=None,\n",
    "                        lowercase=True,preprocessor=None,\n",
    "                        tokenizer=pre_processing_by_nltk,\n",
    "                        use_idf=True,\n",
    "                        norm='l2',\n",
    "                        smooth_idf=True)"
   ]
  },
  {
   "cell_type": "code",
   "execution_count": 29,
   "metadata": {},
   "outputs": [
    {
     "name": "stderr",
     "output_type": "stream",
     "text": [
      "C:\\Users\\18384\\anaconda3\\lib\\site-packages\\sklearn\\feature_extraction\\text.py:528: UserWarning: The parameter 'token_pattern' will not be used since 'tokenizer' is not None'\n",
      "  warnings.warn(\n"
     ]
    }
   ],
   "source": [
    "X = tfidf.fit_transform(df.tweets)\n",
    "X_train, X_test, y_train, y_test = train_test_split(X, y, random_state=42, test_size=0.2, shuffle=True)"
   ]
  },
  {
   "cell_type": "code",
   "execution_count": 30,
   "metadata": {},
   "outputs": [
    {
     "name": "stderr",
     "output_type": "stream",
     "text": [
      "100%|████████████████████████████████████████████████████████████████████████| 219294/219294 [01:44<00:00, 2091.71it/s]\n"
     ]
    }
   ],
   "source": [
    "def tf(doc, vocab):\n",
    "    tokens = pre_processing_by_nltk(doc)\n",
    "    for i, token in enumerate(tokens):\n",
    "        if token not in vocab:\n",
    "            tokens[i] = '<UNK>'\n",
    "    x = [0] * len(vocab)\n",
    "    for token in tokens:\n",
    "        token_id = vocab[token]\n",
    "        x[token_id] += 1   \n",
    "    return x\n",
    "X = []\n",
    "for doc in tqdm(df.tweets):\n",
    "    X.append(tf(doc, vocab))"
   ]
  },
  {
   "cell_type": "code",
   "execution_count": null,
   "metadata": {},
   "outputs": [],
   "source": [
    "# create LDA model\n",
    "model = LDA()\n",
    "\n",
    "# fit the model to the training data\n",
    "model.fit(X_train, y_train)\n",
    "\n",
    "# make predictions on the test data\n",
    "y_pred = model.predict(X_test)\n",
    "\n",
    "# evaluate the performance of the model\n",
    "from sklearn.metrics import accuracy_score, f1_score, recall_score\n",
    "\n",
    "accuracy = accuracy_score(y_test, y_pred)\n",
    "f1 = f1_score(y_test, y_pred, average='macro')\n",
    "recall = recall_score(y_test, y_pred, average='macro')\n",
    "\n",
    "print('Accuracy:', accuracy)\n",
    "print('F1 Score:', f1)\n",
    "print('Recall:', recall)"
   ]
  },
  {
   "cell_type": "code",
   "execution_count": null,
   "metadata": {},
   "outputs": [],
   "source": []
  }
 ],
 "metadata": {
  "colab": {
   "provenance": []
  },
  "kernelspec": {
   "display_name": "Python 3 (ipykernel)",
   "language": "python",
   "name": "python3"
  },
  "language_info": {
   "codemirror_mode": {
    "name": "ipython",
    "version": 3
   },
   "file_extension": ".py",
   "mimetype": "text/x-python",
   "name": "python",
   "nbconvert_exporter": "python",
   "pygments_lexer": "ipython3",
   "version": "3.9.13"
  }
 },
 "nbformat": 4,
 "nbformat_minor": 1
}
